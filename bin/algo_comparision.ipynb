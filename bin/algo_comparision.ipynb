{
 "cells": [
  {
   "cell_type": "code",
   "execution_count": 1,
   "metadata": {
    "pycharm": {
     "is_executing": true,
     "name": "#%%\n"
    }
   },
   "outputs": [
    {
     "name": "stdout",
     "output_type": "stream",
     "text": [
      "1260\n",
      "438\n"
     ]
    }
   ],
   "source": [
    "import matplotlib.pyplot as plt\n",
    "from collections import namedtuple\n",
    "import numpy as np\n",
    "import csv\n",
    "from copy import deepcopy\n",
    "\n",
    "algorithms= [\"Metis\", \"EmbedBalanced\", \"EmbedPartition\",\n",
    "             \"EmbedGreedy\", \"RandomPlacer\",\"RoundRobin\",\n",
    "             \"SwitchBinPlacer\"]\n",
    "\n",
    "labels = ['K', 'CORES','MEMORY','RATE','DENSITY',\n",
    "                   \"EMBEDGREEDY_HOSTS\", \"EMBEDBALANCED_HOSTS\", \"EMBEDPARTITION_HOSTS\", \"METIS_HOSTS\",\n",
    "                  \"METIS_HOST_CPU_OVERCOMMITMENT\", \"METIS_HOST_MEMORY_OVERCOMMITMENT\", \"METIS_HOST_LINK_OVERCOMMITMENT\",\"METIS_MAX_CPU_OVERCOMMITMENT\", \"METIS_MAX_MEMORY_OVERCOMMITMENT\", \"METIS_MAX_LINK_OVERCOMMITMENT\",\n",
    "                  \"RANDOM_HOSTS\",\"RANDOM_HOST_CPU_OVERCOMMITMENT\", \"RANDOM_HOST_MEMORY_OVERCOMMITMENT\", \"RANDOM_HOST_LINK_OVERCOMMITMENT\",\"RANDOM_MAX_CPU_OVERCOMMITMENT\", \"RANDOM_MAX_MEMORY_OVERCOMMITMENT\", \"RANDOM_MAX_LINK_OVERCOMMITMENT\",\n",
    "                  \"ROUNDROBIN_HOSTS\",\"ROUNDROBIN_HOST_CPU_OVERCOMMITMENT\", \"ROUNDROBIN_HOST_MEMORY_OVERCOMMITMENT\", \"ROUNDROBIN_HOST_LINK_OVERCOMMITMENT\",\"ROUNDROBIN_MAX_CPU_OVERCOMMITMENT\", \"ROUNDROBIN_MAX_MEMORY_OVERCOMMITMENT\", \"ROUNDROBIN_MAX_LINK_OVERCOMMITMENT\",\n",
    "                  \"SWITCHBIN_HOSTS\", \"SWITCHBIN_HOST_CPU_OVERCOMMITMENT\", \"SWITCHBIN_HOST_MEMORY_OVERCOMMITMENT\", \"SWITCHBIN_HOST_LINK_OVERCOMMITMENT\",\"SWITCHBIN_MAX_CPU_OVERCOMMITMENT\", \"SWITCHBIN_MAX_MEMORY_OVERCOMMITMENT\", \"SWITCHBIN_MAX_LINK_OVERCOMMITMENT\"]\n",
    "\n",
    "\n",
    "\n",
    "\n",
    "experiment_key = namedtuple(\"experiment_key\", labels[:5])\n",
    "experiment_results= namedtuple(\"experiment_results\", labels[5:])\n",
    "e=experiment_key(2,2,4,2,2)\n",
    "clened_data={}\n",
    "with open('pkl/Lyon_fattree.csv') as File:\n",
    "    reader = csv.reader(File, delimiter=';', quotechar=',', quoting=csv.QUOTE_MINIMAL)\n",
    "    \n",
    "    for row in list(reader)[1:]:\n",
    "        #print(row)\n",
    "        key_= experiment_key(*[float(i.replace(\",\",\".\")) for i in row[:5]])\n",
    "        #print(key_)\n",
    "        results_ = experiment_results(*[float(i.replace(\",\",\".\")) if float(i.replace(\",\",\".\")) >= 0 else -1 for i in row[5:]])\n",
    "        #print(results_)\n",
    "        clened_data[key_]=results_\n",
    "\n",
    "filtered_data=dict()\n",
    "for key in clened_data.keys():\n",
    "    if clened_data[key].EMBEDGREEDY_HOSTS>0:\n",
    "        filtered_data[key]=clened_data[key]\n",
    "print(len(clened_data.keys()))\n",
    "\n",
    "print(len(filtered_data.keys()))\n",
    "fattree_cleaned_data=clened_data\n",
    "\n"
   ]
  },
  {
   "cell_type": "code",
   "execution_count": 2,
   "metadata": {
    "pycharm": {
     "name": "#%%\n"
    }
   },
   "outputs": [
    {
     "name": "stdout",
     "output_type": "stream",
     "text": [
      "Embedded Greedy solved\n",
      "438\n",
      "-------------------------\n",
      "Embedded Balanced solved\n",
      "420\n",
      "-------------------------\n",
      "Embedded Partition solved\n",
      "426\n",
      "-------------------------\n",
      "Metis solved without overcommitment\n",
      "205\n",
      "-------------------------\n",
      "Random solved without overcommitment\n",
      "36\n",
      "-------------------------\n",
      "RoundRobin solved without overcommitment\n",
      "46\n",
      "-------------------------\n",
      "SwitchBin solved without overcommitment\n",
      "252\n",
      "-------------------------\n",
      "All solution Marged\n",
      "438\n",
      "-------------------------\n",
      "All solution with solution for all the algos\n",
      "22\n",
      "-------------------------\n",
      "Embedded Greedy solved %\n",
      "100.0 %\n",
      "-------------------------\n",
      "Embedded Balanced solved %\n",
      "95.8904109589041 %\n",
      "-------------------------\n",
      "Embedded Partition solved %\n",
      "97.26027397260275 %\n",
      "-------------------------\n",
      "Metis solved %\n",
      "46.80365296803653 %\n",
      "-------------------------\n",
      "Random solved %\n",
      "8.21917808219178 %\n",
      "-------------------------\n",
      "RoundRobin solved %\n",
      "10.50228310502283 %\n",
      "-------------------------\n",
      "SwitchBin solved %\n",
      "57.534246575342465 %\n",
      "-------------------------\n",
      "All algo solved %\n",
      "5.0228310502283104 %\n",
      "-------------------------\n"
     ]
    }
   ],
   "source": [
    "#print(clened_data.values())\n",
    "print(\"Embedded Greedy solved\")\n",
    "fattree_eg_solved=list(filter(lambda x:clened_data[x].EMBEDGREEDY_HOSTS>0, clened_data.keys()))\n",
    "print(len(fattree_eg_solved))\n",
    "print(\"-------------------------\")\n",
    "\n",
    "print(\"Embedded Balanced solved\")\n",
    "fattree_eb_solved=list(filter(lambda x:clened_data[x].EMBEDBALANCED_HOSTS>0, clened_data.keys()))\n",
    "print(len(fattree_eb_solved))\n",
    "print(\"-------------------------\")\n",
    "\n",
    "print(\"Embedded Partition solved\")\n",
    "fattree_ep_solved=list(filter(lambda x:clened_data[x].EMBEDPARTITION_HOSTS>0, clened_data.keys()))\n",
    "print(len(fattree_ep_solved))\n",
    "print(\"-------------------------\")\n",
    "\n",
    "print(\"Metis solved without overcommitment\")\n",
    "fattree_metis_solved=list(filter(lambda x:clened_data[x].METIS_HOST_CPU_OVERCOMMITMENT==0.0 and clened_data[x].METIS_HOST_MEMORY_OVERCOMMITMENT==0.0 and clened_data[x].METIS_HOST_LINK_OVERCOMMITMENT==0.0, clened_data.keys()))\n",
    "print(len(fattree_metis_solved))\n",
    "print(\"-------------------------\")\n",
    "\n",
    "print(\"Random solved without overcommitment\")\n",
    "fattree_random_solved=list(filter(lambda x:clened_data[x].RANDOM_HOST_CPU_OVERCOMMITMENT==0.0 and clened_data[x].RANDOM_HOST_MEMORY_OVERCOMMITMENT==0.0 and clened_data[x].RANDOM_HOST_LINK_OVERCOMMITMENT==0.0, clened_data.keys()))\n",
    "print(len(fattree_random_solved))\n",
    "print(\"-------------------------\")\n",
    "\n",
    "print(\"RoundRobin solved without overcommitment\")\n",
    "fattree_roundrobin_solved = list(filter(lambda x:clened_data[x].ROUNDROBIN_HOST_CPU_OVERCOMMITMENT==0.0 and clened_data[x].ROUNDROBIN_HOST_MEMORY_OVERCOMMITMENT==0.0 and clened_data[x].ROUNDROBIN_HOST_LINK_OVERCOMMITMENT==0.0, clened_data.keys()))\n",
    "print(len(fattree_roundrobin_solved))\n",
    "print(\"-------------------------\")\n",
    "\n",
    "print(\"SwitchBin solved without overcommitment\")\n",
    "fattree_switchBin_solved = list(filter(lambda x:clened_data[x].SWITCHBIN_HOST_CPU_OVERCOMMITMENT==0.0 and clened_data[x].SWITCHBIN_HOST_MEMORY_OVERCOMMITMENT==0.0 and clened_data[x].SWITCHBIN_HOST_LINK_OVERCOMMITMENT==0.0, clened_data.keys()))\n",
    "print(len(fattree_switchBin_solved))\n",
    "print(\"-------------------------\")\n",
    "\n",
    "print(\"All solution Marged\")\n",
    "fattree_all_solution_marged=set(fattree_eg_solved+fattree_eb_solved+fattree_ep_solved+fattree_metis_solved+fattree_random_solved+fattree_roundrobin_solved+fattree_switchBin_solved)\n",
    "print(len(fattree_all_solution_marged))\n",
    "print(\"-------------------------\")\n",
    "\n",
    "print(\"All solution with solution for all the algos\")\n",
    "fattree_instances_with_solution_for_all= fattree_all_solution_marged.intersection(set(fattree_eg_solved),set(fattree_eb_solved),set(fattree_ep_solved),set(fattree_metis_solved),set(fattree_random_solved),set(fattree_roundrobin_solved),set(fattree_switchBin_solved))\n",
    "print(len(fattree_instances_with_solution_for_all))\n",
    "print(\"-------------------------\")\n",
    "\n",
    "\n",
    "print(\"Embedded Greedy solved %\")\n",
    "print(len(fattree_eg_solved)/len(fattree_all_solution_marged) * 100,\"%\")\n",
    "print(\"-------------------------\")\n",
    "\n",
    "print(\"Embedded Balanced solved %\")\n",
    "print(len(fattree_eb_solved)/len(fattree_all_solution_marged) * 100,\"%\")\n",
    "print(\"-------------------------\")\n",
    "\n",
    "print(\"Embedded Partition solved %\")\n",
    "print(len(fattree_ep_solved)/len(fattree_all_solution_marged) * 100,\"%\")\n",
    "print(\"-------------------------\")\n",
    "\n",
    "print(\"Metis solved %\")\n",
    "print(len(fattree_metis_solved)/len(fattree_all_solution_marged) * 100,\"%\")\n",
    "print(\"-------------------------\")\n",
    "\n",
    "print(\"Random solved %\")\n",
    "print(len(fattree_random_solved)/len(fattree_all_solution_marged) * 100,\"%\")\n",
    "print(\"-------------------------\")\n",
    "\n",
    "print(\"RoundRobin solved %\")\n",
    "print(len(fattree_roundrobin_solved)/len(fattree_all_solution_marged) * 100,\"%\")\n",
    "print(\"-------------------------\")\n",
    "\n",
    "print(\"SwitchBin solved %\")\n",
    "print(len(fattree_switchBin_solved)/len(fattree_all_solution_marged) * 100,\"%\")\n",
    "print(\"-------------------------\")\n",
    "\n",
    "print(\"All algo solved %\")\n",
    "print(len(fattree_instances_with_solution_for_all)/len(fattree_all_solution_marged) * 100,\"%\")\n",
    "print(\"-------------------------\")"
   ]
  },
  {
   "cell_type": "code",
   "execution_count": 3,
   "metadata": {
    "pycharm": {
     "name": "#%%\n"
    }
   },
   "outputs": [],
   "source": [
    "def get_data_ft(dataset,K=None,DENSITY=None,CORES=None,MEMORY=None,RATE=None):\n",
    "    keys=list(dataset.keys())\n",
    "    \n",
    "    if K != None:\n",
    "        keys=list(filter(lambda x: x.K == K, keys))\n",
    "        \n",
    "    if DENSITY != None:\n",
    "        keys=list(filter(lambda x: x.DENSITY == DENSITY, keys))\n",
    "        \n",
    "    if CORES != None:\n",
    "        keys=list(filter(lambda x: x.CORES == CORES, keys))\n",
    "        \n",
    "    if MEMORY != None:\n",
    "        keys=list(filter(lambda x: x.MEMORY == MEMORY, keys))\n",
    "        \n",
    "    if RATE != None:\n",
    "        keys=list(filter(lambda x: x.RATE == RATE, keys))\n",
    "    \n",
    "    data_retrived={}\n",
    "    for k in keys:\n",
    "        data_retrived[k]=dataset[k]\n",
    "        \n",
    "    return data_retrived"
   ]
  },
  {
   "cell_type": "code",
   "execution_count": 4,
   "metadata": {
    "pycharm": {
     "name": "#%%\n"
    }
   },
   "outputs": [],
   "source": [
    "def get_data_rd(dataset,K=None,DENSITY=None,CORES=None,MEMORY=None,RATE=None):\n",
    "    keys=list(dataset.keys())\n",
    "    \n",
    "    if K != None:\n",
    "        keys=list(filter(lambda x: x.N == N, keys))\n",
    "        \n",
    "    if DENSITY != None:\n",
    "        keys=list(filter(lambda x: x.DENSITY == DENSITY, keys))\n",
    "        \n",
    "    if SEED != None:\n",
    "        keys=list(filter(lambda x: x.SEED == SEED, keys))\n",
    "    \n",
    "    data_retrived={}\n",
    "    for k in keys:\n",
    "        data_retrived[k]=dataset[k]\n",
    "        \n",
    "    return data_retrived\n"
   ]
  },
  {
   "cell_type": "code",
   "execution_count": 5,
   "metadata": {
    "pycharm": {
     "name": "#%%\n"
    }
   },
   "outputs": [
    {
     "name": "stdout",
     "output_type": "stream",
     "text": [
      "4500\n",
      "1704\n"
     ]
    }
   ],
   "source": [
    "import matplotlib.pyplot as plt\n",
    "from collections import namedtuple\n",
    "import numpy as np\n",
    "import csv\n",
    "from copy import deepcopy\n",
    "\n",
    "algorithms= [\"Metis\", \"EmbedBalanced\", \"EmbedPartition\",\n",
    "             \"EmbedGreedy\", \"RandomPlacer\",\"RoundRobin\",\n",
    "             \"SwitchBinPlacer\"]\n",
    "\n",
    "labels = ['N', 'DENSITY', 'SEED',\n",
    "                   \"EMBEDGREEDY_HOSTS\", \"EMBEDBALANCED_HOSTS\", \"EMBEDPARTITION_HOSTS\", \"METIS_HOSTS\",\n",
    "                  \"METIS_HOST_CPU_OVERCOMMITMENT\", \"METIS_HOST_MEMORY_OVERCOMMITMENT\", \"METIS_HOST_LINK_OVERCOMMITMENT\",\"METIS_MAX_CPU_OVERCOMMITMENT\", \"METIS_MAX_MEMORY_OVERCOMMITMENT\", \"METIS_MAX_LINK_OVERCOMMITMENT\",\n",
    "                  \"RANDOM_HOSTS\",\"RANDOM_HOST_CPU_OVERCOMMITMENT\", \"RANDOM_HOST_MEMORY_OVERCOMMITMENT\", \"RANDOM_HOST_LINK_OVERCOMMITMENT\",\"RANDOM_MAX_CPU_OVERCOMMITMENT\", \"RANDOM_MAX_MEMORY_OVERCOMMITMENT\", \"RANDOM_MAX_LINK_OVERCOMMITMENT\",\n",
    "                  \"ROUNDROBIN_HOSTS\",\"ROUNDROBIN_HOST_CPU_OVERCOMMITMENT\", \"ROUNDROBIN_HOST_MEMORY_OVERCOMMITMENT\", \"ROUNDROBIN_HOST_LINK_OVERCOMMITMENT\",\"ROUNDROBIN_MAX_CPU_OVERCOMMITMENT\", \"ROUNDROBIN_MAX_MEMORY_OVERCOMMITMENT\", \"ROUNDROBIN_MAX_LINK_OVERCOMMITMENT\",\n",
    "                  \"SWITCHBIN_HOSTS\", \"SWITCHBIN_HOST_CPU_OVERCOMMITMENT\", \"SWITCHBIN_HOST_MEMORY_OVERCOMMITMENT\", \"SWITCHBIN_HOST_LINK_OVERCOMMITMENT\",\"SWITCHBIN_MAX_CPU_OVERCOMMITMENT\", \"SWITCHBIN_MAX_MEMORY_OVERCOMMITMENT\", \"SWITCHBIN_MAX_LINK_OVERCOMMITMENT\"]\n",
    "\n",
    "\n",
    "\n",
    "\n",
    "experiment_key = namedtuple(\"experiment_key\", labels[:3])\n",
    "experiment_results= namedtuple(\"experiment_results\", labels[3:])\n",
    "e=experiment_key(2,0.1,4)\n",
    "clened_data={}\n",
    "with open('pkl/Lyon_random.csv') as File:\n",
    "    reader = csv.reader(File, delimiter=';', quotechar=',', quoting=csv.QUOTE_MINIMAL)\n",
    "    \n",
    "    for row in list(reader)[1:]:\n",
    "        #print(row)\n",
    "        key_= experiment_key(*[float(i.replace(\",\",\".\")) for i in row[:3]])\n",
    "        #print(key_)\n",
    "        results_ = experiment_results(*[float(i.replace(\",\",\".\")) if float(i.replace(\",\",\".\")) >= 0 else -1 for i in row[3:]])\n",
    "        #print(results_)\n",
    "        clened_data[key_]=results_\n",
    "\n",
    "filtered_data=dict()\n",
    "for key in clened_data.keys():\n",
    "    if clened_data[key].EMBEDGREEDY_HOSTS>0:\n",
    "        filtered_data[key]=clened_data[key]\n",
    "print(len(clened_data.keys()))\n",
    "\n",
    "print(len(filtered_data.keys()))\n",
    "\n",
    "random_cleaned_data=clened_data\n",
    "\n"
   ]
  },
  {
   "cell_type": "code",
   "execution_count": 6,
   "metadata": {
    "pycharm": {
     "name": "#%%\n"
    }
   },
   "outputs": [
    {
     "name": "stdout",
     "output_type": "stream",
     "text": [
      "Embedded Greedy solved\n",
      "1704\n",
      "-------------------------\n",
      "Embedded Balanced solved\n",
      "726\n",
      "-------------------------\n",
      "Embedded Partition solved\n",
      "904\n",
      "-------------------------\n",
      "Metis solved without overcommitment\n",
      "226\n",
      "-------------------------\n",
      "Random solved without overcommitment\n",
      "0\n",
      "-------------------------\n",
      "RoundRobin solved without overcommitment\n",
      "0\n",
      "-------------------------\n",
      "SwitchBin solved without overcommitment\n",
      "0\n",
      "-------------------------\n",
      "All solution Marged\n",
      "1704\n",
      "-------------------------\n",
      "All solution with solution for all the algos\n",
      "209\n",
      "-------------------------\n",
      "Embedded Greedy solved %\n",
      "100.0 %\n",
      "-------------------------\n",
      "Embedded Balanced solved %\n",
      "42.6056338028169 %\n",
      "-------------------------\n",
      "Embedded Partition solved %\n",
      "53.051643192488264 %\n",
      "-------------------------\n",
      "Metis solved %\n",
      "13.262910798122066 %\n",
      "-------------------------\n",
      "Random solved %\n",
      "0.0 %\n",
      "-------------------------\n",
      "RoundRobin solved %\n",
      "0.0 %\n",
      "-------------------------\n",
      "SwitchBin solved %\n",
      "0.0 %\n",
      "-------------------------\n",
      "All algo solved %\n",
      "12.26525821596244 %\n",
      "-------------------------\n"
     ]
    }
   ],
   "source": [
    "print(\"Embedded Greedy solved\")\n",
    "random_eg_solved=list(filter(lambda x:clened_data[x].EMBEDGREEDY_HOSTS>0, clened_data.keys()))\n",
    "print(len(random_eg_solved))\n",
    "print(\"-------------------------\")\n",
    "\n",
    "print(\"Embedded Balanced solved\")\n",
    "random_eb_solved=list(filter(lambda x:clened_data[x].EMBEDBALANCED_HOSTS>0, clened_data.keys()))\n",
    "print(len(random_eb_solved))\n",
    "print(\"-------------------------\")\n",
    "\n",
    "print(\"Embedded Partition solved\")\n",
    "random_ep_solved=list(filter(lambda x:clened_data[x].EMBEDPARTITION_HOSTS>0, clened_data.keys()))\n",
    "print(len(random_ep_solved))\n",
    "print(\"-------------------------\")\n",
    "\n",
    "print(\"Metis solved without overcommitment\")\n",
    "random_metis_solved=list(filter(lambda x:clened_data[x].METIS_HOST_CPU_OVERCOMMITMENT==0.0 and clened_data[x].METIS_HOST_MEMORY_OVERCOMMITMENT==0.0 and clened_data[x].METIS_HOST_LINK_OVERCOMMITMENT==0.0, clened_data.keys()))\n",
    "print(len(random_metis_solved))\n",
    "print(\"-------------------------\")\n",
    "\n",
    "print(\"Random solved without overcommitment\")\n",
    "random_random_solved=list(filter(lambda x:clened_data[x].RANDOM_HOST_CPU_OVERCOMMITMENT==0.0 and clened_data[x].RANDOM_HOST_MEMORY_OVERCOMMITMENT==0.0 and clened_data[x].RANDOM_HOST_LINK_OVERCOMMITMENT==0.0, clened_data.keys()))\n",
    "print(len(random_random_solved))\n",
    "print(\"-------------------------\")\n",
    "\n",
    "print(\"RoundRobin solved without overcommitment\")\n",
    "random_roundrobin_solved = list(filter(lambda x:clened_data[x].ROUNDROBIN_HOST_CPU_OVERCOMMITMENT==0.0 and clened_data[x].ROUNDROBIN_HOST_MEMORY_OVERCOMMITMENT==0.0 and clened_data[x].ROUNDROBIN_HOST_LINK_OVERCOMMITMENT==0.0, clened_data.keys()))\n",
    "print(len(random_roundrobin_solved))\n",
    "print(\"-------------------------\")\n",
    "\n",
    "print(\"SwitchBin solved without overcommitment\")\n",
    "random_switchBin_solved = list(filter(lambda x:clened_data[x].SWITCHBIN_HOST_CPU_OVERCOMMITMENT==0.0 and clened_data[x].SWITCHBIN_HOST_MEMORY_OVERCOMMITMENT==0.0 and clened_data[x].SWITCHBIN_HOST_LINK_OVERCOMMITMENT==0.0, clened_data.keys()))\n",
    "print(len(random_switchBin_solved))\n",
    "print(\"-------------------------\")\n",
    "\n",
    "print(\"All solution Marged\")\n",
    "random_all_solution_marged=set(random_eg_solved+random_eb_solved+random_ep_solved+random_metis_solved+random_random_solved+random_roundrobin_solved+random_switchBin_solved)\n",
    "print(len(random_all_solution_marged))\n",
    "print(\"-------------------------\")\n",
    "\n",
    "print(\"All solution with solution for all the algos\")\n",
    "random_instances_with_solution_for_all= random_all_solution_marged.intersection(set(random_eg_solved),set(random_eb_solved),set(random_ep_solved),set(random_metis_solved))#,set(random_random_solved),set(random_roundrobin_solved),set(random_switchBin))\n",
    "print(len(random_instances_with_solution_for_all))\n",
    "print(\"-------------------------\")\n",
    "\n",
    "\n",
    "\n",
    "print(\"Embedded Greedy solved %\")\n",
    "print(len(random_eg_solved)/len(random_all_solution_marged) * 100,\"%\")\n",
    "print(\"-------------------------\")\n",
    "\n",
    "print(\"Embedded Balanced solved %\")\n",
    "print(len(random_eb_solved)/len(random_all_solution_marged) * 100,\"%\")\n",
    "print(\"-------------------------\")\n",
    "\n",
    "print(\"Embedded Partition solved %\")\n",
    "print(len(random_ep_solved)/len(random_all_solution_marged) * 100,\"%\")\n",
    "print(\"-------------------------\")\n",
    "\n",
    "print(\"Metis solved %\")\n",
    "print(len(random_metis_solved)/len(random_all_solution_marged) * 100,\"%\")\n",
    "print(\"-------------------------\")\n",
    "\n",
    "print(\"Random solved %\")\n",
    "print(len(random_random_solved)/len(random_all_solution_marged) * 100,\"%\")\n",
    "print(\"-------------------------\")\n",
    "\n",
    "print(\"RoundRobin solved %\")\n",
    "print(len(random_roundrobin_solved)/len(random_all_solution_marged) * 100,\"%\")\n",
    "print(\"-------------------------\")\n",
    "\n",
    "print(\"SwitchBin solved %\")\n",
    "print(len(random_switchBin_solved)/len(random_all_solution_marged) * 100,\"%\")\n",
    "print(\"-------------------------\")\n",
    "\n",
    "print(\"All algo solved %\")\n",
    "print(len(random_instances_with_solution_for_all)/len(random_all_solution_marged) * 100,\"%\")\n",
    "print(\"-------------------------\")\n"
   ]
  },
  {
   "cell_type": "code",
   "execution_count": 7,
   "metadata": {
    "pycharm": {
     "name": "#%%\n"
    }
   },
   "outputs": [],
   "source": [
    "fattree = [fattree_eg_solved,fattree_eb_solved,fattree_ep_solved,fattree_metis_solved,fattree_random_solved,fattree_roundrobin_solved,fattree_switchBin_solved]\n",
    "random = [random_eg_solved,random_eb_solved,random_ep_solved,random_metis_solved,random_random_solved,random_roundrobin_solved,random_switchBin_solved]"
   ]
  },
  {
   "cell_type": "code",
   "execution_count": 8,
   "metadata": {
    "pycharm": {
     "name": "#%%\n"
    }
   },
   "outputs": [
    {
     "data": {
      "text/plain": [
       "<Figure size 960x480 with 0 Axes>"
      ]
     },
     "metadata": {},
     "output_type": "display_data"
    },
    {
     "data": {
      "image/png": "[encoded data removed]",
      "text/plain": [
       "<Figure size 432x288 with 1 Axes>"
      ]
     },
     "metadata": {
      "needs_background": "light"
     },
     "output_type": "display_data"
    }
   ],
   "source": [
    "fattree_keys = [list(filter(lambda x:x in fattree_instances_with_solution_for_all,solved)) for solved in fattree]\n",
    "random_keys = [list(filter(lambda x:x in random_instances_with_solution_for_all,solved)) for solved in random]\n",
    "fattree_values = [[fattree_cleaned_data[x].EMBEDGREEDY_HOSTS for x in fattree_keys[0]],\n",
    "                  [fattree_cleaned_data[x].EMBEDBALANCED_HOSTS for x in fattree_keys[1]],\n",
    "                  [fattree_cleaned_data[x].EMBEDPARTITION_HOSTS for x in fattree_keys[2]],\n",
    "                  [fattree_cleaned_data[x].METIS_HOSTS for x in fattree_keys[3]],\n",
    "                  [fattree_cleaned_data[x].RANDOM_HOSTS for x in fattree_keys[4]],\n",
    "                  [fattree_cleaned_data[x].ROUNDROBIN_HOSTS for x in fattree_keys[5]],\n",
    "                  [fattree_cleaned_data[x].SWITCHBIN_HOSTS for x in fattree_keys[6]]]\n",
    "\n",
    "random_values = [[random_cleaned_data[x].EMBEDGREEDY_HOSTS for x in random_keys[0]],\n",
    "                  [random_cleaned_data[x].EMBEDBALANCED_HOSTS for x in random_keys[1]],\n",
    "                  [random_cleaned_data[x].EMBEDPARTITION_HOSTS for x in random_keys[2]],\n",
    "                  [random_cleaned_data[x].METIS_HOSTS for x in random_keys[3]],\n",
    "                  [random_cleaned_data[x].RANDOM_HOSTS for x in random_keys[4]],\n",
    "                  [random_cleaned_data[x].ROUNDROBIN_HOSTS for x in random_keys[5]],\n",
    "                  [random_cleaned_data[x].SWITCHBIN_HOSTS for x in random_keys[6]]]\n",
    "\n",
    "import matplotlib.pyplot as plt\n",
    "import numpy as np\n",
    "import matplotlib as mpl\n",
    "mpl.rcParams['text.usetex'] = True\n",
    "SPINE_COLOR = 'gray'\n",
    "import matplotlib.patches as mpatches\n",
    "\n",
    "#PARTITION = DivideSwap\n",
    "#GREEDY = GreedyP\n",
    "#BALANCED = K-balanced\n",
    "color_b1=\"red\"\n",
    "color_b2=\"blue\"\n",
    "\n",
    "\n",
    "\n",
    "ticks = [\"GreedyP\",\"Kbalanced\",\"DivideSwap\",\"Metis\",\"Random\",\"RoundRobin\",\"SwitchBin\"]\n",
    "\n",
    "    \n",
    "plt.figure(num=None, figsize=(12, 6), dpi=80, facecolor='w', edgecolor='k')\n",
    "fig, ax = plt.subplots()\n",
    "b1 = plt.boxplot(fattree_values, positions=np.array(range(len(fattree_values)))*2.0-0.5, sym='', widths=0.6,whis=[0,100],boxprops=dict(color=color_b1),\n",
    "            capprops=dict(color=color_b1),\n",
    "            whiskerprops=dict(color=color_b1),\n",
    "            flierprops=dict(color=color_b1, markeredgecolor=color_b1),\n",
    "            medianprops=dict(color=color_b1,linewidth=4))\n",
    "b2 = plt.boxplot(random_values, positions=np.array(range(len(random_values)))*2.0+0.5, sym='', widths=0.6,whis=[0,100],boxprops=dict(color=color_b2),\n",
    "            capprops=dict(color=color_b2),\n",
    "            whiskerprops=dict(color=color_b2),\n",
    "            flierprops=dict(color=color_b2, markeredgecolor=color_b2),\n",
    "            medianprops=dict(color=color_b2,linewidth=4))\n",
    "\n",
    "\n",
    "\n",
    "# draw temporary red and blue lines and use them to create a legend\n",
    "ax.tick_params(axis='x', rotation=60)\n",
    "plt.xticks(range(0, len(ticks) * 2 + 2, 2), ticks)\n",
    "plt.tick_params(axis='both', labelsize=12)\n",
    "\n",
    "plt.yticks(range(0, 21), range(0, 21))\n",
    "\n",
    "plt.ylabel(r'\\textbf{Number of physical hosts}', fontsize=12)\n",
    "plt.xlabel(r'\\textbf{Algorithm}', fontsize=12)\n",
    "\n",
    "plt.xticks(list(range(0,len(ticks)*2+2,2)), [f'${i}$' for i in ticks])\n",
    "\n",
    "for i in range(0,len(ticks)*2,2):\n",
    "    plt.axvline(x=i+1,color=\"black\")\n",
    "    \n",
    "plt.tick_params(axis='x', rotation=60)\n",
    "plt.grid(axis='y')\n",
    "plt.xlim(-1, 13)\n",
    "plt.ylim(0, 21)\n",
    "\n",
    "lables_patchs = []\n",
    "font = {'family': 'serif',\n",
    "        'color':  'black',\n",
    "        'weight': 'normal',\n",
    "        'size': 16,\n",
    "        }\n",
    "\n",
    "add_patch = mpatches.Patch(color=color_b1, label=\"vFatTree\")\n",
    "lables_patchs.append(add_patch)\n",
    "\n",
    "add_patch = mpatches.Patch(color=color_b2, label=\"vRandom\")\n",
    "lables_patchs.append(add_patch)\n",
    "lables = [\"vFatTree\",\"vRandom\"]\n",
    "\n",
    "plt.legend(lables_patchs,lables, fontsize=12, ncol=2, loc=\"upper center\")\n",
    "plt.title(r'\\textbf{Number of hosts used in Lyon cluster}', fontsize=14)\n",
    "\n",
    "\n",
    "plt.savefig('Lyon_solutions_all_algo.pdf',bbox_inches='tight')\n",
    "#plt.show()\n",
    "#plt.yscale(\"log\")\n"
   ]
  },
  {
   "cell_type": "code",
   "execution_count": 9,
   "metadata": {
    "pycharm": {
     "name": "#%%\n"
    }
   },
   "outputs": [
    {
     "data": {
      "text/plain": [
       "<Figure size 960x480 with 0 Axes>"
      ]
     },
     "metadata": {},
     "output_type": "display_data"
    },
    {
     "data": {
      "image/png": "[encoded data removed]",
      "text/plain": [
       "<Figure size 432x288 with 1 Axes>"
      ]
     },
     "metadata": {
      "needs_background": "light"
     },
     "output_type": "display_data"
    }
   ],
   "source": [
    "fattree_keys = [list(filter(lambda x:x in fattree_instances_with_solution_for_all,solved)) for solved in fattree]\n",
    "random_keys = [list(filter(lambda x:x in random_instances_with_solution_for_all,solved)) for solved in random]\n",
    "fattree_values = [[fattree_cleaned_data[x].EMBEDGREEDY_HOSTS for x in sorted(fattree_keys[0])],\n",
    "                  [fattree_cleaned_data[x].EMBEDBALANCED_HOSTS for x in sorted(fattree_keys[1])],\n",
    "                  [fattree_cleaned_data[x].EMBEDPARTITION_HOSTS for x in sorted(fattree_keys[2])],\n",
    "                  [fattree_cleaned_data[x].METIS_HOSTS for x in sorted(fattree_keys[3])],\n",
    "                  [fattree_cleaned_data[x].RANDOM_HOSTS for x in sorted(fattree_keys[4])],\n",
    "                  [fattree_cleaned_data[x].ROUNDROBIN_HOSTS for x in sorted(fattree_keys[5])],\n",
    "                  [fattree_cleaned_data[x].SWITCHBIN_HOSTS for x in sorted(fattree_keys[6])]]\n",
    "\n",
    "for i in range(0,len(fattree_values[0])):\n",
    "    minimum_solution = min([fattree_values[j][i] for j in range(0,len(fattree_values))])\n",
    "    for j in range(0,len(fattree_values)):\n",
    "        fattree_values[j][i] -= minimum_solution\n",
    "\n",
    "\n",
    "\n",
    "random_values = [[random_cleaned_data[x].EMBEDGREEDY_HOSTS for x in random_keys[0]],\n",
    "                  [random_cleaned_data[x].EMBEDBALANCED_HOSTS for x in random_keys[1]],\n",
    "                  [random_cleaned_data[x].EMBEDPARTITION_HOSTS for x in random_keys[2]],\n",
    "                  [random_cleaned_data[x].METIS_HOSTS for x in random_keys[3]],\n",
    "                  [random_cleaned_data[x].RANDOM_HOSTS for x in random_keys[4]],\n",
    "                  [random_cleaned_data[x].ROUNDROBIN_HOSTS for x in random_keys[5]],\n",
    "                  [random_cleaned_data[x].SWITCHBIN_HOSTS for x in random_keys[6]]]\n",
    "\n",
    "\n",
    "\n",
    "for i in range(0,len(random_values[0])):\n",
    "    minimum_solution = min([random_values[j][i] for j in range(0,len(random_values)-3)]) # -3 removes the solution that do not exists\n",
    "    for j in range(0,len(random_values)-3): # -3 removes the solution that do not exists\n",
    "        random_values[j][i] -= minimum_solution\n",
    "\n",
    "\n",
    "import matplotlib.pyplot as plt\n",
    "import numpy as np\n",
    "import matplotlib as mpl\n",
    "mpl.rcParams['text.usetex'] = True\n",
    "SPINE_COLOR = 'gray'\n",
    "import matplotlib.patches as mpatches\n",
    "\n",
    "#PARTITION = DivideSwap\n",
    "#GREEDY = GreedyP\n",
    "#BALANCED = K-balanced\n",
    "color_b1=\"red\"\n",
    "color_b2=\"blue\"\n",
    "\n",
    "\n",
    "\n",
    "ticks = [\"GreedyP\",\"Kbalanced\",\"DivideSwap\",\"Metis\",\"Random\",\"RoundRobin\",\"SwitchBin\"]\n",
    "\n",
    "    \n",
    "plt.figure(num=None, figsize=(12, 6), dpi=80, facecolor='w', edgecolor='k')\n",
    "fig, ax = plt.subplots()\n",
    "b1 = plt.boxplot(fattree_values, positions=np.array(range(len(fattree_values)))*2.0-0.5, sym='', widths=0.6,whis=[0,100],boxprops=dict(color=color_b1),\n",
    "            capprops=dict(color=color_b1),\n",
    "            whiskerprops=dict(color=color_b1),\n",
    "            flierprops=dict(color=color_b1, markeredgecolor=color_b1),\n",
    "            medianprops=dict(color=color_b1,linewidth=4))\n",
    "b2 = plt.boxplot(random_values, positions=np.array(range(len(random_values)))*2.0+0.5, sym='', widths=0.6,whis=[0,100],boxprops=dict(color=color_b2),\n",
    "            capprops=dict(color=color_b2),\n",
    "            whiskerprops=dict(color=color_b2),\n",
    "            flierprops=dict(color=color_b2, markeredgecolor=color_b2),\n",
    "            medianprops=dict(color=color_b2,linewidth=4))\n",
    "\n",
    "\n",
    "\n",
    "# draw temporary red and blue lines and use them to create a legend\n",
    "ax.tick_params(axis='x', rotation=60)\n",
    "plt.xticks(range(0, len(ticks) * 2 + 2, 2), ticks)\n",
    "plt.tick_params(axis='both', labelsize=12)\n",
    "\n",
    "plt.yticks(range(0, 21), range(0, 21))\n",
    "\n",
    "plt.ylabel(r'\\textbf{Distance [\\# of hosts]}', fontsize=12)\n",
    "plt.xlabel(r'\\textbf{Algorithm}', fontsize=12)\n",
    "\n",
    "plt.xticks(list(range(0,len(ticks)*2+2,2)), [f'${i}$' for i in ticks])\n",
    "\n",
    "for i in range(0,len(ticks)*2,2):\n",
    "    plt.axvline(x=i+1,color=\"black\")\n",
    "    \n",
    "plt.tick_params(axis='x', rotation=60)\n",
    "plt.grid(axis='y')\n",
    "plt.xlim(-1, 13)\n",
    "plt.ylim(0, 21)\n",
    "\n",
    "lables_patchs = []\n",
    "font = {'family': 'serif',\n",
    "        'color':  'black',\n",
    "        'weight': 'normal',\n",
    "        'size': 16,\n",
    "        }\n",
    "\n",
    "add_patch = mpatches.Patch(color=color_b1, label=\"vFatTree\")\n",
    "lables_patchs.append(add_patch)\n",
    "\n",
    "add_patch = mpatches.Patch(color=color_b2, label=\"vRandom\")\n",
    "lables_patchs.append(add_patch)\n",
    "lables = [\"vFatTree\",\"vRandom\"]\n",
    "\n",
    "plt.legend(lables_patchs,lables, fontsize=12, ncol=2, loc=\"upper center\")\n",
    "plt.title(r'\\textbf{Best solution distances in Lyon cluster}', fontsize=14)\n",
    "#plt.show()\n",
    "#plt.yscale(\"log\")\n",
    "plt.savefig('Lyon_distances_all_algo.pdf',bbox_inches='tight')\n",
    "\n"
   ]
  },
  {
   "cell_type": "code",
   "execution_count": 10,
   "metadata": {
    "pycharm": {
     "name": "#%%\n"
    }
   },
   "outputs": [
    {
     "name": "stdout",
     "output_type": "stream",
     "text": [
      "[67.22689075630252, 96.03174603174604, 94.44444444444444, 88.18860877684406]\n"
     ]
    },
    {
     "data": {
      "text/plain": [
       "<Figure size 960x480 with 0 Axes>"
      ]
     },
     "metadata": {},
     "output_type": "display_data"
    },
    {
     "data": {
      "image/png": "[encoded data removed]",
      "text/plain": [
       "<Figure size 432x288 with 1 Axes>"
      ]
     },
     "metadata": {
      "needs_background": "light"
     },
     "output_type": "display_data"
    }
   ],
   "source": [
    "import matplotlib.pyplot as plt\n",
    "import numpy as np\n",
    "import matplotlib as mpl\n",
    "mpl.rcParams['text.usetex'] = True\n",
    "SPINE_COLOR = 'gray'\n",
    "import matplotlib.patches as mpatches\n",
    "\n",
    "n_cpu = [\n",
    "                  [fattree_cleaned_data[x].METIS_HOST_CPU_OVERCOMMITMENT for x in fattree_all_solution_marged]+[random_cleaned_data[x].METIS_HOST_CPU_OVERCOMMITMENT for x in random_all_solution_marged],\n",
    "                  [fattree_cleaned_data[x].RANDOM_HOST_CPU_OVERCOMMITMENT for x in fattree_all_solution_marged]+[random_cleaned_data[x].RANDOM_HOST_CPU_OVERCOMMITMENT for x in random_all_solution_marged],\n",
    "                  [fattree_cleaned_data[x].ROUNDROBIN_HOST_CPU_OVERCOMMITMENT for x in fattree_all_solution_marged]+[random_cleaned_data[x].ROUNDROBIN_HOST_CPU_OVERCOMMITMENT for x in random_all_solution_marged],\n",
    "                  [fattree_cleaned_data[x].SWITCHBIN_HOST_CPU_OVERCOMMITMENT for x in fattree_all_solution_marged]+[random_cleaned_data[x].SWITCHBIN_HOST_CPU_OVERCOMMITMENT for x in random_all_solution_marged]]\n",
    "\n",
    "\n",
    "n_cpu=[list(filter(lambda x: x>0, l))for l in n_cpu]\n",
    "\n",
    "\n",
    "\n",
    "\n",
    "max_cpu = [\n",
    "                  [fattree_cleaned_data[x].METIS_MAX_CPU_OVERCOMMITMENT for x in fattree_all_solution_marged]+[random_cleaned_data[x].METIS_MAX_CPU_OVERCOMMITMENT for x in random_all_solution_marged],\n",
    "                  [fattree_cleaned_data[x].RANDOM_MAX_CPU_OVERCOMMITMENT for x in fattree_all_solution_marged]+[random_cleaned_data[x].RANDOM_MAX_CPU_OVERCOMMITMENT for x in random_all_solution_marged],\n",
    "                  [fattree_cleaned_data[x].ROUNDROBIN_MAX_CPU_OVERCOMMITMENT for x in fattree_all_solution_marged]+[random_cleaned_data[x].ROUNDROBIN_MAX_CPU_OVERCOMMITMENT for x in random_all_solution_marged],\n",
    "                  [fattree_cleaned_data[x].SWITCHBIN_MAX_CPU_OVERCOMMITMENT for x in fattree_all_solution_marged]+[random_cleaned_data[x].SWITCHBIN_MAX_CPU_OVERCOMMITMENT for x in random_all_solution_marged]]\n",
    "\n",
    "max_cpu=[list(filter(lambda x: x>0, l))for l in max_cpu]\n",
    "\n",
    "\n",
    "\n",
    "ticks = [\"Metis\",\"Random\",\"RoundRobin\",\"SwitchBin\"]\n",
    "\n",
    "\n",
    "\n",
    "def set_box_color(bp, color):\n",
    "    plt.setp(bp['boxes'], color=color)\n",
    "    plt.setp(bp['whiskers'], color=color)\n",
    "    plt.setp(bp['caps'], color=color)\n",
    "    plt.setp(bp['medians'], color=color,linewidth=4)\n",
    "\n",
    "    \n",
    "plt.figure(num=None, figsize=(12, 6), dpi=80, facecolor='w', edgecolor='k')\n",
    "fig, ax = plt.subplots()\n",
    "\n",
    "\n",
    "\n",
    "\n",
    "b1 = plt.boxplot(n_cpu, positions=np.array(range(len(n_cpu)))*2.0-0.5, sym='', widths=0.6,whis=[0,100])\n",
    "b2 = plt.boxplot(max_cpu, positions=np.array(range(len(n_cpu)))*2.0+0.5, sym='', widths=0.6,whis=[0,100])\n",
    "\n",
    "\n",
    "color_b1=\"green\"\n",
    "color_b2=\"orange\"\n",
    "\n",
    "set_box_color(b1, color_b1) # colors are from http://colorbrewer2.org/\n",
    "set_box_color(b2, color_b2)\n",
    "ax.tick_params(axis='x', rotation=60)\n",
    "\n",
    "\n",
    "\n",
    "plt.axvline(x=1,color=\"black\")\n",
    "plt.axvline(x=3,color=\"black\")\n",
    "plt.axvline(x=5,color=\"black\")\n",
    "\n",
    "\n",
    "plt.xticks(list(range(0,len(ticks)*2+2,2)), [f'${i}$' for i in ticks])\n",
    "\n",
    "plt.tick_params(axis='both', labelsize=16)\n",
    "\n",
    "plt.grid(axis='y')\n",
    "plt.xlim(-1, 7)\n",
    "plt.ylim(1, 30000)\n",
    "plt.yscale(\"log\")\n",
    "\n",
    "\n",
    "lables_patchs = []\n",
    "font = {'family': 'serif',\n",
    "        'color':  'black',\n",
    "        'weight': 'normal',\n",
    "        'size': 16,\n",
    "        }\n",
    "\n",
    "add_patch = mpatches.Patch(color=color_b1, label=\"\\# Hosts\")\n",
    "lables_patchs.append(add_patch)\n",
    "\n",
    "add_patch = mpatches.Patch(color=color_b2, label=\"\\% CPU overcommitment\")\n",
    "lables_patchs.append(add_patch)\n",
    "lables = [\"\\# Hosts\",\"\\% CPU overcommitment\"]\n",
    "\n",
    "#plt.title(r'\\textbf{CPU overcommitment Lyon cluster}', font=14)\n",
    "plt.xlabel(r'\\textbf{Algorithm}', fontsize=12)\n",
    "plt.legend(lables_patchs,lables, fontsize=12, ncol=2, loc=\"upper center\")\n",
    "\n",
    "\n",
    "ncpu_percentage = [len(x) for x in n_cpu]\n",
    "total_solutions = len(random_all_solution_marged) + len(fattree_all_solution_marged)\n",
    "ncpu_percentage = [(x/total_solutions)*100 for x in ncpu_percentage]\n",
    "print(ncpu_percentage)\n",
    "font.update({'size':14})\n",
    "for c,x in enumerate(ncpu_percentage):\n",
    "    plt.text((c*2) - 0.45 , 35000, r'${:.2f}\\%$'.format(x), fontdict=font)\n",
    "\n",
    "font.update({'size':12})\n",
    "plt.text(-0.15, 70000, r'\\textbf{Percentage of instances with overcommitment}', fontdict=font)\n",
    "\n",
    "\n",
    "\n",
    "\n",
    "\n",
    "plt.savefig('Lyon_CPU_overcommitment.pdf',bbox_inches='tight')\n",
    "#plt.show()"
   ]
  },
  {
   "cell_type": "code",
   "execution_count": 11,
   "metadata": {
    "pycharm": {
     "name": "#%%\n"
    }
   },
   "outputs": [
    {
     "name": "stdout",
     "output_type": "stream",
     "text": [
      "[63.305322128851536, 92.43697478991596, 90.70961718020541, 86.36788048552755]\n"
     ]
    },
    {
     "data": {
      "text/plain": [
       "<Figure size 960x480 with 0 Axes>"
      ]
     },
     "metadata": {},
     "output_type": "display_data"
    },
    {
     "data": {
      "image/png": "[encoded data removed]",
      "text/plain": [
       "<Figure size 432x288 with 1 Axes>"
      ]
     },
     "metadata": {
      "needs_background": "light"
     },
     "output_type": "display_data"
    }
   ],
   "source": [
    "import matplotlib.pyplot as plt\n",
    "import numpy as np\n",
    "import matplotlib as mpl\n",
    "mpl.rcParams['text.usetex'] = True\n",
    "SPINE_COLOR = 'gray'\n",
    "import matplotlib.patches as mpatches\n",
    "\n",
    "n_cpu = [\n",
    "                  [fattree_cleaned_data[x].METIS_HOST_MEMORY_OVERCOMMITMENT for x in fattree_all_solution_marged]+[random_cleaned_data[x].METIS_HOST_MEMORY_OVERCOMMITMENT for x in random_all_solution_marged],\n",
    "                  [fattree_cleaned_data[x].RANDOM_HOST_MEMORY_OVERCOMMITMENT for x in fattree_all_solution_marged]+[random_cleaned_data[x].RANDOM_HOST_MEMORY_OVERCOMMITMENT for x in random_all_solution_marged],\n",
    "                  [fattree_cleaned_data[x].ROUNDROBIN_HOST_MEMORY_OVERCOMMITMENT for x in fattree_all_solution_marged]+[random_cleaned_data[x].ROUNDROBIN_HOST_MEMORY_OVERCOMMITMENT for x in random_all_solution_marged],\n",
    "                  [fattree_cleaned_data[x].SWITCHBIN_HOST_MEMORY_OVERCOMMITMENT for x in fattree_all_solution_marged]+[random_cleaned_data[x].SWITCHBIN_HOST_MEMORY_OVERCOMMITMENT for x in random_all_solution_marged]]\n",
    "\n",
    "n_cpu=[list(filter(lambda x: x>0, l))for l in n_cpu]\n",
    "\n",
    "\n",
    "\n",
    "\n",
    "max_cpu = [\n",
    "                  [fattree_cleaned_data[x].METIS_MAX_MEMORY_OVERCOMMITMENT for x in fattree_all_solution_marged]+[random_cleaned_data[x].METIS_MAX_MEMORY_OVERCOMMITMENT for x in random_all_solution_marged],\n",
    "                  [fattree_cleaned_data[x].RANDOM_MAX_MEMORY_OVERCOMMITMENT for x in fattree_all_solution_marged]+[random_cleaned_data[x].RANDOM_MAX_MEMORY_OVERCOMMITMENT for x in random_all_solution_marged],\n",
    "                  [fattree_cleaned_data[x].ROUNDROBIN_MAX_MEMORY_OVERCOMMITMENT for x in fattree_all_solution_marged]+[random_cleaned_data[x].ROUNDROBIN_MAX_MEMORY_OVERCOMMITMENT for x in random_all_solution_marged],\n",
    "                  [fattree_cleaned_data[x].SWITCHBIN_MAX_MEMORY_OVERCOMMITMENT for x in fattree_all_solution_marged]+[random_cleaned_data[x].SWITCHBIN_MAX_MEMORY_OVERCOMMITMENT for x in random_all_solution_marged]]\n",
    "\n",
    "max_cpu=[list(filter(lambda x: x>0, l))for l in max_cpu]\n",
    "\n",
    "\n",
    "\n",
    "ticks = [\"Metis\",\"Random\",\"RoundRobin\",\"SwitchBin\"]\n",
    "\n",
    "\n",
    "\n",
    "\n",
    "def set_box_color(bp, color):\n",
    "    plt.setp(bp['boxes'], color=color)\n",
    "    plt.setp(bp['whiskers'], color=color)\n",
    "    plt.setp(bp['caps'], color=color)\n",
    "    plt.setp(bp['medians'], color=color,linewidth=4)\n",
    "\n",
    "    \n",
    "plt.figure(num=None, figsize=(12, 6), dpi=80, facecolor='w', edgecolor='k')\n",
    "fig, ax = plt.subplots()\n",
    "\n",
    "\n",
    "b1 = plt.boxplot(n_cpu, positions=np.array(range(len(n_cpu)))*2.0-0.5, sym='', widths=0.6,whis=[0,100])\n",
    "b2 = plt.boxplot(max_cpu, positions=np.array(range(len(n_cpu)))*2.0+0.5, sym='', widths=0.6,whis=[0,100])\n",
    "\n",
    "\n",
    "color_b1=\"green\"\n",
    "color_b2=\"orange\"\n",
    "\n",
    "set_box_color(b1, color_b1) # colors are from http://colorbrewer2.org/\n",
    "set_box_color(b2, color_b2)\n",
    "ax.tick_params(axis='x', rotation=60)\n",
    "\n",
    "\n",
    "\n",
    "plt.axvline(x=1,color=\"black\")\n",
    "plt.axvline(x=3,color=\"black\")\n",
    "plt.axvline(x=5,color=\"black\")\n",
    "\n",
    "\n",
    "plt.xticks(list(range(0,len(ticks)*2+2,2)), [f'${i}$' for i in ticks])\n",
    "\n",
    "plt.tick_params(axis='both', labelsize=16)\n",
    "\n",
    "plt.grid(axis='y')\n",
    "plt.xlim(-1, 7)\n",
    "plt.ylim(1, 30000)\n",
    "plt.yscale(\"log\")\n",
    "\n",
    "\n",
    "lables_patchs = []\n",
    "font = {'family': 'serif',\n",
    "        'color':  'black',\n",
    "        'weight': 'normal',\n",
    "        'size': 16,\n",
    "        }\n",
    "\n",
    "add_patch = mpatches.Patch(color=color_b1, label=\"\\# Hosts\")\n",
    "lables_patchs.append(add_patch)\n",
    "\n",
    "add_patch = mpatches.Patch(color=color_b2, label=\"\\% Memory overcommitment\")\n",
    "lables_patchs.append(add_patch)\n",
    "lables = [\"\\# Hosts\",\"\\% Memory overcommitment\"]\n",
    "\n",
    "plt.xlabel(r'\\textbf{Algorithm}', fontsize=12)\n",
    "plt.legend(lables_patchs,lables, fontsize=12, ncol=2, loc=\"upper center\")\n",
    "\n",
    "\n",
    "ncpu_percentage = [len(x) for x in n_cpu]\n",
    "total_solutions = len(random_all_solution_marged) + len(fattree_all_solution_marged)\n",
    "ncpu_percentage = [(x/total_solutions)*100 for x in ncpu_percentage]\n",
    "print(ncpu_percentage)\n",
    "font.update({'size':14})\n",
    "for c,x in enumerate(ncpu_percentage):\n",
    "    plt.text((c*2) - 0.45 , 35000, r'${:.2f}\\%$'.format(x), fontdict=font)\n",
    "\n",
    "font.update({'size':12})\n",
    "plt.text(-0.15, 70000, r'\\textbf{Percentage of instances with overcommitment}', fontdict=font)\n",
    "\n",
    "\n",
    "plt.savefig('Lyon_Memory_overcommitment.pdf',bbox_inches='tight')\n",
    "#plt.show()"
   ]
  },
  {
   "cell_type": "code",
   "execution_count": 12,
   "metadata": {
    "pycharm": {
     "name": "#%%\n"
    }
   },
   "outputs": [
    {
     "name": "stdout",
     "output_type": "stream",
     "text": [
      "[1.0, 3.0, 1.0, 1.0, 1.0, 1.0, 1.0, 1.0, 1.0, 1.0, 3.0, 1.0, 1.0, 1.0, 1.0, 1.0, 1.0, 1.0, 1.0, 4.0, 1.0, 1.0, 1.0, 1.0, 1.0, 1.0, 1.0, 4.0, 1.0, 1.0, 1.0, 1.0, 1.0, 4.0, 1.0, 1.0, 1.0, 1.0, 1.0, 4.0, 1.0, 1.0, 1.0, 1.0, 1.0, 4.0, 1.0, 1.0, 1.0, 4.0]\n",
      "[2.3342670401493932, 42.997198879551824, 32.72642390289449, 21.521942110177406]\n"
     ]
    },
    {
     "data": {
      "text/plain": [
       "<Figure size 960x480 with 0 Axes>"
      ]
     },
     "metadata": {},
     "output_type": "display_data"
    },
    {
     "data": {
      "image/png": "[encoded data removed]",
      "text/plain": [
       "<Figure size 432x288 with 1 Axes>"
      ]
     },
     "metadata": {
      "needs_background": "light"
     },
     "output_type": "display_data"
    }
   ],
   "source": [
    "import matplotlib.pyplot as plt\n",
    "import numpy as np\n",
    "import matplotlib as mpl\n",
    "mpl.rcParams['text.usetex'] = True\n",
    "SPINE_COLOR = 'gray'\n",
    "import matplotlib.patches as mpatches\n",
    "\n",
    "n_cpu = [\n",
    "                  [fattree_cleaned_data[x].METIS_HOST_LINK_OVERCOMMITMENT for x in fattree_all_solution_marged]+[random_cleaned_data[x].METIS_HOST_LINK_OVERCOMMITMENT for x in random_all_solution_marged],\n",
    "                  [fattree_cleaned_data[x].RANDOM_HOST_LINK_OVERCOMMITMENT for x in fattree_all_solution_marged]+[random_cleaned_data[x].RANDOM_HOST_LINK_OVERCOMMITMENT for x in random_all_solution_marged],\n",
    "                  [fattree_cleaned_data[x].ROUNDROBIN_HOST_LINK_OVERCOMMITMENT for x in fattree_all_solution_marged]+[random_cleaned_data[x].ROUNDROBIN_HOST_LINK_OVERCOMMITMENT for x in random_all_solution_marged],\n",
    "                  [fattree_cleaned_data[x].SWITCHBIN_HOST_LINK_OVERCOMMITMENT for x in fattree_all_solution_marged]+[random_cleaned_data[x].SWITCHBIN_HOST_LINK_OVERCOMMITMENT for x in random_all_solution_marged]]\n",
    "\n",
    "n_cpu=[list(filter(lambda x: x>0, l))for l in n_cpu]\n",
    "print(n_cpu[0])\n",
    "\n",
    "\n",
    "\n",
    "\n",
    "max_cpu = [\n",
    "                  [fattree_cleaned_data[x].METIS_MAX_LINK_OVERCOMMITMENT for x in fattree_all_solution_marged]+[random_cleaned_data[x].METIS_MAX_LINK_OVERCOMMITMENT for x in random_all_solution_marged],\n",
    "                  [fattree_cleaned_data[x].RANDOM_MAX_LINK_OVERCOMMITMENT for x in fattree_all_solution_marged]+[random_cleaned_data[x].RANDOM_MAX_LINK_OVERCOMMITMENT for x in random_all_solution_marged],\n",
    "                  [fattree_cleaned_data[x].ROUNDROBIN_MAX_LINK_OVERCOMMITMENT for x in fattree_all_solution_marged]+[random_cleaned_data[x].ROUNDROBIN_MAX_LINK_OVERCOMMITMENT for x in random_all_solution_marged],\n",
    "                  [fattree_cleaned_data[x].SWITCHBIN_MAX_LINK_OVERCOMMITMENT for x in fattree_all_solution_marged]+[random_cleaned_data[x].SWITCHBIN_MAX_LINK_OVERCOMMITMENT for x in random_all_solution_marged]]\n",
    "\n",
    "max_cpu=[list(filter(lambda x: x>0, l))for l in max_cpu]\n",
    "\n",
    "\n",
    "\n",
    "ticks = [\"Metis\",\"Random\",\"RoundRobin\",\"SwitchBin\"]\n",
    "\n",
    "\n",
    "\n",
    "\n",
    "def set_box_color(bp, color):\n",
    "    plt.setp(bp['boxes'], color=color)\n",
    "    plt.setp(bp['whiskers'], color=color)\n",
    "    plt.setp(bp['caps'], color=color)\n",
    "    plt.setp(bp['medians'], color=color,linewidth=4)\n",
    "\n",
    "    \n",
    "plt.figure(num=None, figsize=(12, 6), dpi=80, facecolor='w', edgecolor='k')\n",
    "fig, ax = plt.subplots()\n",
    "\n",
    "\n",
    "b1 = plt.boxplot(n_cpu, positions=np.array(range(len(n_cpu)))*2.0-0.5, sym='', widths=0.6,whis=[0,100])\n",
    "b2 = plt.boxplot(max_cpu, positions=np.array(range(len(n_cpu)))*2.0+0.5, sym='', widths=0.6,whis=[0,100])\n",
    "\n",
    "\n",
    "color_b1=\"green\"\n",
    "color_b2=\"orange\"\n",
    "\n",
    "set_box_color(b1, color_b1) # colors are from http://colorbrewer2.org/\n",
    "set_box_color(b2, color_b2)\n",
    "ax.tick_params(axis='x', rotation=60)\n",
    "\n",
    "\n",
    "\n",
    "plt.axvline(x=1,color=\"black\")\n",
    "plt.axvline(x=3,color=\"black\")\n",
    "plt.axvline(x=5,color=\"black\")\n",
    "\n",
    "\n",
    "plt.xticks(list(range(0,len(ticks)*2+2,2)), [f'${i}$' for i in ticks])\n",
    "\n",
    "plt.tick_params(axis='both', labelsize=16)\n",
    "\n",
    "plt.grid(axis='y')\n",
    "plt.xlim(-1, 7)\n",
    "plt.ylim(1, 30000)\n",
    "plt.yscale(\"log\")\n",
    "\n",
    "\n",
    "lables_patchs = []\n",
    "font = {'family': 'serif',\n",
    "        'color':  'black',\n",
    "        'weight': 'normal',\n",
    "        'size': 16,\n",
    "        }\n",
    "\n",
    "add_patch = mpatches.Patch(color=color_b1, label=\"\\# Links\")\n",
    "lables_patchs.append(add_patch)\n",
    "\n",
    "add_patch = mpatches.Patch(color=color_b2, label=\"\\% Memory overcommitment\")\n",
    "lables_patchs.append(add_patch)\n",
    "lables = [\"\\# Links\",\"\\% Link overcommitment\"]\n",
    "\n",
    "plt.xlabel(r'\\textbf{Algorithm}', fontsize=12)\n",
    "plt.legend(lables_patchs,lables, fontsize=14, ncol=2, loc=\"upper center\")\n",
    "\n",
    "\n",
    "ncpu_percentage = [len(x) for x in n_cpu]\n",
    "total_solutions = len(random_all_solution_marged) + len(fattree_all_solution_marged)\n",
    "ncpu_percentage = [(x/total_solutions)*100 for x in ncpu_percentage]\n",
    "print(ncpu_percentage)\n",
    "font.update({'size':14})\n",
    "for c,x in enumerate(ncpu_percentage):\n",
    "    plt.text((c*2) - 0.45 , 35000, r'${:.2f}\\%$'.format(x), fontdict=font)\n",
    "\n",
    "font.update({'size':12})\n",
    "plt.text(-0.15, 70000, r'\\textbf{Percentage of instances with overcommitment}', fontdict=font)\n",
    "\n",
    "\n",
    "\n",
    "plt.savefig('Lyon_Link_overcommitment.pdf',bbox_inches='tight')\n",
    "#plt.show()\n"
   ]
  },
  {
   "cell_type": "code",
   "execution_count": null,
   "metadata": {
    "pycharm": {
     "name": "#%%\n"
    }
   },
   "outputs": [],
   "source": []
  },
  {
   "cell_type": "code",
   "execution_count": null,
   "metadata": {
    "pycharm": {
     "name": "#%%\n"
    }
   },
   "outputs": [],
   "source": []
  },
  {
   "cell_type": "code",
   "execution_count": null,
   "metadata": {
    "pycharm": {
     "name": "#%%\n"
    }
   },
   "outputs": [],
   "source": []
  },
  {
   "cell_type": "code",
   "execution_count": null,
   "metadata": {
    "pycharm": {
     "name": "#%%\n"
    }
   },
   "outputs": [],
   "source": []
  },
  {
   "cell_type": "code",
   "execution_count": null,
   "metadata": {
    "pycharm": {
     "name": "#%%\n"
    }
   },
   "outputs": [],
   "source": []
  },
  {
   "cell_type": "code",
   "execution_count": 13,
   "metadata": {
    "pycharm": {
     "name": "#%%\n"
    }
   },
   "outputs": [
    {
     "name": "stdout",
     "output_type": "stream",
     "text": [
      "1260\n",
      "761\n"
     ]
    }
   ],
   "source": [
    "import matplotlib.pyplot as plt\n",
    "from collections import namedtuple\n",
    "import numpy as np\n",
    "import csv\n",
    "from copy import deepcopy\n",
    "\n",
    "algorithms= [\"Metis\", \"EmbedBalanced\", \"EmbedPartition\",\n",
    "             \"EmbedGreedy\", \"RandomPlacer\",\"RoundRobin\",\n",
    "             \"SwitchBinPlacer\"]\n",
    "\n",
    "labels = ['K', 'CORES','MEMORY','RATE','DENSITY',\n",
    "                   \"EMBEDGREEDY_HOSTS\", \"EMBEDBALANCED_HOSTS\", \"EMBEDPARTITION_HOSTS\", \"METIS_HOSTS\",\n",
    "                  \"METIS_HOST_CPU_OVERCOMMITMENT\", \"METIS_HOST_MEMORY_OVERCOMMITMENT\", \"METIS_HOST_LINK_OVERCOMMITMENT\",\"METIS_MAX_CPU_OVERCOMMITMENT\", \"METIS_MAX_MEMORY_OVERCOMMITMENT\", \"METIS_MAX_LINK_OVERCOMMITMENT\",\n",
    "                  \"RANDOM_HOSTS\",\"RANDOM_HOST_CPU_OVERCOMMITMENT\", \"RANDOM_HOST_MEMORY_OVERCOMMITMENT\", \"RANDOM_HOST_LINK_OVERCOMMITMENT\",\"RANDOM_MAX_CPU_OVERCOMMITMENT\", \"RANDOM_MAX_MEMORY_OVERCOMMITMENT\", \"RANDOM_MAX_LINK_OVERCOMMITMENT\",\n",
    "                  \"ROUNDROBIN_HOSTS\",\"ROUNDROBIN_HOST_CPU_OVERCOMMITMENT\", \"ROUNDROBIN_HOST_MEMORY_OVERCOMMITMENT\", \"ROUNDROBIN_HOST_LINK_OVERCOMMITMENT\",\"ROUNDROBIN_MAX_CPU_OVERCOMMITMENT\", \"ROUNDROBIN_MAX_MEMORY_OVERCOMMITMENT\", \"ROUNDROBIN_MAX_LINK_OVERCOMMITMENT\",\n",
    "                  \"SWITCHBIN_HOSTS\", \"SWITCHBIN_HOST_CPU_OVERCOMMITMENT\", \"SWITCHBIN_HOST_MEMORY_OVERCOMMITMENT\", \"SWITCHBIN_HOST_LINK_OVERCOMMITMENT\",\"SWITCHBIN_MAX_CPU_OVERCOMMITMENT\", \"SWITCHBIN_MAX_MEMORY_OVERCOMMITMENT\", \"SWITCHBIN_MAX_LINK_OVERCOMMITMENT\"]\n",
    "\n",
    "\n",
    "\n",
    "\n",
    "experiment_key = namedtuple(\"experiment_key\", labels[:5])\n",
    "experiment_results= namedtuple(\"experiment_results\", labels[5:])\n",
    "e=experiment_key(2,2,4,2,2)\n",
    "clened_data={}\n",
    "with open('pkl/Gros_fattree.csv') as File:\n",
    "    reader = csv.reader(File, delimiter=';', quotechar=',', quoting=csv.QUOTE_MINIMAL)\n",
    "    \n",
    "    for row in list(reader)[1:]:\n",
    "        #print(row)\n",
    "        key_= experiment_key(*[int(float(i.replace(\",\",\".\"))) for i in row[:5]])\n",
    "        #print(key_)\n",
    "        results_ = experiment_results(*[float(i.replace(\",\",\".\")) if float(i.replace(\",\",\".\")) >= 0 else -1 for i in row[5:]])\n",
    "        #print(results_)\n",
    "        clened_data[key_]=results_\n",
    "\n",
    "filtered_data=dict()\n",
    "for key in clened_data.keys():\n",
    "    if clened_data[key].EMBEDGREEDY_HOSTS>0:\n",
    "        filtered_data[key]=clened_data[key]\n",
    "print(len(clened_data.keys()))\n",
    "\n",
    "print(len(filtered_data.keys()))\n",
    "fattree_cleaned_data=clened_data"
   ]
  },
  {
   "cell_type": "code",
   "execution_count": 14,
   "metadata": {
    "pycharm": {
     "name": "#%%\n"
    }
   },
   "outputs": [
    {
     "name": "stdout",
     "output_type": "stream",
     "text": [
      "Embedded Greedy solved\n",
      "761\n",
      "-------------------------\n",
      "Embedded Balanced solved\n",
      "698\n",
      "-------------------------\n",
      "Embedded Partition solved\n",
      "744\n",
      "-------------------------\n",
      "Metis solved without overcommitment\n",
      "647\n",
      "-------------------------\n",
      "Random solved without overcommitment\n",
      "548\n",
      "-------------------------\n",
      "RoundRobin solved without overcommitment\n",
      "752\n",
      "-------------------------\n",
      "SwitchBin solved without overcommitment\n",
      "633\n",
      "-------------------------\n",
      "All solution Marged\n",
      "761\n",
      "-------------------------\n",
      "All solution with solution for all the algos\n",
      "522\n",
      "-------------------------\n",
      "Embedded Greedy solved %\n",
      "100.0 %\n",
      "-------------------------\n",
      "Embedded Balanced solved %\n",
      "91.72141918528253 %\n",
      "-------------------------\n",
      "Embedded Partition solved %\n",
      "97.76609724047306 %\n",
      "-------------------------\n",
      "Metis solved %\n",
      "85.0197109067017 %\n",
      "-------------------------\n",
      "Random solved %\n",
      "72.01051248357425 %\n",
      "-------------------------\n",
      "RoundRobin solved %\n",
      "98.8173455978975 %\n",
      "-------------------------\n",
      "SwitchBin solved %\n",
      "83.18002628120894 %\n",
      "-------------------------\n",
      "All algo solved %\n",
      "68.5939553219448 %\n",
      "-------------------------\n"
     ]
    }
   ],
   "source": [
    "#print(clened_data.values())\n",
    "print(\"Embedded Greedy solved\")\n",
    "fattree_eg_solved=list(filter(lambda x:clened_data[x].EMBEDGREEDY_HOSTS>0, clened_data.keys()))\n",
    "print(len(fattree_eg_solved))\n",
    "print(\"-------------------------\")\n",
    "\n",
    "print(\"Embedded Balanced solved\")\n",
    "fattree_eb_solved=list(filter(lambda x:clened_data[x].EMBEDBALANCED_HOSTS>0, clened_data.keys()))\n",
    "print(len(fattree_eb_solved))\n",
    "print(\"-------------------------\")\n",
    "\n",
    "print(\"Embedded Partition solved\")\n",
    "fattree_ep_solved=list(filter(lambda x:clened_data[x].EMBEDPARTITION_HOSTS>0, clened_data.keys()))\n",
    "print(len(fattree_ep_solved))\n",
    "print(\"-------------------------\")\n",
    "\n",
    "print(\"Metis solved without overcommitment\")\n",
    "fattree_metis_solved=list(filter(lambda x:clened_data[x].METIS_HOST_CPU_OVERCOMMITMENT==0.0 and clened_data[x].METIS_HOST_MEMORY_OVERCOMMITMENT==0.0 and clened_data[x].METIS_HOST_LINK_OVERCOMMITMENT==0.0, clened_data.keys()))\n",
    "print(len(fattree_metis_solved))\n",
    "print(\"-------------------------\")\n",
    "\n",
    "print(\"Random solved without overcommitment\")\n",
    "fattree_random_solved=list(filter(lambda x:clened_data[x].RANDOM_HOST_CPU_OVERCOMMITMENT==0.0 and clened_data[x].RANDOM_HOST_MEMORY_OVERCOMMITMENT==0.0 and clened_data[x].RANDOM_HOST_LINK_OVERCOMMITMENT==0.0, clened_data.keys()))\n",
    "print(len(fattree_random_solved))\n",
    "print(\"-------------------------\")\n",
    "\n",
    "print(\"RoundRobin solved without overcommitment\")\n",
    "fattree_roundrobin_solved = list(filter(lambda x:clened_data[x].ROUNDROBIN_HOST_CPU_OVERCOMMITMENT==0.0 and clened_data[x].ROUNDROBIN_HOST_MEMORY_OVERCOMMITMENT==0.0 and clened_data[x].ROUNDROBIN_HOST_LINK_OVERCOMMITMENT==0.0, clened_data.keys()))\n",
    "print(len(fattree_roundrobin_solved))\n",
    "print(\"-------------------------\")\n",
    "\n",
    "print(\"SwitchBin solved without overcommitment\")\n",
    "fattree_switchBin_solved = list(filter(lambda x:clened_data[x].SWITCHBIN_HOST_CPU_OVERCOMMITMENT==0.0 and clened_data[x].SWITCHBIN_HOST_MEMORY_OVERCOMMITMENT==0.0 and clened_data[x].SWITCHBIN_HOST_LINK_OVERCOMMITMENT==0.0, clened_data.keys()))\n",
    "print(len(fattree_switchBin_solved))\n",
    "print(\"-------------------------\")\n",
    "\n",
    "print(\"All solution Marged\")\n",
    "fattree_all_solution_marged=set(fattree_eg_solved+fattree_eb_solved+fattree_ep_solved+fattree_metis_solved+fattree_random_solved+fattree_roundrobin_solved+fattree_switchBin_solved)\n",
    "print(len(fattree_all_solution_marged))\n",
    "print(\"-------------------------\")\n",
    "\n",
    "print(\"All solution with solution for all the algos\")\n",
    "fattree_instances_with_solution_for_all= fattree_all_solution_marged.intersection(set(fattree_eg_solved),set(fattree_eb_solved),set(fattree_ep_solved),set(fattree_metis_solved),set(fattree_random_solved),set(fattree_roundrobin_solved),set(fattree_switchBin_solved))\n",
    "print(len(fattree_instances_with_solution_for_all))\n",
    "print(\"-------------------------\")\n",
    "\n",
    "print(\"Embedded Greedy solved %\")\n",
    "print(len(fattree_eg_solved)/len(fattree_all_solution_marged) * 100,\"%\")\n",
    "print(\"-------------------------\")\n",
    "\n",
    "print(\"Embedded Balanced solved %\")\n",
    "print(len(fattree_eb_solved)/len(fattree_all_solution_marged) * 100,\"%\")\n",
    "print(\"-------------------------\")\n",
    "\n",
    "print(\"Embedded Partition solved %\")\n",
    "print(len(fattree_ep_solved)/len(fattree_all_solution_marged) * 100,\"%\")\n",
    "print(\"-------------------------\")\n",
    "\n",
    "print(\"Metis solved %\")\n",
    "print(len(fattree_metis_solved)/len(fattree_all_solution_marged) * 100,\"%\")\n",
    "print(\"-------------------------\")\n",
    "\n",
    "print(\"Random solved %\")\n",
    "print(len(fattree_random_solved)/len(fattree_all_solution_marged) * 100,\"%\")\n",
    "print(\"-------------------------\")\n",
    "\n",
    "print(\"RoundRobin solved %\")\n",
    "print(len(fattree_roundrobin_solved)/len(fattree_all_solution_marged) * 100,\"%\")\n",
    "print(\"-------------------------\")\n",
    "\n",
    "print(\"SwitchBin solved %\")\n",
    "print(len(fattree_switchBin_solved)/len(fattree_all_solution_marged) * 100,\"%\")\n",
    "print(\"-------------------------\")\n",
    "\n",
    "print(\"All algo solved %\")\n",
    "print(len(fattree_instances_with_solution_for_all)/len(fattree_all_solution_marged) * 100,\"%\")\n",
    "print(\"-------------------------\")\n"
   ]
  },
  {
   "cell_type": "code",
   "execution_count": 15,
   "metadata": {
    "pycharm": {
     "name": "#%%\n"
    }
   },
   "outputs": [],
   "source": [
    "def get_data_ft(dataset,K=None,DENSITY=None,CORES=None,MEMORY=None,RATE=None):\n",
    "    keys=list(dataset.keys())\n",
    "    \n",
    "    if K != None:\n",
    "        keys=list(filter(lambda x: x.K == K, keys))\n",
    "        \n",
    "    if DENSITY != None:\n",
    "        keys=list(filter(lambda x: x.DENSITY == DENSITY, keys))\n",
    "        \n",
    "    if CORES != None:\n",
    "        keys=list(filter(lambda x: x.CORES == CORES, keys))\n",
    "        \n",
    "    if MEMORY != None:\n",
    "        keys=list(filter(lambda x: x.MEMORY == MEMORY, keys))\n",
    "        \n",
    "    if RATE != None:\n",
    "        keys=list(filter(lambda x: x.RATE == RATE, keys))\n",
    "    \n",
    "    data_retrived={}\n",
    "    for k in keys:\n",
    "        data_retrived[k]=dataset[k]\n",
    "        \n",
    "    return data_retrived"
   ]
  },
  {
   "cell_type": "code",
   "execution_count": 16,
   "metadata": {
    "pycharm": {
     "name": "#%%\n"
    }
   },
   "outputs": [],
   "source": [
    "def get_data_rd(dataset,K=None,DENSITY=None,CORES=None,MEMORY=None,RATE=None):\n",
    "    keys=list(dataset.keys())\n",
    "    \n",
    "    if K != None:\n",
    "        keys=list(filter(lambda x: x.N == N, keys))\n",
    "        \n",
    "    if DENSITY != None:\n",
    "        keys=list(filter(lambda x: x.DENSITY == DENSITY, keys))\n",
    "        \n",
    "    if SEED != None:\n",
    "        keys=list(filter(lambda x: x.SEED == SEED, keys))\n",
    "    \n",
    "    data_retrived={}\n",
    "    for k in keys:\n",
    "        data_retrived[k]=dataset[k]\n",
    "        \n",
    "    return data_retrived"
   ]
  },
  {
   "cell_type": "code",
   "execution_count": 17,
   "metadata": {
    "pycharm": {
     "name": "#%%\n"
    }
   },
   "outputs": [
    {
     "name": "stdout",
     "output_type": "stream",
     "text": [
      "4500\n",
      "4500\n"
     ]
    }
   ],
   "source": [
    "import matplotlib.pyplot as plt\n",
    "from collections import namedtuple\n",
    "import numpy as np\n",
    "import csv\n",
    "from copy import deepcopy\n",
    "\n",
    "algorithms= [\"Metis\", \"EmbedBalanced\", \"EmbedPartition\",\n",
    "             \"EmbedGreedy\", \"RandomPlacer\",\"RoundRobin\",\n",
    "             \"SwitchBinPlacer\"]\n",
    "\n",
    "labels = ['N', 'DENSITY', 'SEED',\n",
    "                   \"EMBEDGREEDY_HOSTS\", \"EMBEDBALANCED_HOSTS\", \"EMBEDPARTITION_HOSTS\", \"METIS_HOSTS\",\n",
    "                  \"METIS_HOST_CPU_OVERCOMMITMENT\", \"METIS_HOST_MEMORY_OVERCOMMITMENT\", \"METIS_HOST_LINK_OVERCOMMITMENT\",\"METIS_MAX_CPU_OVERCOMMITMENT\", \"METIS_MAX_MEMORY_OVERCOMMITMENT\", \"METIS_MAX_LINK_OVERCOMMITMENT\",\n",
    "                  \"RANDOM_HOSTS\",\"RANDOM_HOST_CPU_OVERCOMMITMENT\", \"RANDOM_HOST_MEMORY_OVERCOMMITMENT\", \"RANDOM_HOST_LINK_OVERCOMMITMENT\",\"RANDOM_MAX_CPU_OVERCOMMITMENT\", \"RANDOM_MAX_MEMORY_OVERCOMMITMENT\", \"RANDOM_MAX_LINK_OVERCOMMITMENT\",\n",
    "                  \"ROUNDROBIN_HOSTS\",\"ROUNDROBIN_HOST_CPU_OVERCOMMITMENT\", \"ROUNDROBIN_HOST_MEMORY_OVERCOMMITMENT\", \"ROUNDROBIN_HOST_LINK_OVERCOMMITMENT\",\"ROUNDROBIN_MAX_CPU_OVERCOMMITMENT\", \"ROUNDROBIN_MAX_MEMORY_OVERCOMMITMENT\", \"ROUNDROBIN_MAX_LINK_OVERCOMMITMENT\",\n",
    "                  \"SWITCHBIN_HOSTS\", \"SWITCHBIN_HOST_CPU_OVERCOMMITMENT\", \"SWITCHBIN_HOST_MEMORY_OVERCOMMITMENT\", \"SWITCHBIN_HOST_LINK_OVERCOMMITMENT\",\"SWITCHBIN_MAX_CPU_OVERCOMMITMENT\", \"SWITCHBIN_MAX_MEMORY_OVERCOMMITMENT\", \"SWITCHBIN_MAX_LINK_OVERCOMMITMENT\"]\n",
    "\n",
    "\n",
    "\n",
    "\n",
    "experiment_key = namedtuple(\"experiment_key\", labels[:3])\n",
    "experiment_results= namedtuple(\"experiment_results\", labels[3:])\n",
    "e=experiment_key(2,0.1,4)\n",
    "clened_data={}\n",
    "with open('pkl/Gros_random.csv') as File:\n",
    "    reader = csv.reader(File, delimiter=';', quotechar=',', quoting=csv.QUOTE_MINIMAL)\n",
    "    \n",
    "    for row in list(reader)[1:]:\n",
    "        #print(row)\n",
    "        key_= experiment_key(*[float(i.replace(\",\",\".\")) for i in row[:3]])\n",
    "        #print(key_)\n",
    "        results_ = experiment_results(*[float(i.replace(\",\",\".\")) if float(i.replace(\",\",\".\")) >= 0 else -1 for i in row[3:]])\n",
    "        #print(results_)\n",
    "        clened_data[key_]=results_\n",
    "\n",
    "filtered_data=dict()\n",
    "for key in clened_data.keys():\n",
    "    if clened_data[key].EMBEDGREEDY_HOSTS>0:\n",
    "        filtered_data[key]=clened_data[key]\n",
    "print(len(clened_data.keys()))\n",
    "\n",
    "print(len(filtered_data.keys()))\n",
    "\n",
    "random_cleaned_data=clened_data"
   ]
  },
  {
   "cell_type": "code",
   "execution_count": 18,
   "metadata": {
    "pycharm": {
     "name": "#%%\n"
    }
   },
   "outputs": [
    {
     "name": "stdout",
     "output_type": "stream",
     "text": [
      "Embedded Greedy solved\n",
      "4500\n",
      "-------------------------\n",
      "Embedded Balanced solved\n",
      "3749\n",
      "-------------------------\n",
      "Embedded Partition solved\n",
      "4349\n",
      "-------------------------\n",
      "Metis solved without overcommitment\n",
      "2624\n",
      "-------------------------\n",
      "Random solved without overcommitment\n",
      "2369\n",
      "-------------------------\n",
      "RoundRobin solved without overcommitment\n",
      "4192\n",
      "-------------------------\n",
      "SwitchBin solved without overcommitment\n",
      "1704\n",
      "-------------------------\n",
      "All solution Marged\n",
      "4500\n",
      "-------------------------\n",
      "All solution with solution for all the algos\n",
      "1444\n",
      "-------------------------\n",
      "Embedded Greedy solved %\n",
      "100.0 %\n",
      "-------------------------\n",
      "Embedded Balanced solved %\n",
      "83.31111111111112 %\n",
      "-------------------------\n",
      "Embedded Partition solved %\n",
      "96.64444444444445 %\n",
      "-------------------------\n",
      "Metis solved %\n",
      "58.31111111111112 %\n",
      "-------------------------\n",
      "Random solved %\n",
      "52.644444444444446 %\n",
      "-------------------------\n",
      "RoundRobin solved %\n",
      "93.15555555555555 %\n",
      "-------------------------\n",
      "SwitchBin solved %\n",
      "37.86666666666667 %\n",
      "-------------------------\n",
      "All algo solved %\n",
      "32.08888888888889 %\n",
      "-------------------------\n"
     ]
    }
   ],
   "source": [
    "print(\"Embedded Greedy solved\")\n",
    "random_eg_solved=list(filter(lambda x:clened_data[x].EMBEDGREEDY_HOSTS>0, clened_data.keys()))\n",
    "print(len(random_eg_solved))\n",
    "print(\"-------------------------\")\n",
    "\n",
    "print(\"Embedded Balanced solved\")\n",
    "random_eb_solved=list(filter(lambda x:clened_data[x].EMBEDBALANCED_HOSTS>0, clened_data.keys()))\n",
    "print(len(random_eb_solved))\n",
    "print(\"-------------------------\")\n",
    "\n",
    "print(\"Embedded Partition solved\")\n",
    "random_ep_solved=list(filter(lambda x:clened_data[x].EMBEDPARTITION_HOSTS>0, clened_data.keys()))\n",
    "print(len(random_ep_solved))\n",
    "print(\"-------------------------\")\n",
    "\n",
    "print(\"Metis solved without overcommitment\")\n",
    "random_metis_solved=list(filter(lambda x:clened_data[x].METIS_HOST_CPU_OVERCOMMITMENT==0.0 and clened_data[x].METIS_HOST_MEMORY_OVERCOMMITMENT==0.0 and clened_data[x].METIS_HOST_LINK_OVERCOMMITMENT==0.0, clened_data.keys()))\n",
    "print(len(random_metis_solved))\n",
    "print(\"-------------------------\")\n",
    "\n",
    "print(\"Random solved without overcommitment\")\n",
    "random_random_solved=list(filter(lambda x:clened_data[x].RANDOM_HOST_CPU_OVERCOMMITMENT==0.0 and clened_data[x].RANDOM_HOST_MEMORY_OVERCOMMITMENT==0.0 and clened_data[x].RANDOM_HOST_LINK_OVERCOMMITMENT==0.0, clened_data.keys()))\n",
    "print(len(random_random_solved))\n",
    "print(\"-------------------------\")\n",
    "\n",
    "print(\"RoundRobin solved without overcommitment\")\n",
    "random_roundrobin_solved = list(filter(lambda x:clened_data[x].ROUNDROBIN_HOST_CPU_OVERCOMMITMENT==0.0 and clened_data[x].ROUNDROBIN_HOST_MEMORY_OVERCOMMITMENT==0.0 and clened_data[x].ROUNDROBIN_HOST_LINK_OVERCOMMITMENT==0.0, clened_data.keys()))\n",
    "print(len(random_roundrobin_solved))\n",
    "print(\"-------------------------\")\n",
    "\n",
    "print(\"SwitchBin solved without overcommitment\")\n",
    "random_switchBin_solved = list(filter(lambda x:clened_data[x].SWITCHBIN_HOST_CPU_OVERCOMMITMENT==0.0 and clened_data[x].SWITCHBIN_HOST_MEMORY_OVERCOMMITMENT==0.0 and clened_data[x].SWITCHBIN_HOST_LINK_OVERCOMMITMENT==0.0, clened_data.keys()))\n",
    "print(len(random_switchBin_solved))\n",
    "print(\"-------------------------\")\n",
    "\n",
    "print(\"All solution Marged\")\n",
    "random_all_solution_marged=set(random_eg_solved+random_eb_solved+random_ep_solved+random_metis_solved+random_random_solved+random_roundrobin_solved+random_switchBin_solved)\n",
    "print(len(random_all_solution_marged))\n",
    "print(\"-------------------------\")\n",
    "\n",
    "print(\"All solution with solution for all the algos\")\n",
    "random_instances_with_solution_for_all= random_all_solution_marged.intersection(set(random_eg_solved),set(random_eb_solved),set(random_ep_solved),set(random_metis_solved),set(random_random_solved),set(random_roundrobin_solved),set(random_switchBin_solved))\n",
    "print(len(random_instances_with_solution_for_all))\n",
    "print(\"-------------------------\")\n",
    "\n",
    "\n",
    "print(\"Embedded Greedy solved %\")\n",
    "print(len(random_eg_solved)/len(random_all_solution_marged) * 100,\"%\")\n",
    "print(\"-------------------------\")\n",
    "\n",
    "print(\"Embedded Balanced solved %\")\n",
    "print(len(random_eb_solved)/len(random_all_solution_marged) * 100,\"%\")\n",
    "print(\"-------------------------\")\n",
    "\n",
    "print(\"Embedded Partition solved %\")\n",
    "print(len(random_ep_solved)/len(random_all_solution_marged) * 100,\"%\")\n",
    "print(\"-------------------------\")\n",
    "\n",
    "print(\"Metis solved %\")\n",
    "print(len(random_metis_solved)/len(random_all_solution_marged) * 100,\"%\")\n",
    "print(\"-------------------------\")\n",
    "\n",
    "print(\"Random solved %\")\n",
    "print(len(random_random_solved)/len(random_all_solution_marged) * 100,\"%\")\n",
    "print(\"-------------------------\")\n",
    "\n",
    "print(\"RoundRobin solved %\")\n",
    "print(len(random_roundrobin_solved)/len(random_all_solution_marged) * 100,\"%\")\n",
    "print(\"-------------------------\")\n",
    "\n",
    "print(\"SwitchBin solved %\")\n",
    "print(len(random_switchBin_solved)/len(random_all_solution_marged) * 100,\"%\")\n",
    "print(\"-------------------------\")\n",
    "\n",
    "print(\"All algo solved %\")\n",
    "print(len(random_instances_with_solution_for_all)/len(random_all_solution_marged) * 100,\"%\")\n",
    "print(\"-------------------------\")"
   ]
  },
  {
   "cell_type": "code",
   "execution_count": 19,
   "metadata": {
    "pycharm": {
     "name": "#%%\n"
    }
   },
   "outputs": [
    {
     "data": {
      "text/plain": [
       "<Figure size 960x480 with 0 Axes>"
      ]
     },
     "metadata": {},
     "output_type": "display_data"
    },
    {
     "data": {
      "image/png": "[encoded data removed]",
      "text/plain": [
       "<Figure size 432x288 with 1 Axes>"
      ]
     },
     "metadata": {
      "needs_background": "light"
     },
     "output_type": "display_data"
    }
   ],
   "source": [
    "fattree = [fattree_eg_solved,fattree_eb_solved,fattree_ep_solved,fattree_metis_solved,fattree_random_solved,fattree_roundrobin_solved,fattree_switchBin_solved]\n",
    "random = [random_eg_solved,random_eb_solved,random_ep_solved,random_metis_solved,random_random_solved,random_roundrobin_solved,random_switchBin_solved]\n",
    "\n",
    "fattree_keys = [list(filter(lambda x:x in fattree_instances_with_solution_for_all,solved)) for solved in fattree]\n",
    "random_keys = [list(filter(lambda x:x in random_instances_with_solution_for_all,solved)) for solved in random]\n",
    "fattree_values = [[fattree_cleaned_data[x].EMBEDGREEDY_HOSTS for x in fattree_keys[0]],\n",
    "                  [fattree_cleaned_data[x].EMBEDBALANCED_HOSTS for x in fattree_keys[1]],\n",
    "                  [fattree_cleaned_data[x].EMBEDPARTITION_HOSTS for x in fattree_keys[2]],\n",
    "                  [fattree_cleaned_data[x].METIS_HOSTS for x in fattree_keys[3]],\n",
    "                  [fattree_cleaned_data[x].RANDOM_HOSTS for x in fattree_keys[4]],\n",
    "                  [fattree_cleaned_data[x].ROUNDROBIN_HOSTS for x in fattree_keys[5]],\n",
    "                  [fattree_cleaned_data[x].SWITCHBIN_HOSTS for x in fattree_keys[6]]]\n",
    "\n",
    "random_values = [[random_cleaned_data[x].EMBEDGREEDY_HOSTS for x in random_keys[0]],\n",
    "                  [random_cleaned_data[x].EMBEDBALANCED_HOSTS for x in random_keys[1]],\n",
    "                  [random_cleaned_data[x].EMBEDPARTITION_HOSTS for x in random_keys[2]],\n",
    "                  [random_cleaned_data[x].METIS_HOSTS for x in random_keys[3]],\n",
    "                  [random_cleaned_data[x].RANDOM_HOSTS for x in random_keys[4]],\n",
    "                  [random_cleaned_data[x].ROUNDROBIN_HOSTS for x in random_keys[5]],\n",
    "                  [random_cleaned_data[x].SWITCHBIN_HOSTS for x in random_keys[6]]]\n",
    "\n",
    "import matplotlib.pyplot as plt\n",
    "import numpy as np\n",
    "import matplotlib as mpl\n",
    "mpl.rcParams['text.usetex'] = True\n",
    "SPINE_COLOR = 'gray'\n",
    "import matplotlib.patches as mpatches\n",
    "\n",
    "#PARTITION = DivideSwap\n",
    "#GREEDY = GreedyP\n",
    "#BALANCED = K-balanced\n",
    "\n",
    "ticks = [\"GreedyP\",\"Kbalanced\",\"DivideSwap\",\"Metis\",\"Random\",\"RoundRobin\",\"SwitchBin\"]\n",
    "\n",
    "    \n",
    "plt.figure(num=None, figsize=(12, 6), dpi=80, facecolor='w', edgecolor='k')\n",
    "color_b1=\"red\"\n",
    "color_b2=\"blue\"\n",
    "\n",
    "\n",
    "fig, ax = plt.subplots()\n",
    "b1 = plt.boxplot(fattree_values, positions=np.array(range(len(fattree_values)))*2.0-0.5, sym='', widths=0.6,whis=[0,100],boxprops=dict(color=color_b1),\n",
    "            capprops=dict(color=color_b1),\n",
    "            whiskerprops=dict(color=color_b1),\n",
    "            flierprops=dict(color=color_b1, markeredgecolor=color_b1),\n",
    "            medianprops=dict(color=color_b1,linewidth=4))\n",
    "b2 = plt.boxplot(random_values, positions=np.array(range(len(random_values)))*2.0+0.5, sym='', widths=0.6,whis=[0,100],boxprops=dict(color=color_b2),\n",
    "            capprops=dict(color=color_b2),\n",
    "            whiskerprops=dict(color=color_b2),\n",
    "            flierprops=dict(color=color_b2, markeredgecolor=color_b2),\n",
    "            medianprops=dict(color=color_b2,linewidth=4))\n",
    "\n",
    "\n",
    "# draw temporary red and blue lines and use them to create a legend\n",
    "ax.tick_params(axis='x', rotation=60)\n",
    "plt.xticks(range(0, len(ticks) * 2 + 2, 2), ticks)\n",
    "plt.tick_params(axis='both', labelsize=12)\n",
    "\n",
    "plt.yticks(range(0, 21), range(0, 21))\n",
    "\n",
    "plt.ylabel(r'\\textbf{Number of physical hosts}', fontsize=12)\n",
    "plt.xlabel(r'\\textbf{Algorithm}', fontsize=12)\n",
    "\n",
    "plt.xticks(list(range(0,len(ticks)*2+2,2)), [f'${i}$' for i in ticks])\n",
    "\n",
    "for i in range(0,len(ticks)*2,2):\n",
    "    plt.axvline(x=i+1,color=\"black\")\n",
    "    \n",
    "plt.tick_params(axis='x', rotation=60)\n",
    "plt.grid(axis='y')\n",
    "plt.xlim(-1, 13)\n",
    "plt.ylim(0, 29)\n",
    "plt.yticks(list(range(0,30,2)), [f'${i}$' for i in range(0,30,2)])\n",
    "\n",
    "\n",
    "lables_patchs = []\n",
    "font = {'family': 'serif',\n",
    "        'color':  'black',\n",
    "        'weight': 'normal',\n",
    "        'size': 16,\n",
    "        }\n",
    "\n",
    "add_patch = mpatches.Patch(color=color_b1, label=\"vFatTree\")\n",
    "lables_patchs.append(add_patch)\n",
    "\n",
    "add_patch = mpatches.Patch(color=color_b2, label=\"vRandom\")\n",
    "lables_patchs.append(add_patch)\n",
    "lables = [\"vFatTree\",\"vRandom\"]\n",
    "\n",
    "plt.legend(lables_patchs,lables, fontsize=14, ncol=2, loc=\"upper center\")\n",
    "\n",
    "plt.savefig('Gros_solutions_all_algo.pdf',bbox_inches='tight')\n",
    "#plt.show()\n",
    "#plt.yscale(\"log\")"
   ]
  },
  {
   "cell_type": "code",
   "execution_count": 20,
   "metadata": {
    "pycharm": {
     "name": "#%%\n"
    }
   },
   "outputs": [
    {
     "data": {
      "text/plain": [
       "<Figure size 960x480 with 0 Axes>"
      ]
     },
     "metadata": {},
     "output_type": "display_data"
    },
    {
     "data": {
      "image/png": "[encoded data removed]",
      "text/plain": [
       "<Figure size 432x288 with 1 Axes>"
      ]
     },
     "metadata": {
      "needs_background": "light"
     },
     "output_type": "display_data"
    }
   ],
   "source": [
    "\n",
    "fattree_keys = [list(filter(lambda x:x in fattree_instances_with_solution_for_all,solved)) for solved in fattree]\n",
    "random_keys = [list(filter(lambda x:x in random_instances_with_solution_for_all,solved)) for solved in random]\n",
    "fattree_values = [[fattree_cleaned_data[x].EMBEDGREEDY_HOSTS for x in sorted(fattree_keys[0])],\n",
    "                  [fattree_cleaned_data[x].EMBEDBALANCED_HOSTS for x in sorted(fattree_keys[1])],\n",
    "                  [fattree_cleaned_data[x].EMBEDPARTITION_HOSTS for x in sorted(fattree_keys[2])],\n",
    "                  [fattree_cleaned_data[x].METIS_HOSTS for x in sorted(fattree_keys[3])],\n",
    "                  [fattree_cleaned_data[x].RANDOM_HOSTS for x in sorted(fattree_keys[4])],\n",
    "                  [fattree_cleaned_data[x].ROUNDROBIN_HOSTS for x in sorted(fattree_keys[5])],\n",
    "                  [fattree_cleaned_data[x].SWITCHBIN_HOSTS for x in sorted(fattree_keys[6])]]\n",
    "\n",
    "for i in range(0,len(fattree_values[0])):\n",
    "    minimum_solution = min([fattree_values[j][i] for j in range(0,len(fattree_values))])\n",
    "    for j in range(0,len(fattree_values)):\n",
    "        fattree_values[j][i] -= minimum_solution\n",
    "\n",
    "\n",
    "\n",
    "random_values = [[random_cleaned_data[x].EMBEDGREEDY_HOSTS for x in random_keys[0]],\n",
    "                  [random_cleaned_data[x].EMBEDBALANCED_HOSTS for x in random_keys[1]],\n",
    "                  [random_cleaned_data[x].EMBEDPARTITION_HOSTS for x in random_keys[2]],\n",
    "                  [random_cleaned_data[x].METIS_HOSTS for x in random_keys[3]],\n",
    "                  [random_cleaned_data[x].RANDOM_HOSTS for x in random_keys[4]],\n",
    "                  [random_cleaned_data[x].ROUNDROBIN_HOSTS for x in random_keys[5]],\n",
    "                  [random_cleaned_data[x].SWITCHBIN_HOSTS for x in random_keys[6]]]\n",
    "\n",
    "\n",
    "\n",
    "for i in range(0,len(random_values[0])):\n",
    "    minimum_solution = min([random_values[j][i] for j in range(0,len(random_values))])\n",
    "    for j in range(0,len(random_values)): \n",
    "        random_values[j][i] -= minimum_solution\n",
    "\n",
    "\n",
    "import matplotlib.pyplot as plt\n",
    "import numpy as np\n",
    "import matplotlib as mpl\n",
    "mpl.rcParams['text.usetex'] = True\n",
    "SPINE_COLOR = 'gray'\n",
    "import matplotlib.patches as mpatches\n",
    "\n",
    "#PARTITION = DivideSwap\n",
    "#GREEDY = GreedyP\n",
    "#BALANCED = K-balanced\n",
    "color_b1=\"red\"\n",
    "color_b2=\"blue\"\n",
    "\n",
    "\n",
    "\n",
    "ticks = [\"GreedyP\",\"Kbalanced\",\"DivideSwap\",\"Metis\",\"Random\",\"RoundRobin\",\"SwitchBin\"]\n",
    "\n",
    "    \n",
    "plt.figure(num=None, figsize=(12, 6), dpi=80, facecolor='w', edgecolor='k')\n",
    "fig, ax = plt.subplots()\n",
    "b1 = plt.boxplot(fattree_values, positions=np.array(range(len(fattree_values)))*2.0-0.5, sym='', widths=0.6,whis=[0,100],boxprops=dict(color=color_b1),\n",
    "            capprops=dict(color=color_b1),\n",
    "            whiskerprops=dict(color=color_b1),\n",
    "            flierprops=dict(color=color_b1, markeredgecolor=color_b1),\n",
    "            medianprops=dict(color=color_b1,linewidth=4))\n",
    "b2 = plt.boxplot(random_values, positions=np.array(range(len(random_values)))*2.0+0.5, sym='', widths=0.6,whis=[0,100],boxprops=dict(color=color_b2),\n",
    "            capprops=dict(color=color_b2),\n",
    "            whiskerprops=dict(color=color_b2),\n",
    "            flierprops=dict(color=color_b2, markeredgecolor=color_b2),\n",
    "            medianprops=dict(color=color_b2,linewidth=4))\n",
    "\n",
    "\n",
    "\n",
    "# draw temporary red and blue lines and use them to create a legend\n",
    "ax.tick_params(axis='x', rotation=60)\n",
    "plt.xticks(range(0, len(ticks) * 2 + 2, 2), ticks)\n",
    "plt.tick_params(axis='both', labelsize=12)\n",
    "\n",
    "plt.yticks(range(0, 21), range(0, 21))\n",
    "\n",
    "plt.ylabel(r'\\textbf{Distance [\\# of hosts]}', fontsize=12)\n",
    "plt.xlabel(r'\\textbf{Algorithm}', fontsize=12)\n",
    "\n",
    "plt.xticks(list(range(0,len(ticks)*2+2,2)), [f'${i}$' for i in ticks])\n",
    "\n",
    "for i in range(0,len(ticks)*2,2):\n",
    "    plt.axvline(x=i+1,color=\"black\")\n",
    "    \n",
    "plt.tick_params(axis='x', rotation=60)\n",
    "plt.grid(axis='y')\n",
    "plt.xlim(-1, 13)\n",
    "plt.ylim(0, 29)\n",
    "plt.yticks(list(range(0,30,2)), [f'${i}$' for i in range(0,30,2)])\n",
    "\n",
    "lables_patchs = []\n",
    "font = {'family': 'serif',\n",
    "        'color':  'black',\n",
    "        'weight': 'normal',\n",
    "        'size': 16,\n",
    "        }\n",
    "\n",
    "add_patch = mpatches.Patch(color=color_b1, label=\"vFatTree\")\n",
    "lables_patchs.append(add_patch)\n",
    "\n",
    "add_patch = mpatches.Patch(color=color_b2, label=\"vRandom\")\n",
    "lables_patchs.append(add_patch)\n",
    "lables = [\"vFatTree\",\"vRandom\"]\n",
    "\n",
    "plt.legend(lables_patchs,lables, fontsize=14, ncol=2, loc=\"upper center\")\n",
    "\n",
    "plt.savefig('Gros_distances_all_algo.pdf',bbox_inches='tight')\n",
    "#plt.show()\n",
    "#plt.yscale(\"log\")\n",
    "\n"
   ]
  },
  {
   "cell_type": "code",
   "execution_count": null,
   "metadata": {
    "pycharm": {
     "name": "#%%\n"
    }
   },
   "outputs": [],
   "source": []
  },
  {
   "cell_type": "code",
   "execution_count": null,
   "metadata": {
    "pycharm": {
     "name": "#%%\n"
    }
   },
   "outputs": [],
   "source": []
  },
  {
   "cell_type": "code",
   "execution_count": null,
   "metadata": {
    "pycharm": {
     "name": "#%%\n"
    }
   },
   "outputs": [],
   "source": []
  },
  {
   "cell_type": "code",
   "execution_count": null,
   "metadata": {
    "pycharm": {
     "name": "#%%\n"
    }
   },
   "outputs": [],
   "source": []
  },
  {
   "cell_type": "code",
   "execution_count": null,
   "metadata": {
    "pycharm": {
     "name": "#%%\n"
    }
   },
   "outputs": [],
   "source": []
  },
  {
   "cell_type": "code",
   "execution_count": 21,
   "metadata": {
    "pycharm": {
     "name": "#%%\n"
    }
   },
   "outputs": [
    {
     "name": "stdout",
     "output_type": "stream",
     "text": [
      "[37.25527466261167, 43.527846417030986, 5.854400304124692, 54.989545713742636]\n"
     ]
    },
    {
     "data": {
      "text/plain": [
       "<Figure size 960x480 with 0 Axes>"
      ]
     },
     "metadata": {},
     "output_type": "display_data"
    },
    {
     "data": {
      "image/png": "[encoded data removed]",
      "text/plain": [
       "<Figure size 432x288 with 1 Axes>"
      ]
     },
     "metadata": {
      "needs_background": "light"
     },
     "output_type": "display_data"
    }
   ],
   "source": [
    "\n",
    "import matplotlib.pyplot as plt\n",
    "import numpy as np\n",
    "import matplotlib as mpl\n",
    "mpl.rcParams['text.usetex'] = True\n",
    "SPINE_COLOR = 'gray'\n",
    "import matplotlib.patches as mpatches\n",
    "\n",
    "n_cpu = [\n",
    "                  [fattree_cleaned_data[x].METIS_HOST_CPU_OVERCOMMITMENT for x in fattree_all_solution_marged]+[random_cleaned_data[x].METIS_HOST_CPU_OVERCOMMITMENT for x in random_all_solution_marged],\n",
    "                  [fattree_cleaned_data[x].RANDOM_HOST_CPU_OVERCOMMITMENT for x in fattree_all_solution_marged]+[random_cleaned_data[x].RANDOM_HOST_CPU_OVERCOMMITMENT for x in random_all_solution_marged],\n",
    "                  [fattree_cleaned_data[x].ROUNDROBIN_HOST_CPU_OVERCOMMITMENT for x in fattree_all_solution_marged]+[random_cleaned_data[x].ROUNDROBIN_HOST_CPU_OVERCOMMITMENT for x in random_all_solution_marged],\n",
    "                  [fattree_cleaned_data[x].SWITCHBIN_HOST_CPU_OVERCOMMITMENT for x in fattree_all_solution_marged]+[random_cleaned_data[x].SWITCHBIN_HOST_CPU_OVERCOMMITMENT for x in random_all_solution_marged]]\n",
    "\n",
    "n_cpu=[list(filter(lambda x: x>0, l))for l in n_cpu]\n",
    "\n",
    "\n",
    "\n",
    "\n",
    "max_cpu = [\n",
    "                  [fattree_cleaned_data[x].METIS_MAX_CPU_OVERCOMMITMENT for x in fattree_all_solution_marged]+[random_cleaned_data[x].METIS_MAX_CPU_OVERCOMMITMENT for x in random_all_solution_marged],\n",
    "                  [fattree_cleaned_data[x].RANDOM_MAX_CPU_OVERCOMMITMENT for x in fattree_all_solution_marged]+[random_cleaned_data[x].RANDOM_MAX_CPU_OVERCOMMITMENT for x in random_all_solution_marged],\n",
    "                  [fattree_cleaned_data[x].ROUNDROBIN_MAX_CPU_OVERCOMMITMENT for x in fattree_all_solution_marged]+[random_cleaned_data[x].ROUNDROBIN_MAX_CPU_OVERCOMMITMENT for x in random_all_solution_marged],\n",
    "                  [fattree_cleaned_data[x].SWITCHBIN_MAX_CPU_OVERCOMMITMENT for x in fattree_all_solution_marged]+[random_cleaned_data[x].SWITCHBIN_MAX_CPU_OVERCOMMITMENT for x in random_all_solution_marged]]\n",
    "\n",
    "max_cpu=[list(filter(lambda x: x>0, l))for l in max_cpu]\n",
    "\n",
    "\n",
    "\n",
    "ticks = [\"Metis\",\"Random\",\"RoundRobin\",\"SwitchBin\"]\n",
    "\n",
    "\n",
    "\n",
    "\n",
    "def set_box_color(bp, color):\n",
    "    plt.setp(bp['boxes'], color=color)\n",
    "    plt.setp(bp['whiskers'], color=color)\n",
    "    plt.setp(bp['caps'], color=color)\n",
    "    plt.setp(bp['medians'], color=color,linewidth=4)\n",
    "\n",
    "    \n",
    "plt.figure(num=None, figsize=(12, 6), dpi=80, facecolor='w', edgecolor='k')\n",
    "fig, ax = plt.subplots()\n",
    "\n",
    "\n",
    "b1 = plt.boxplot(n_cpu, positions=np.array(range(len(n_cpu)))*2.0-0.5, sym='', widths=0.6,whis=[0,100])\n",
    "b2 = plt.boxplot(max_cpu, positions=np.array(range(len(n_cpu)))*2.0+0.5, sym='', widths=0.6,whis=[0,100])\n",
    "\n",
    "\n",
    "color_b1=\"green\"\n",
    "color_b2=\"orange\"\n",
    "\n",
    "set_box_color(b1, color_b1) # colors are from http://colorbrewer2.org/\n",
    "set_box_color(b2, color_b2)\n",
    "ax.tick_params(axis='x', rotation=60)\n",
    "\n",
    "\n",
    "\n",
    "plt.axvline(x=1,color=\"black\")\n",
    "plt.axvline(x=3,color=\"black\")\n",
    "plt.axvline(x=5,color=\"black\")\n",
    "\n",
    "\n",
    "plt.xticks(list(range(0,len(ticks)*2+2,2)), [f'${i}$' for i in ticks])\n",
    "\n",
    "plt.tick_params(axis='both', labelsize=16)\n",
    "\n",
    "plt.grid(axis='y')\n",
    "plt.xlim(-1, 7)\n",
    "plt.ylim(1, 30000)\n",
    "plt.yscale(\"log\")\n",
    "\n",
    "\n",
    "lables_patchs = []\n",
    "font = {'family': 'serif',\n",
    "        'color':  'black',\n",
    "        'weight': 'normal',\n",
    "        'size': 16,\n",
    "        }\n",
    "\n",
    "add_patch = mpatches.Patch(color=color_b1, label=\"\\# Hosts\")\n",
    "lables_patchs.append(add_patch)\n",
    "\n",
    "add_patch = mpatches.Patch(color=color_b2, label=\"\\% CPU overcommitment\")\n",
    "lables_patchs.append(add_patch)\n",
    "lables = [\"\\# Hosts\",\"\\% CPU overcommitment\"]\n",
    "\n",
    "plt.xlabel(r'\\textbf{Algorithm}', fontsize=12)\n",
    "plt.legend(lables_patchs,lables, fontsize=14, ncol=2, loc=\"upper center\")\n",
    "\n",
    "\n",
    "ncpu_percentage = [len(x) for x in n_cpu]\n",
    "total_solutions = len(random_all_solution_marged) + len(fattree_all_solution_marged)\n",
    "ncpu_percentage = [(x/total_solutions)*100 for x in ncpu_percentage]\n",
    "print(ncpu_percentage)\n",
    "font.update({'size':14})\n",
    "for c,x in enumerate(ncpu_percentage):\n",
    "    plt.text((c*2) - 0.45 , 35000, r'${:.2f}\\%$'.format(x), fontdict=font)\n",
    "\n",
    "font.update({'size':12})\n",
    "plt.text(-0.15, 70000, r'\\textbf{Percentage of instances with overcommitment}', fontdict=font)\n",
    "\n",
    "\n",
    "\n",
    "plt.savefig('Gros_CPU_overcommitment.pdf',bbox_inches='tight')\n",
    "#plt.show()"
   ]
  },
  {
   "cell_type": "code",
   "execution_count": 22,
   "metadata": {
    "pycharm": {
     "name": "#%%\n"
    }
   },
   "outputs": [
    {
     "name": "stdout",
     "output_type": "stream",
     "text": [
      "[0.5702337958563011, 1.4826078692263827, 0.0, 2.547044288158145]\n"
     ]
    },
    {
     "data": {
      "text/plain": [
       "<Figure size 960x480 with 0 Axes>"
      ]
     },
     "metadata": {},
     "output_type": "display_data"
    },
    {
     "data": {
      "image/png": "[encoded data removed]",
      "text/plain": [
       "<Figure size 432x288 with 1 Axes>"
      ]
     },
     "metadata": {
      "needs_background": "light"
     },
     "output_type": "display_data"
    }
   ],
   "source": [
    "import matplotlib.pyplot as plt\n",
    "import numpy as np\n",
    "import matplotlib as mpl\n",
    "mpl.rcParams['text.usetex'] = True\n",
    "SPINE_COLOR = 'gray'\n",
    "import matplotlib.patches as mpatches\n",
    "\n",
    "n_cpu = [\n",
    "                  [fattree_cleaned_data[x].METIS_HOST_MEMORY_OVERCOMMITMENT for x in fattree_all_solution_marged]+[random_cleaned_data[x].METIS_HOST_MEMORY_OVERCOMMITMENT for x in random_all_solution_marged],\n",
    "                  [fattree_cleaned_data[x].RANDOM_HOST_MEMORY_OVERCOMMITMENT for x in fattree_all_solution_marged]+[random_cleaned_data[x].RANDOM_HOST_MEMORY_OVERCOMMITMENT for x in random_all_solution_marged],\n",
    "                  [fattree_cleaned_data[x].ROUNDROBIN_HOST_MEMORY_OVERCOMMITMENT for x in fattree_all_solution_marged]+[random_cleaned_data[x].ROUNDROBIN_HOST_MEMORY_OVERCOMMITMENT for x in random_all_solution_marged],\n",
    "                  [fattree_cleaned_data[x].SWITCHBIN_HOST_MEMORY_OVERCOMMITMENT for x in fattree_all_solution_marged]+[random_cleaned_data[x].SWITCHBIN_HOST_MEMORY_OVERCOMMITMENT for x in random_all_solution_marged]]\n",
    "\n",
    "n_cpu=[list(filter(lambda x: x>0, l))for l in n_cpu]\n",
    "\n",
    "\n",
    "\n",
    "\n",
    "max_cpu = [\n",
    "                  [fattree_cleaned_data[x].METIS_MAX_MEMORY_OVERCOMMITMENT for x in fattree_all_solution_marged]+[random_cleaned_data[x].METIS_MAX_MEMORY_OVERCOMMITMENT for x in random_all_solution_marged],\n",
    "                  [fattree_cleaned_data[x].RANDOM_MAX_MEMORY_OVERCOMMITMENT for x in fattree_all_solution_marged]+[random_cleaned_data[x].RANDOM_MAX_MEMORY_OVERCOMMITMENT for x in random_all_solution_marged],\n",
    "                  [fattree_cleaned_data[x].ROUNDROBIN_MAX_MEMORY_OVERCOMMITMENT for x in fattree_all_solution_marged]+[random_cleaned_data[x].ROUNDROBIN_MAX_MEMORY_OVERCOMMITMENT for x in random_all_solution_marged],\n",
    "                  [fattree_cleaned_data[x].SWITCHBIN_MAX_MEMORY_OVERCOMMITMENT for x in fattree_all_solution_marged]+[random_cleaned_data[x].SWITCHBIN_MAX_MEMORY_OVERCOMMITMENT for x in random_all_solution_marged]]\n",
    "\n",
    "max_cpu=[list(filter(lambda x: x>0, l))for l in max_cpu]\n",
    "\n",
    "\n",
    "\n",
    "ticks = [\"Metis\",\"Random\",\"RoundRobin\",\"SwitchBin\"]\n",
    "\n",
    "\n",
    "\n",
    "\n",
    "def set_box_color(bp, color):\n",
    "    plt.setp(bp['boxes'], color=color)\n",
    "    plt.setp(bp['whiskers'], color=color)\n",
    "    plt.setp(bp['caps'], color=color)\n",
    "    plt.setp(bp['medians'], color=color,linewidth=4)\n",
    "\n",
    "    \n",
    "plt.figure(num=None, figsize=(12, 6), dpi=80, facecolor='w', edgecolor='k')\n",
    "fig, ax = plt.subplots()\n",
    "\n",
    "\n",
    "b1 = plt.boxplot(n_cpu, positions=np.array(range(len(n_cpu)))*2.0-0.5, sym='', widths=0.6,whis=[0,100])\n",
    "b2 = plt.boxplot(max_cpu, positions=np.array(range(len(n_cpu)))*2.0+0.5, sym='', widths=0.6,whis=[0,100])\n",
    "\n",
    "\n",
    "color_b1=\"green\"\n",
    "color_b2=\"orange\"\n",
    "\n",
    "set_box_color(b1, color_b1) # colors are from http://colorbrewer2.org/\n",
    "set_box_color(b2, color_b2)\n",
    "ax.tick_params(axis='x', rotation=60)\n",
    "\n",
    "\n",
    "\n",
    "plt.axvline(x=1,color=\"black\")\n",
    "plt.axvline(x=3,color=\"black\")\n",
    "plt.axvline(x=5,color=\"black\")\n",
    "\n",
    "\n",
    "plt.xticks(list(range(0,len(ticks)*2+2,2)), [f'${i}$' for i in ticks])\n",
    "\n",
    "plt.tick_params(axis='both', labelsize=16)\n",
    "\n",
    "plt.grid(axis='y')\n",
    "plt.xlim(-1, 7)\n",
    "plt.ylim(1, 30000)\n",
    "plt.yscale(\"log\")\n",
    "\n",
    "\n",
    "lables_patchs = []\n",
    "font = {'family': 'serif',\n",
    "        'color':  'black',\n",
    "        'weight': 'normal',\n",
    "        'size': 16,\n",
    "        }\n",
    "\n",
    "add_patch = mpatches.Patch(color=color_b1, label=\"\\# Hosts\")\n",
    "lables_patchs.append(add_patch)\n",
    "\n",
    "add_patch = mpatches.Patch(color=color_b2, label=\"\\% Memory overcommitment\")\n",
    "lables_patchs.append(add_patch)\n",
    "lables = [\"\\# Hosts\",\"\\% Memory overcommitment\"]\n",
    "\n",
    "plt.xlabel(r'\\textbf{Algorithm}', fontsize=12)\n",
    "plt.legend(lables_patchs,lables, fontsize=14, ncol=2, loc=\"upper center\")\n",
    "\n",
    "\n",
    "ncpu_percentage = [len(x) for x in n_cpu]\n",
    "total_solutions = len(random_all_solution_marged) + len(fattree_all_solution_marged)\n",
    "ncpu_percentage = [(x/total_solutions)*100 for x in ncpu_percentage]\n",
    "print(ncpu_percentage)\n",
    "font.update({'size':14})\n",
    "for c,x in enumerate(ncpu_percentage):\n",
    "    plt.text((c*2) - 0.45 , 35000, r'${:.2f}\\%$'.format(x), fontdict=font)\n",
    "\n",
    "font.update({'size':12})\n",
    "plt.text(-0.15, 70000, r'\\textbf{Percentage of instances with overcommitment}', fontdict=font)\n",
    "\n",
    "\n",
    "\n",
    "plt.savefig('Gros_Memory_overcommitment.pdf',bbox_inches='tight')\n",
    "\n",
    "\n",
    "#plt.show()"
   ]
  },
  {
   "cell_type": "code",
   "execution_count": 23,
   "metadata": {
    "pycharm": {
     "name": "#%%\n"
    }
   },
   "outputs": [
    {
     "name": "stdout",
     "output_type": "stream",
     "text": [
      "[4.0, 4.0, 4.0, 4.0, 5.0, 5.0, 5.0, 4.0, 5.0]\n",
      "[0.1710701387568903, 0.8173351073940316, 0.1710701387568903, 0.1710701387568903]\n"
     ]
    },
    {
     "data": {
      "text/plain": [
       "<Figure size 960x480 with 0 Axes>"
      ]
     },
     "metadata": {},
     "output_type": "display_data"
    },
    {
     "data": {
      "image/png": "[encoded data removed]",
      "text/plain": [
       "<Figure size 432x288 with 1 Axes>"
      ]
     },
     "metadata": {
      "needs_background": "light"
     },
     "output_type": "display_data"
    }
   ],
   "source": [
    "import matplotlib.pyplot as plt\n",
    "import numpy as np\n",
    "import matplotlib as mpl\n",
    "mpl.rcParams['text.usetex'] = True\n",
    "SPINE_COLOR = 'gray'\n",
    "import matplotlib.patches as mpatches\n",
    "\n",
    "n_cpu = [\n",
    "                  [fattree_cleaned_data[x].METIS_HOST_LINK_OVERCOMMITMENT for x in fattree_all_solution_marged]+[random_cleaned_data[x].METIS_HOST_LINK_OVERCOMMITMENT for x in random_all_solution_marged],\n",
    "                  [fattree_cleaned_data[x].RANDOM_HOST_LINK_OVERCOMMITMENT for x in fattree_all_solution_marged]+[random_cleaned_data[x].RANDOM_HOST_LINK_OVERCOMMITMENT for x in random_all_solution_marged],\n",
    "                  [fattree_cleaned_data[x].ROUNDROBIN_HOST_LINK_OVERCOMMITMENT for x in fattree_all_solution_marged]+[random_cleaned_data[x].ROUNDROBIN_HOST_LINK_OVERCOMMITMENT for x in random_all_solution_marged],\n",
    "                  [fattree_cleaned_data[x].SWITCHBIN_HOST_LINK_OVERCOMMITMENT for x in fattree_all_solution_marged]+[random_cleaned_data[x].SWITCHBIN_HOST_LINK_OVERCOMMITMENT for x in random_all_solution_marged]]\n",
    "\n",
    "n_cpu=[list(filter(lambda x: x>0, l))for l in n_cpu]\n",
    "print(n_cpu[0])\n",
    "\n",
    "\n",
    "\n",
    "\n",
    "max_cpu = [\n",
    "                  [fattree_cleaned_data[x].METIS_MAX_LINK_OVERCOMMITMENT for x in fattree_all_solution_marged]+[random_cleaned_data[x].METIS_MAX_LINK_OVERCOMMITMENT for x in random_all_solution_marged],\n",
    "                  [fattree_cleaned_data[x].RANDOM_MAX_LINK_OVERCOMMITMENT for x in fattree_all_solution_marged]+[random_cleaned_data[x].RANDOM_MAX_LINK_OVERCOMMITMENT for x in random_all_solution_marged],\n",
    "                  [fattree_cleaned_data[x].ROUNDROBIN_MAX_LINK_OVERCOMMITMENT for x in fattree_all_solution_marged]+[random_cleaned_data[x].ROUNDROBIN_MAX_LINK_OVERCOMMITMENT for x in random_all_solution_marged],\n",
    "                  [fattree_cleaned_data[x].SWITCHBIN_MAX_LINK_OVERCOMMITMENT for x in fattree_all_solution_marged]+[random_cleaned_data[x].SWITCHBIN_MAX_LINK_OVERCOMMITMENT for x in random_all_solution_marged]]\n",
    "\n",
    "max_cpu=[list(filter(lambda x: x>0, l))for l in max_cpu]\n",
    "\n",
    "\n",
    "\n",
    "ticks = [\"Metis\",\"Random\",\"RoundRobin\",\"SwitchBin\"]\n",
    "\n",
    "\n",
    "\n",
    "\n",
    "def set_box_color(bp, color):\n",
    "    plt.setp(bp['boxes'], color=color)\n",
    "    plt.setp(bp['whiskers'], color=color)\n",
    "    plt.setp(bp['caps'], color=color)\n",
    "    plt.setp(bp['medians'], color=color,linewidth=4)\n",
    "\n",
    "    \n",
    "plt.figure(num=None, figsize=(12, 6), dpi=80, facecolor='w', edgecolor='k')\n",
    "fig, ax = plt.subplots()\n",
    "\n",
    "\n",
    "b1 = plt.boxplot(n_cpu, positions=np.array(range(len(n_cpu)))*2.0-0.5, sym='', widths=0.6,whis=[0,100])\n",
    "b2 = plt.boxplot(max_cpu, positions=np.array(range(len(n_cpu)))*2.0+0.5, sym='', widths=0.6,whis=[0,100])\n",
    "\n",
    "\n",
    "color_b1=\"green\"\n",
    "color_b2=\"orange\"\n",
    "\n",
    "set_box_color(b1, color_b1) # colors are from http://colorbrewer2.org/\n",
    "set_box_color(b2, color_b2)\n",
    "ax.tick_params(axis='x', rotation=60)\n",
    "\n",
    "\n",
    "\n",
    "plt.axvline(x=1,color=\"black\")\n",
    "plt.axvline(x=3,color=\"black\")\n",
    "plt.axvline(x=5,color=\"black\")\n",
    "\n",
    "\n",
    "plt.xticks(list(range(0,len(ticks)*2+2,2)), [f'${i}$' for i in ticks])\n",
    "\n",
    "plt.tick_params(axis='both', labelsize=16)\n",
    "\n",
    "plt.grid(axis='y')\n",
    "plt.xlim(-1, 7)\n",
    "plt.ylim(1, 30000)\n",
    "plt.yscale(\"log\")\n",
    "\n",
    "\n",
    "lables_patchs = []\n",
    "font = {'family': 'serif',\n",
    "        'color':  'black',\n",
    "        'weight': 'normal',\n",
    "        'size': 16,\n",
    "        }\n",
    "\n",
    "add_patch = mpatches.Patch(color=color_b1, label=\"\\# Link\")\n",
    "lables_patchs.append(add_patch)\n",
    "\n",
    "add_patch = mpatches.Patch(color=color_b2, label=\"\\% Link overcommitment\")\n",
    "lables_patchs.append(add_patch)\n",
    "lables = [\"\\# Links\",\"\\% Link overcommitment\"]\n",
    "\n",
    "plt.xlabel(r'\\textbf{Algorithm}', fontsize=12)\n",
    "plt.legend(lables_patchs,lables, fontsize=14, ncol=2, loc=\"upper center\")\n",
    "\n",
    "\n",
    "ncpu_percentage = [len(x) for x in n_cpu]\n",
    "total_solutions = len(random_all_solution_marged) + len(fattree_all_solution_marged)\n",
    "ncpu_percentage = [(x/total_solutions)*100 for x in ncpu_percentage]\n",
    "print(ncpu_percentage)\n",
    "font.update({'size':14})\n",
    "for c,x in enumerate(ncpu_percentage):\n",
    "    plt.text((c*2) - 0.45 , 35000, r'${:.2f}\\%$'.format(x), fontdict=font)\n",
    "\n",
    "font.update({'size':12})\n",
    "plt.text(-0.15, 70000, r'\\textbf{Percentage of instances with overcommitment}', fontdict=font)\n",
    "\n",
    "\n",
    "\n",
    "plt.savefig('Gros_Link_overcommitment.pdf',bbox_inches='tight')\n",
    "\n",
    "\n",
    "#plt.show()"
   ]
  },
  {
   "cell_type": "code",
   "execution_count": null,
   "metadata": {
    "pycharm": {
     "name": "#%%\n"
    }
   },
   "outputs": [],
   "source": []
  },
  {
   "cell_type": "code",
   "execution_count": null,
   "metadata": {
    "pycharm": {
     "name": "#%%\n"
    }
   },
   "outputs": [],
   "source": []
  },
  {
   "cell_type": "code",
   "execution_count": null,
   "metadata": {
    "pycharm": {
     "name": "#%%\n"
    }
   },
   "outputs": [],
   "source": []
  },
  {
   "cell_type": "code",
   "execution_count": null,
   "metadata": {
    "pycharm": {
     "name": "#%%\n"
    }
   },
   "outputs": [],
   "source": []
  },
  {
   "cell_type": "code",
   "execution_count": null,
   "metadata": {
    "pycharm": {
     "name": "#%%\n"
    }
   },
   "outputs": [],
   "source": []
  },
  {
   "cell_type": "code",
   "execution_count": null,
   "metadata": {
    "pycharm": {
     "name": "#%%\n"
    }
   },
   "outputs": [],
   "source": []
  },
  {
   "cell_type": "code",
   "execution_count": null,
   "metadata": {
    "pycharm": {
     "name": "#%%\n"
    }
   },
   "outputs": [],
   "source": []
  },
  {
   "cell_type": "code",
   "execution_count": null,
   "metadata": {
    "pycharm": {
     "name": "#%%\n"
    }
   },
   "outputs": [],
   "source": []
  },
  {
   "cell_type": "code",
   "execution_count": 24,
   "metadata": {
    "pycharm": {
     "name": "#%%\n"
    }
   },
   "outputs": [
    {
     "name": "stdout",
     "output_type": "stream",
     "text": [
      "1260\n",
      "708\n"
     ]
    }
   ],
   "source": [
    "import matplotlib.pyplot as plt\n",
    "from collections import namedtuple\n",
    "import numpy as np\n",
    "import csv\n",
    "from copy import deepcopy\n",
    "\n",
    "algorithms= [\"Metis\", \"EmbedBalanced\", \"EmbedPartition\",\n",
    "             \"EmbedGreedy\", \"RandomPlacer\",\"RoundRobin\",\n",
    "             \"SwitchBinPlacer\"]\n",
    "\n",
    "labels = ['K', 'CORES','MEMORY','RATE','DENSITY',\n",
    "                   \"EMBEDGREEDY_HOSTS\", \"EMBEDBALANCED_HOSTS\", \"EMBEDPARTITION_HOSTS\", \"METIS_HOSTS\",\n",
    "                  \"METIS_HOST_CPU_OVERCOMMITMENT\", \"METIS_HOST_MEMORY_OVERCOMMITMENT\", \"METIS_HOST_LINK_OVERCOMMITMENT\",\"METIS_MAX_CPU_OVERCOMMITMENT\", \"METIS_MAX_MEMORY_OVERCOMMITMENT\", \"METIS_MAX_LINK_OVERCOMMITMENT\",\n",
    "                  \"RANDOM_HOSTS\",\"RANDOM_HOST_CPU_OVERCOMMITMENT\", \"RANDOM_HOST_MEMORY_OVERCOMMITMENT\", \"RANDOM_HOST_LINK_OVERCOMMITMENT\",\"RANDOM_MAX_CPU_OVERCOMMITMENT\", \"RANDOM_MAX_MEMORY_OVERCOMMITMENT\", \"RANDOM_MAX_LINK_OVERCOMMITMENT\",\n",
    "                  \"ROUNDROBIN_HOSTS\",\"ROUNDROBIN_HOST_CPU_OVERCOMMITMENT\", \"ROUNDROBIN_HOST_MEMORY_OVERCOMMITMENT\", \"ROUNDROBIN_HOST_LINK_OVERCOMMITMENT\",\"ROUNDROBIN_MAX_CPU_OVERCOMMITMENT\", \"ROUNDROBIN_MAX_MEMORY_OVERCOMMITMENT\", \"ROUNDROBIN_MAX_LINK_OVERCOMMITMENT\",\n",
    "                  \"SWITCHBIN_HOSTS\", \"SWITCHBIN_HOST_CPU_OVERCOMMITMENT\", \"SWITCHBIN_HOST_MEMORY_OVERCOMMITMENT\", \"SWITCHBIN_HOST_LINK_OVERCOMMITMENT\",\"SWITCHBIN_MAX_CPU_OVERCOMMITMENT\", \"SWITCHBIN_MAX_MEMORY_OVERCOMMITMENT\", \"SWITCHBIN_MAX_LINK_OVERCOMMITMENT\"]\n",
    "\n",
    "\n",
    "\n",
    "\n",
    "experiment_key = namedtuple(\"experiment_key\", labels[:5])\n",
    "experiment_results= namedtuple(\"experiment_results\", labels[5:])\n",
    "e=experiment_key(2,2,4,2,2)\n",
    "clened_data={}\n",
    "with open('pkl/Rennes_fattree.csv') as File:\n",
    "    reader = csv.reader(File, delimiter=';', quotechar=',', quoting=csv.QUOTE_MINIMAL)\n",
    "    \n",
    "    for row in list(reader)[1:]:\n",
    "        #print(row)\n",
    "        key_= experiment_key(*[int(float(i.replace(\",\",\".\"))) for i in row[:5]])\n",
    "        #print(key_)\n",
    "        results_ = experiment_results(*[float(i.replace(\",\",\".\")) if float(i.replace(\",\",\".\")) >= 0 else -1 for i in row[5:]])\n",
    "        #print(results_)\n",
    "        clened_data[key_]=results_\n",
    "\n",
    "filtered_data=dict()\n",
    "for key in clened_data.keys():\n",
    "    if clened_data[key].EMBEDGREEDY_HOSTS>0:\n",
    "        filtered_data[key]=clened_data[key]\n",
    "print(len(clened_data.keys()))\n",
    "\n",
    "print(len(filtered_data.keys()))\n",
    "fattree_cleaned_data=clened_data"
   ]
  },
  {
   "cell_type": "code",
   "execution_count": 25,
   "metadata": {
    "pycharm": {
     "name": "#%%\n"
    }
   },
   "outputs": [
    {
     "name": "stdout",
     "output_type": "stream",
     "text": [
      "Embedded Greedy solved\n",
      "708\n",
      "-------------------------\n",
      "Embedded Balanced solved\n",
      "594\n",
      "-------------------------\n",
      "Embedded Partition solved\n",
      "652\n",
      "-------------------------\n",
      "Metis solved without overcommitment\n",
      "466\n",
      "-------------------------\n",
      "Random solved without overcommitment\n",
      "306\n",
      "-------------------------\n",
      "RoundRobin solved without overcommitment\n",
      "484\n",
      "-------------------------\n",
      "SwitchBin solved without overcommitment\n",
      "315\n",
      "-------------------------\n",
      "All solution Marged\n",
      "708\n",
      "-------------------------\n",
      "All solution with solution for all the algos\n",
      "242\n",
      "-------------------------\n",
      "Embedded Greedy solved %\n",
      "100.0 %\n",
      "-------------------------\n",
      "Embedded Balanced solved %\n",
      "83.89830508474576 %\n",
      "-------------------------\n",
      "Embedded Partition solved %\n",
      "92.09039548022598 %\n",
      "-------------------------\n",
      "Metis solved %\n",
      "65.81920903954803 %\n",
      "-------------------------\n",
      "Random solved %\n",
      "43.22033898305085 %\n",
      "-------------------------\n",
      "RoundRobin solved %\n",
      "68.36158192090396 %\n",
      "-------------------------\n",
      "SwitchBin solved %\n",
      "44.49152542372881 %\n",
      "-------------------------\n",
      "All algo solved %\n",
      "34.18079096045198 %\n",
      "-------------------------\n"
     ]
    }
   ],
   "source": [
    "print(\"Embedded Greedy solved\")\n",
    "fattree_eg_solved=list(filter(lambda x:clened_data[x].EMBEDGREEDY_HOSTS>0, clened_data.keys()))\n",
    "print(len(fattree_eg_solved))\n",
    "print(\"-------------------------\")\n",
    "\n",
    "print(\"Embedded Balanced solved\")\n",
    "fattree_eb_solved=list(filter(lambda x:clened_data[x].EMBEDBALANCED_HOSTS>0, clened_data.keys()))\n",
    "print(len(fattree_eb_solved))\n",
    "print(\"-------------------------\")\n",
    "\n",
    "print(\"Embedded Partition solved\")\n",
    "fattree_ep_solved=list(filter(lambda x:clened_data[x].EMBEDPARTITION_HOSTS>0, clened_data.keys()))\n",
    "print(len(fattree_ep_solved))\n",
    "print(\"-------------------------\")\n",
    "\n",
    "print(\"Metis solved without overcommitment\")\n",
    "fattree_metis_solved=list(filter(lambda x:clened_data[x].METIS_HOST_CPU_OVERCOMMITMENT==0.0 and clened_data[x].METIS_HOST_MEMORY_OVERCOMMITMENT==0.0 and clened_data[x].METIS_HOST_LINK_OVERCOMMITMENT==0.0, clened_data.keys()))\n",
    "print(len(fattree_metis_solved))\n",
    "print(\"-------------------------\")\n",
    "\n",
    "print(\"Random solved without overcommitment\")\n",
    "fattree_random_solved=list(filter(lambda x:clened_data[x].RANDOM_HOST_CPU_OVERCOMMITMENT==0.0 and clened_data[x].RANDOM_HOST_MEMORY_OVERCOMMITMENT==0.0 and clened_data[x].RANDOM_HOST_LINK_OVERCOMMITMENT==0.0, clened_data.keys()))\n",
    "print(len(fattree_random_solved))\n",
    "print(\"-------------------------\")\n",
    "\n",
    "print(\"RoundRobin solved without overcommitment\")\n",
    "fattree_roundrobin_solved = list(filter(lambda x:clened_data[x].ROUNDROBIN_HOST_CPU_OVERCOMMITMENT==0.0 and clened_data[x].ROUNDROBIN_HOST_MEMORY_OVERCOMMITMENT==0.0 and clened_data[x].ROUNDROBIN_HOST_LINK_OVERCOMMITMENT==0.0, clened_data.keys()))\n",
    "print(len(fattree_roundrobin_solved))\n",
    "print(\"-------------------------\")\n",
    "\n",
    "print(\"SwitchBin solved without overcommitment\")\n",
    "fattree_switchBin_solved = list(filter(lambda x:clened_data[x].SWITCHBIN_HOST_CPU_OVERCOMMITMENT==0.0 and clened_data[x].SWITCHBIN_HOST_MEMORY_OVERCOMMITMENT==0.0 and clened_data[x].SWITCHBIN_HOST_LINK_OVERCOMMITMENT==0.0, clened_data.keys()))\n",
    "print(len(fattree_switchBin_solved))\n",
    "print(\"-------------------------\")\n",
    "\n",
    "print(\"All solution Marged\")\n",
    "fattree_all_solution_marged=set(fattree_eg_solved+fattree_eb_solved+fattree_ep_solved+fattree_metis_solved+fattree_random_solved+fattree_roundrobin_solved+fattree_switchBin_solved)\n",
    "print(len(fattree_all_solution_marged))\n",
    "print(\"-------------------------\")\n",
    "\n",
    "print(\"All solution with solution for all the algos\")\n",
    "fattree_instances_with_solution_for_all= fattree_all_solution_marged.intersection(set(fattree_eg_solved),set(fattree_eb_solved),set(fattree_ep_solved),set(fattree_metis_solved),set(fattree_random_solved),set(fattree_roundrobin_solved),set(fattree_switchBin_solved))\n",
    "print(len(fattree_instances_with_solution_for_all))\n",
    "print(\"-------------------------\")\n",
    "\n",
    "print(\"Embedded Greedy solved %\")\n",
    "print(len(fattree_eg_solved)/len(fattree_all_solution_marged) * 100,\"%\")\n",
    "print(\"-------------------------\")\n",
    "\n",
    "print(\"Embedded Balanced solved %\")\n",
    "print(len(fattree_eb_solved)/len(fattree_all_solution_marged) * 100,\"%\")\n",
    "print(\"-------------------------\")\n",
    "\n",
    "print(\"Embedded Partition solved %\")\n",
    "print(len(fattree_ep_solved)/len(fattree_all_solution_marged) * 100,\"%\")\n",
    "print(\"-------------------------\")\n",
    "\n",
    "print(\"Metis solved %\")\n",
    "print(len(fattree_metis_solved)/len(fattree_all_solution_marged) * 100,\"%\")\n",
    "print(\"-------------------------\")\n",
    "\n",
    "print(\"Random solved %\")\n",
    "print(len(fattree_random_solved)/len(fattree_all_solution_marged) * 100,\"%\")\n",
    "print(\"-------------------------\")\n",
    "\n",
    "print(\"RoundRobin solved %\")\n",
    "print(len(fattree_roundrobin_solved)/len(fattree_all_solution_marged) * 100,\"%\")\n",
    "print(\"-------------------------\")\n",
    "\n",
    "print(\"SwitchBin solved %\")\n",
    "print(len(fattree_switchBin_solved)/len(fattree_all_solution_marged) * 100,\"%\")\n",
    "print(\"-------------------------\")\n",
    "\n",
    "print(\"All algo solved %\")\n",
    "print(len(fattree_instances_with_solution_for_all)/len(fattree_all_solution_marged) * 100,\"%\")\n",
    "print(\"-------------------------\")"
   ]
  },
  {
   "cell_type": "code",
   "execution_count": 26,
   "metadata": {
    "pycharm": {
     "name": "#%%\n"
    }
   },
   "outputs": [],
   "source": [
    "def get_data_ft(dataset,K=None,DENSITY=None,CORES=None,MEMORY=None,RATE=None):\n",
    "    keys=list(dataset.keys())\n",
    "    \n",
    "    if K != None:\n",
    "        keys=list(filter(lambda x: x.K == K, keys))\n",
    "        \n",
    "    if DENSITY != None:\n",
    "        keys=list(filter(lambda x: x.DENSITY == DENSITY, keys))\n",
    "        \n",
    "    if CORES != None:\n",
    "        keys=list(filter(lambda x: x.CORES == CORES, keys))\n",
    "        \n",
    "    if MEMORY != None:\n",
    "        keys=list(filter(lambda x: x.MEMORY == MEMORY, keys))\n",
    "        \n",
    "    if RATE != None:\n",
    "        keys=list(filter(lambda x: x.RATE == RATE, keys))\n",
    "    \n",
    "    data_retrived={}\n",
    "    for k in keys:\n",
    "        data_retrived[k]=dataset[k]\n",
    "        \n",
    "    return data_retrived"
   ]
  },
  {
   "cell_type": "code",
   "execution_count": 27,
   "metadata": {
    "pycharm": {
     "name": "#%%\n"
    }
   },
   "outputs": [],
   "source": [
    "def get_data_rd(dataset,K=None,DENSITY=None,CORES=None,MEMORY=None,RATE=None):\n",
    "    keys=list(dataset.keys())\n",
    "    \n",
    "    if K != None:\n",
    "        keys=list(filter(lambda x: x.N == N, keys))\n",
    "        \n",
    "    if DENSITY != None:\n",
    "        keys=list(filter(lambda x: x.DENSITY == DENSITY, keys))\n",
    "        \n",
    "    if SEED != None:\n",
    "        keys=list(filter(lambda x: x.SEED == SEED, keys))\n",
    "    \n",
    "    data_retrived={}\n",
    "    for k in keys:\n",
    "        data_retrived[k]=dataset[k]\n",
    "        \n",
    "    return data_retrived"
   ]
  },
  {
   "cell_type": "code",
   "execution_count": 28,
   "metadata": {
    "pycharm": {
     "name": "#%%\n"
    }
   },
   "outputs": [
    {
     "name": "stdout",
     "output_type": "stream",
     "text": [
      "4500\n",
      "4435\n"
     ]
    }
   ],
   "source": [
    "import matplotlib.pyplot as plt\n",
    "from collections import namedtuple\n",
    "import numpy as np\n",
    "import csv\n",
    "from copy import deepcopy\n",
    "\n",
    "algorithms= [\"Metis\", \"EmbedBalanced\", \"EmbedPartition\",\n",
    "             \"EmbedGreedy\", \"RandomPlacer\",\"RoundRobin\",\n",
    "             \"SwitchBinPlacer\"]\n",
    "\n",
    "labels = ['N', 'DENSITY', 'SEED',\n",
    "                   \"EMBEDGREEDY_HOSTS\", \"EMBEDBALANCED_HOSTS\", \"EMBEDPARTITION_HOSTS\", \"METIS_HOSTS\",\n",
    "                  \"METIS_HOST_CPU_OVERCOMMITMENT\", \"METIS_HOST_MEMORY_OVERCOMMITMENT\", \"METIS_HOST_LINK_OVERCOMMITMENT\",\"METIS_MAX_CPU_OVERCOMMITMENT\", \"METIS_MAX_MEMORY_OVERCOMMITMENT\", \"METIS_MAX_LINK_OVERCOMMITMENT\",\n",
    "                  \"RANDOM_HOSTS\",\"RANDOM_HOST_CPU_OVERCOMMITMENT\", \"RANDOM_HOST_MEMORY_OVERCOMMITMENT\", \"RANDOM_HOST_LINK_OVERCOMMITMENT\",\"RANDOM_MAX_CPU_OVERCOMMITMENT\", \"RANDOM_MAX_MEMORY_OVERCOMMITMENT\", \"RANDOM_MAX_LINK_OVERCOMMITMENT\",\n",
    "                  \"ROUNDROBIN_HOSTS\",\"ROUNDROBIN_HOST_CPU_OVERCOMMITMENT\", \"ROUNDROBIN_HOST_MEMORY_OVERCOMMITMENT\", \"ROUNDROBIN_HOST_LINK_OVERCOMMITMENT\",\"ROUNDROBIN_MAX_CPU_OVERCOMMITMENT\", \"ROUNDROBIN_MAX_MEMORY_OVERCOMMITMENT\", \"ROUNDROBIN_MAX_LINK_OVERCOMMITMENT\",\n",
    "                  \"SWITCHBIN_HOSTS\", \"SWITCHBIN_HOST_CPU_OVERCOMMITMENT\", \"SWITCHBIN_HOST_MEMORY_OVERCOMMITMENT\", \"SWITCHBIN_HOST_LINK_OVERCOMMITMENT\",\"SWITCHBIN_MAX_CPU_OVERCOMMITMENT\", \"SWITCHBIN_MAX_MEMORY_OVERCOMMITMENT\", \"SWITCHBIN_MAX_LINK_OVERCOMMITMENT\"]\n",
    "\n",
    "\n",
    "\n",
    "\n",
    "experiment_key = namedtuple(\"experiment_key\", labels[:3])\n",
    "experiment_results= namedtuple(\"experiment_results\", labels[3:])\n",
    "e=experiment_key(2,0.1,4)\n",
    "clened_data={}\n",
    "with open('pkl/Rennes_random.csv') as File:\n",
    "    reader = csv.reader(File, delimiter=';', quotechar=',', quoting=csv.QUOTE_MINIMAL)\n",
    "    \n",
    "    for row in list(reader)[1:]:\n",
    "        #print(row)\n",
    "        key_= experiment_key(*[float(i.replace(\",\",\".\")) for i in row[:3]])\n",
    "        #print(key_)\n",
    "        results_ = experiment_results(*[float(i.replace(\",\",\".\")) if float(i.replace(\",\",\".\")) >= 0 else -1 for i in row[3:]])\n",
    "        #print(results_)\n",
    "        clened_data[key_]=results_\n",
    "\n",
    "filtered_data=dict()\n",
    "for key in clened_data.keys():\n",
    "    if clened_data[key].EMBEDGREEDY_HOSTS>0:\n",
    "        filtered_data[key]=clened_data[key]\n",
    "print(len(clened_data.keys()))\n",
    "\n",
    "print(len(filtered_data.keys()))\n",
    "\n",
    "random_cleaned_data=clened_data"
   ]
  },
  {
   "cell_type": "code",
   "execution_count": 29,
   "metadata": {
    "pycharm": {
     "name": "#%%\n"
    }
   },
   "outputs": [
    {
     "name": "stdout",
     "output_type": "stream",
     "text": [
      "Embedded Greedy solved\n",
      "4435\n",
      "-------------------------\n",
      "Embedded Balanced solved\n",
      "3261\n",
      "-------------------------\n",
      "Embedded Partition solved\n",
      "3301\n",
      "-------------------------\n",
      "Metis solved without overcommitment\n",
      "1453\n",
      "-------------------------\n",
      "Random solved without overcommitment\n",
      "904\n",
      "-------------------------\n",
      "RoundRobin solved without overcommitment\n",
      "1538\n",
      "-------------------------\n",
      "SwitchBin solved without overcommitment\n",
      "1260\n",
      "-------------------------\n",
      "All solution Marged\n",
      "4436\n",
      "-------------------------\n",
      "All solution with solution for all the algos\n",
      "509\n",
      "-------------------------\n",
      "Embedded Greedy solved %\n",
      "99.97745716862038 %\n",
      "-------------------------\n",
      "Embedded Balanced solved %\n",
      "73.512173128945 %\n",
      "-------------------------\n",
      "Embedded Partition solved %\n",
      "74.41388638412985 %\n",
      "-------------------------\n",
      "Metis solved %\n",
      "32.75473399458972 %\n",
      "-------------------------\n",
      "Random solved %\n",
      "20.37871956717764 %\n",
      "-------------------------\n",
      "RoundRobin solved %\n",
      "34.67087466185753 %\n",
      "-------------------------\n",
      "SwitchBin solved %\n",
      "28.40396753832281 %\n",
      "-------------------------\n",
      "All algo solved %\n",
      "11.474301172227232 %\n",
      "-------------------------\n"
     ]
    }
   ],
   "source": [
    "print(\"Embedded Greedy solved\")\n",
    "random_eg_solved=list(filter(lambda x:clened_data[x].EMBEDGREEDY_HOSTS>0, clened_data.keys()))\n",
    "print(len(random_eg_solved))\n",
    "print(\"-------------------------\")\n",
    "\n",
    "print(\"Embedded Balanced solved\")\n",
    "random_eb_solved=list(filter(lambda x:clened_data[x].EMBEDBALANCED_HOSTS>0, clened_data.keys()))\n",
    "print(len(random_eb_solved))\n",
    "print(\"-------------------------\")\n",
    "\n",
    "print(\"Embedded Partition solved\")\n",
    "random_ep_solved=list(filter(lambda x:clened_data[x].EMBEDPARTITION_HOSTS>0, clened_data.keys()))\n",
    "print(len(random_ep_solved))\n",
    "print(\"-------------------------\")\n",
    "\n",
    "print(\"Metis solved without overcommitment\")\n",
    "random_metis_solved=list(filter(lambda x:clened_data[x].METIS_HOST_CPU_OVERCOMMITMENT==0.0 and clened_data[x].METIS_HOST_MEMORY_OVERCOMMITMENT==0.0 and clened_data[x].METIS_HOST_LINK_OVERCOMMITMENT==0.0, clened_data.keys()))\n",
    "print(len(random_metis_solved))\n",
    "print(\"-------------------------\")\n",
    "\n",
    "print(\"Random solved without overcommitment\")\n",
    "random_random_solved=list(filter(lambda x:clened_data[x].RANDOM_HOST_CPU_OVERCOMMITMENT==0.0 and clened_data[x].RANDOM_HOST_MEMORY_OVERCOMMITMENT==0.0 and clened_data[x].RANDOM_HOST_LINK_OVERCOMMITMENT==0.0, clened_data.keys()))\n",
    "print(len(random_random_solved))\n",
    "print(\"-------------------------\")\n",
    "\n",
    "print(\"RoundRobin solved without overcommitment\")\n",
    "random_roundrobin_solved = list(filter(lambda x:clened_data[x].ROUNDROBIN_HOST_CPU_OVERCOMMITMENT==0.0 and clened_data[x].ROUNDROBIN_HOST_MEMORY_OVERCOMMITMENT==0.0 and clened_data[x].ROUNDROBIN_HOST_LINK_OVERCOMMITMENT==0.0, clened_data.keys()))\n",
    "print(len(random_roundrobin_solved))\n",
    "print(\"-------------------------\")\n",
    "\n",
    "print(\"SwitchBin solved without overcommitment\")\n",
    "random_switchBin_solved = list(filter(lambda x:clened_data[x].SWITCHBIN_HOST_CPU_OVERCOMMITMENT==0.0 and clened_data[x].SWITCHBIN_HOST_MEMORY_OVERCOMMITMENT==0.0 and clened_data[x].SWITCHBIN_HOST_LINK_OVERCOMMITMENT==0.0, clened_data.keys()))\n",
    "print(len(random_switchBin_solved))\n",
    "print(\"-------------------------\")\n",
    "\n",
    "print(\"All solution Marged\")\n",
    "random_all_solution_marged=set(random_eg_solved+random_eb_solved+random_ep_solved+random_metis_solved+random_random_solved+random_roundrobin_solved+random_switchBin_solved)\n",
    "print(len(random_all_solution_marged))\n",
    "print(\"-------------------------\")\n",
    "\n",
    "print(\"All solution with solution for all the algos\")\n",
    "random_instances_with_solution_for_all= random_all_solution_marged.intersection(set(random_eg_solved),set(random_eb_solved),set(random_ep_solved),set(random_metis_solved),set(random_random_solved),set(random_roundrobin_solved),set(random_switchBin_solved))\n",
    "print(len(random_instances_with_solution_for_all))\n",
    "print(\"-------------------------\")\n",
    "\n",
    "\n",
    "\n",
    "print(\"Embedded Greedy solved %\")\n",
    "print(len(random_eg_solved)/len(random_all_solution_marged) * 100,\"%\")\n",
    "print(\"-------------------------\")\n",
    "\n",
    "print(\"Embedded Balanced solved %\")\n",
    "print(len(random_eb_solved)/len(random_all_solution_marged) * 100,\"%\")\n",
    "print(\"-------------------------\")\n",
    "\n",
    "print(\"Embedded Partition solved %\")\n",
    "print(len(random_ep_solved)/len(random_all_solution_marged) * 100,\"%\")\n",
    "print(\"-------------------------\")\n",
    "\n",
    "print(\"Metis solved %\")\n",
    "print(len(random_metis_solved)/len(random_all_solution_marged) * 100,\"%\")\n",
    "print(\"-------------------------\")\n",
    "\n",
    "print(\"Random solved %\")\n",
    "print(len(random_random_solved)/len(random_all_solution_marged) * 100,\"%\")\n",
    "print(\"-------------------------\")\n",
    "\n",
    "print(\"RoundRobin solved %\")\n",
    "print(len(random_roundrobin_solved)/len(random_all_solution_marged) * 100,\"%\")\n",
    "print(\"-------------------------\")\n",
    "\n",
    "print(\"SwitchBin solved %\")\n",
    "print(len(random_switchBin_solved)/len(random_all_solution_marged) * 100,\"%\")\n",
    "print(\"-------------------------\")\n",
    "\n",
    "print(\"All algo solved %\")\n",
    "print(len(random_instances_with_solution_for_all)/len(random_all_solution_marged) * 100,\"%\")\n",
    "print(\"-------------------------\")"
   ]
  },
  {
   "cell_type": "code",
   "execution_count": 30,
   "metadata": {
    "pycharm": {
     "name": "#%%\n"
    }
   },
   "outputs": [
    {
     "data": {
      "text/plain": [
       "<Figure size 960x480 with 0 Axes>"
      ]
     },
     "metadata": {},
     "output_type": "display_data"
    },
    {
     "data": {
      "image/png": "[encoded data removed]",
      "text/plain": [
       "<Figure size 432x288 with 1 Axes>"
      ]
     },
     "metadata": {
      "needs_background": "light"
     },
     "output_type": "display_data"
    }
   ],
   "source": [
    "fattree = [fattree_eg_solved,fattree_eb_solved,fattree_ep_solved,fattree_metis_solved,fattree_random_solved,fattree_roundrobin_solved,fattree_switchBin_solved]\n",
    "random = [random_eg_solved,random_eb_solved,random_ep_solved,random_metis_solved,random_random_solved,random_roundrobin_solved,random_switchBin_solved]\n",
    "\n",
    "fattree_keys = [list(filter(lambda x:x in fattree_instances_with_solution_for_all,solved)) for solved in fattree]\n",
    "random_keys = [list(filter(lambda x:x in random_instances_with_solution_for_all,solved)) for solved in random]\n",
    "fattree_values = [[fattree_cleaned_data[x].EMBEDGREEDY_HOSTS for x in fattree_keys[0]],\n",
    "                  [fattree_cleaned_data[x].EMBEDBALANCED_HOSTS for x in fattree_keys[1]],\n",
    "                  [fattree_cleaned_data[x].EMBEDPARTITION_HOSTS for x in fattree_keys[2]],\n",
    "                  [fattree_cleaned_data[x].METIS_HOSTS for x in fattree_keys[3]],\n",
    "                  [fattree_cleaned_data[x].RANDOM_HOSTS for x in fattree_keys[4]],\n",
    "                  [fattree_cleaned_data[x].ROUNDROBIN_HOSTS for x in fattree_keys[5]],\n",
    "                  [fattree_cleaned_data[x].SWITCHBIN_HOSTS for x in fattree_keys[6]]]\n",
    "\n",
    "random_values = [[random_cleaned_data[x].EMBEDGREEDY_HOSTS for x in random_keys[0]],\n",
    "                  [random_cleaned_data[x].EMBEDBALANCED_HOSTS for x in random_keys[1]],\n",
    "                  [random_cleaned_data[x].EMBEDPARTITION_HOSTS for x in random_keys[2]],\n",
    "                  [random_cleaned_data[x].METIS_HOSTS for x in random_keys[3]],\n",
    "                  [random_cleaned_data[x].RANDOM_HOSTS for x in random_keys[4]],\n",
    "                  [random_cleaned_data[x].ROUNDROBIN_HOSTS for x in random_keys[5]],\n",
    "                  [random_cleaned_data[x].SWITCHBIN_HOSTS for x in random_keys[6]]]\n",
    "\n",
    "import matplotlib.pyplot as plt\n",
    "import numpy as np\n",
    "import matplotlib as mpl\n",
    "mpl.rcParams['text.usetex'] = True\n",
    "SPINE_COLOR = 'gray'\n",
    "import matplotlib.patches as mpatches\n",
    "\n",
    "#PARTITION = DivideSwap\n",
    "#GREEDY = GreedyP\n",
    "#BALANCED = K-balanced\n",
    "\n",
    "ticks = [\"GreedyP\",\"Kbalanced\",\"DivideSwap\",\"Metis\",\"Random\",\"RoundRobin\",\"SwitchBin\"]\n",
    "\n",
    "    \n",
    "plt.figure(num=None, figsize=(12, 6), dpi=80, facecolor='w', edgecolor='k')\n",
    "color_b1=\"red\"\n",
    "color_b2=\"blue\"\n",
    "\n",
    "\n",
    "fig, ax = plt.subplots()\n",
    "b1 = plt.boxplot(fattree_values, positions=np.array(range(len(fattree_values)))*2.0-0.5, sym='', widths=0.6,whis=[0,100],boxprops=dict(color=color_b1),\n",
    "            capprops=dict(color=color_b1),\n",
    "            whiskerprops=dict(color=color_b1),\n",
    "            flierprops=dict(color=color_b1, markeredgecolor=color_b1),\n",
    "            medianprops=dict(color=color_b1,linewidth=4))\n",
    "b2 = plt.boxplot(random_values, positions=np.array(range(len(random_values)))*2.0+0.5, sym='', widths=0.6,whis=[0,100],boxprops=dict(color=color_b2),\n",
    "            capprops=dict(color=color_b2),\n",
    "            whiskerprops=dict(color=color_b2),\n",
    "            flierprops=dict(color=color_b2, markeredgecolor=color_b2),\n",
    "            medianprops=dict(color=color_b2,linewidth=4))\n",
    "\n",
    "\n",
    "# draw temporary red and blue lines and use them to create a legend\n",
    "ax.tick_params(axis='x', rotation=60)\n",
    "plt.xticks(range(0, len(ticks) * 2 + 2, 2), ticks)\n",
    "plt.tick_params(axis='both', labelsize=12)\n",
    "\n",
    "plt.yticks(range(0, 26), range(0, 26))\n",
    "\n",
    "plt.ylabel(r'\\textbf{Number of physical hosts}', fontsize=12)\n",
    "plt.xlabel(r'\\textbf{Algorithm}', fontsize=12)\n",
    "\n",
    "plt.xticks(list(range(0,len(ticks)*2+2,2)), [f'${i}$' for i in ticks])\n",
    "\n",
    "for i in range(0,len(ticks)*2,2):\n",
    "    plt.axvline(x=i+1,color=\"black\")\n",
    "    \n",
    "plt.tick_params(axis='x', rotation=60)\n",
    "plt.grid(axis='y')\n",
    "plt.xlim(-1, 13)\n",
    "plt.ylim(0, 29)\n",
    "plt.yticks(list(range(0,30,2)), [f'${i}$' for i in range(0,30,2)])\n",
    "\n",
    "lables_patchs = []\n",
    "font = {'family': 'serif',\n",
    "        'color':  'black',\n",
    "        'weight': 'normal',\n",
    "        'size': 16,\n",
    "        }\n",
    "\n",
    "add_patch = mpatches.Patch(color=color_b1, label=\"vFatTree\")\n",
    "lables_patchs.append(add_patch)\n",
    "\n",
    "add_patch = mpatches.Patch(color=color_b2, label=\"vRandom\")\n",
    "lables_patchs.append(add_patch)\n",
    "lables = [\"vFatTree\",\"vRandom\"]\n",
    "\n",
    "plt.legend(lables_patchs,lables, fontsize=14, ncol=2, loc=\"upper center\")\n",
    "\n",
    "plt.savefig('Rennes_solutions_all_algo.pdf',bbox_inches='tight')\n",
    "#plt.show()\n",
    "#plt.yscale(\"log\")"
   ]
  },
  {
   "cell_type": "code",
   "execution_count": 31,
   "metadata": {
    "pycharm": {
     "name": "#%%\n"
    }
   },
   "outputs": [
    {
     "data": {
      "text/plain": [
       "<Figure size 960x480 with 0 Axes>"
      ]
     },
     "metadata": {},
     "output_type": "display_data"
    },
    {
     "data": {
      "image/png": "[encoded data removed]",
      "text/plain": [
       "<Figure size 432x288 with 1 Axes>"
      ]
     },
     "metadata": {
      "needs_background": "light"
     },
     "output_type": "display_data"
    }
   ],
   "source": [
    "fattree_keys = [list(filter(lambda x:x in fattree_instances_with_solution_for_all,solved)) for solved in fattree]\n",
    "random_keys = [list(filter(lambda x:x in random_instances_with_solution_for_all,solved)) for solved in random]\n",
    "fattree_values = [[fattree_cleaned_data[x].EMBEDGREEDY_HOSTS for x in sorted(fattree_keys[0])],\n",
    "                  [fattree_cleaned_data[x].EMBEDBALANCED_HOSTS for x in sorted(fattree_keys[1])],\n",
    "                  [fattree_cleaned_data[x].EMBEDPARTITION_HOSTS for x in sorted(fattree_keys[2])],\n",
    "                  [fattree_cleaned_data[x].METIS_HOSTS for x in sorted(fattree_keys[3])],\n",
    "                  [fattree_cleaned_data[x].RANDOM_HOSTS for x in sorted(fattree_keys[4])],\n",
    "                  [fattree_cleaned_data[x].ROUNDROBIN_HOSTS for x in sorted(fattree_keys[5])],\n",
    "                  [fattree_cleaned_data[x].SWITCHBIN_HOSTS for x in sorted(fattree_keys[6])]]\n",
    "\n",
    "for i in range(0,len(fattree_values[0])):\n",
    "    minimum_solution = min([fattree_values[j][i] for j in range(0,len(fattree_values))])\n",
    "    for j in range(0,len(fattree_values)):\n",
    "        fattree_values[j][i] -= minimum_solution\n",
    "\n",
    "\n",
    "\n",
    "random_values = [[random_cleaned_data[x].EMBEDGREEDY_HOSTS for x in random_keys[0]],\n",
    "                  [random_cleaned_data[x].EMBEDBALANCED_HOSTS for x in random_keys[1]],\n",
    "                  [random_cleaned_data[x].EMBEDPARTITION_HOSTS for x in random_keys[2]],\n",
    "                  [random_cleaned_data[x].METIS_HOSTS for x in random_keys[3]],\n",
    "                  [random_cleaned_data[x].RANDOM_HOSTS for x in random_keys[4]],\n",
    "                  [random_cleaned_data[x].ROUNDROBIN_HOSTS for x in random_keys[5]],\n",
    "                  [random_cleaned_data[x].SWITCHBIN_HOSTS for x in random_keys[6]]]\n",
    "\n",
    "\n",
    "\n",
    "for i in range(0,len(random_values[0])):\n",
    "    minimum_solution = min([random_values[j][i] for j in range(0,len(random_values))])\n",
    "    for j in range(0,len(random_values)): \n",
    "        random_values[j][i] -= minimum_solution\n",
    "\n",
    "\n",
    "import matplotlib.pyplot as plt\n",
    "import numpy as np\n",
    "import matplotlib as mpl\n",
    "mpl.rcParams['text.usetex'] = True\n",
    "SPINE_COLOR = 'gray'\n",
    "import matplotlib.patches as mpatches\n",
    "\n",
    "#PARTITION = DivideSwap\n",
    "#GREEDY = GreedyP\n",
    "#BALANCED = K-balanced\n",
    "color_b1=\"red\"\n",
    "color_b2=\"blue\"\n",
    "\n",
    "\n",
    "\n",
    "ticks = [\"GreedyP\",\"Kbalanced\",\"DivideSwap\",\"Metis\",\"Random\",\"RoundRobin\",\"SwitchBin\"]\n",
    "\n",
    "    \n",
    "plt.figure(num=None, figsize=(12, 6), dpi=80, facecolor='w', edgecolor='k')\n",
    "fig, ax = plt.subplots()\n",
    "b1 = plt.boxplot(fattree_values, positions=np.array(range(len(fattree_values)))*2.0-0.5, sym='', widths=0.6,whis=[0,100],boxprops=dict(color=color_b1),\n",
    "            capprops=dict(color=color_b1),\n",
    "            whiskerprops=dict(color=color_b1),\n",
    "            flierprops=dict(color=color_b1, markeredgecolor=color_b1),\n",
    "            medianprops=dict(color=color_b1,linewidth=4))\n",
    "b2 = plt.boxplot(random_values, positions=np.array(range(len(random_values)))*2.0+0.5, sym='', widths=0.6,whis=[0,100],boxprops=dict(color=color_b2),\n",
    "            capprops=dict(color=color_b2),\n",
    "            whiskerprops=dict(color=color_b2),\n",
    "            flierprops=dict(color=color_b2, markeredgecolor=color_b2),\n",
    "            medianprops=dict(color=color_b2,linewidth=4))\n",
    "\n",
    "\n",
    "\n",
    "# draw temporary red and blue lines and use them to create a legend\n",
    "ax.tick_params(axis='x', rotation=60)\n",
    "plt.xticks(range(0, len(ticks) * 2 + 2, 2), ticks)\n",
    "plt.tick_params(axis='both', labelsize=12)\n",
    "\n",
    "plt.yticks(range(0, 26), range(0, 26))\n",
    "\n",
    "plt.ylabel(r'\\textbf{Distance [\\# of hosts]}', fontsize=12)\n",
    "plt.xlabel(r'\\textbf{Algorithm}', fontsize=12)\n",
    "\n",
    "plt.xticks(list(range(0,len(ticks)*2+2,2)), [f'${i}$' for i in ticks])\n",
    "\n",
    "for i in range(0,len(ticks)*2,2):\n",
    "    plt.axvline(x=i+1,color=\"black\")\n",
    "    \n",
    "plt.tick_params(axis='x', rotation=60)\n",
    "plt.grid(axis='y')\n",
    "plt.xlim(-1, 13)\n",
    "plt.ylim(0, 29)\n",
    "plt.yticks(list(range(0,30,2)), [f'${i}$' for i in range(0,30,2)])\n",
    "\n",
    "\n",
    "lables_patchs = []\n",
    "font = {'family': 'serif',\n",
    "        'color':  'black',\n",
    "        'weight': 'normal',\n",
    "        'size': 16,\n",
    "        }\n",
    "\n",
    "add_patch = mpatches.Patch(color=color_b1, label=\"vFatTree\")\n",
    "lables_patchs.append(add_patch)\n",
    "\n",
    "add_patch = mpatches.Patch(color=color_b2, label=\"vRandom\")\n",
    "lables_patchs.append(add_patch)\n",
    "lables = [\"vFatTree\",\"vRandom\"]\n",
    "\n",
    "plt.legend(lables_patchs,lables, fontsize=14, ncol=2, loc=\"upper center\")\n",
    "\n",
    "plt.savefig('Rennes_distances_all_algo.pdf',bbox_inches='tight')\n",
    "#plt.show()\n",
    "#plt.yscale(\"log\")"
   ]
  },
  {
   "cell_type": "code",
   "execution_count": 32,
   "metadata": {
    "pycharm": {
     "name": "#%%\n"
    }
   },
   "outputs": [
    {
     "name": "stdout",
     "output_type": "stream",
     "text": [
      "[54.43234836702955, 54.6850699844479, 26.283048211508554, 58.12597200622084]\n"
     ]
    },
    {
     "data": {
      "text/plain": [
       "<Figure size 960x480 with 0 Axes>"
      ]
     },
     "metadata": {},
     "output_type": "display_data"
    },
    {
     "data": {
      "image/png": "[encoded data removed]",
      "text/plain": [
       "<Figure size 432x288 with 1 Axes>"
      ]
     },
     "metadata": {
      "needs_background": "light"
     },
     "output_type": "display_data"
    }
   ],
   "source": [
    "import matplotlib.pyplot as plt\n",
    "import numpy as np\n",
    "import matplotlib as mpl\n",
    "mpl.rcParams['text.usetex'] = True\n",
    "SPINE_COLOR = 'gray'\n",
    "import matplotlib.patches as mpatches\n",
    "\n",
    "n_cpu = [\n",
    "                  [fattree_cleaned_data[x].METIS_HOST_CPU_OVERCOMMITMENT for x in fattree_all_solution_marged]+[random_cleaned_data[x].METIS_HOST_CPU_OVERCOMMITMENT for x in random_all_solution_marged],\n",
    "                  [fattree_cleaned_data[x].RANDOM_HOST_CPU_OVERCOMMITMENT for x in fattree_all_solution_marged]+[random_cleaned_data[x].RANDOM_HOST_CPU_OVERCOMMITMENT for x in random_all_solution_marged],\n",
    "                  [fattree_cleaned_data[x].ROUNDROBIN_HOST_CPU_OVERCOMMITMENT for x in fattree_all_solution_marged]+[random_cleaned_data[x].ROUNDROBIN_HOST_CPU_OVERCOMMITMENT for x in random_all_solution_marged],\n",
    "                  [fattree_cleaned_data[x].SWITCHBIN_HOST_CPU_OVERCOMMITMENT for x in fattree_all_solution_marged]+[random_cleaned_data[x].SWITCHBIN_HOST_CPU_OVERCOMMITMENT for x in random_all_solution_marged]]\n",
    "\n",
    "n_cpu=[list(filter(lambda x: x>0, l))for l in n_cpu]\n",
    "\n",
    "\n",
    "\n",
    "\n",
    "max_cpu = [\n",
    "                  [fattree_cleaned_data[x].METIS_MAX_CPU_OVERCOMMITMENT for x in fattree_all_solution_marged]+[random_cleaned_data[x].METIS_MAX_CPU_OVERCOMMITMENT for x in random_all_solution_marged],\n",
    "                  [fattree_cleaned_data[x].RANDOM_MAX_CPU_OVERCOMMITMENT for x in fattree_all_solution_marged]+[random_cleaned_data[x].RANDOM_MAX_CPU_OVERCOMMITMENT for x in random_all_solution_marged],\n",
    "                  [fattree_cleaned_data[x].ROUNDROBIN_MAX_CPU_OVERCOMMITMENT for x in fattree_all_solution_marged]+[random_cleaned_data[x].ROUNDROBIN_MAX_CPU_OVERCOMMITMENT for x in random_all_solution_marged],\n",
    "                  [fattree_cleaned_data[x].SWITCHBIN_MAX_CPU_OVERCOMMITMENT for x in fattree_all_solution_marged]+[random_cleaned_data[x].SWITCHBIN_MAX_CPU_OVERCOMMITMENT for x in random_all_solution_marged]]\n",
    "\n",
    "max_cpu=[list(filter(lambda x: x>0, l))for l in max_cpu]\n",
    "\n",
    "\n",
    "\n",
    "ticks = [\"Metis\",\"Random\",\"RoundRobin\",\"SwitchBin\"]\n",
    "\n",
    "\n",
    "\n",
    "\n",
    "def set_box_color(bp, color):\n",
    "    plt.setp(bp['boxes'], color=color)\n",
    "    plt.setp(bp['whiskers'], color=color)\n",
    "    plt.setp(bp['caps'], color=color)\n",
    "    plt.setp(bp['medians'], color=color,linewidth=4)\n",
    "\n",
    "    \n",
    "plt.figure(num=None, figsize=(12, 6), dpi=80, facecolor='w', edgecolor='k')\n",
    "fig, ax = plt.subplots()\n",
    "\n",
    "\n",
    "b1 = plt.boxplot(n_cpu, positions=np.array(range(len(n_cpu)))*2.0-0.5, sym='', widths=0.6,whis=[0,100])\n",
    "b2 = plt.boxplot(max_cpu, positions=np.array(range(len(n_cpu)))*2.0+0.5, sym='', widths=0.6,whis=[0,100])\n",
    "\n",
    "\n",
    "color_b1=\"green\"\n",
    "color_b2=\"orange\"\n",
    "\n",
    "set_box_color(b1, color_b1) # colors are from http://colorbrewer2.org/\n",
    "set_box_color(b2, color_b2)\n",
    "ax.tick_params(axis='x', rotation=60)\n",
    "\n",
    "\n",
    "\n",
    "plt.axvline(x=1,color=\"black\")\n",
    "plt.axvline(x=3,color=\"black\")\n",
    "plt.axvline(x=5,color=\"black\")\n",
    "\n",
    "\n",
    "plt.xticks(list(range(0,len(ticks)*2+2,2)), [f'${i}$' for i in ticks])\n",
    "\n",
    "plt.tick_params(axis='both', labelsize=16)\n",
    "\n",
    "plt.grid(axis='y')\n",
    "plt.xlim(-1, 7)\n",
    "plt.ylim(1, 30000)\n",
    "plt.yscale(\"log\")\n",
    "\n",
    "\n",
    "lables_patchs = []\n",
    "font = {'family': 'serif',\n",
    "        'color':  'black',\n",
    "        'weight': 'normal',\n",
    "        'size': 16,\n",
    "        }\n",
    "\n",
    "add_patch = mpatches.Patch(color=color_b1, label=\"\\# Hosts\")\n",
    "lables_patchs.append(add_patch)\n",
    "\n",
    "add_patch = mpatches.Patch(color=color_b2, label=\"\\% CPU overcommitment\")\n",
    "lables_patchs.append(add_patch)\n",
    "lables = [\"\\# Hosts\",\"\\% CPU overcommitment\"]\n",
    "\n",
    "plt.xlabel(r'\\textbf{Algorithm}', fontsize=12)\n",
    "plt.legend(lables_patchs,lables, fontsize=14, ncol=2, loc=\"upper center\")\n",
    "\n",
    "\n",
    "ncpu_percentage = [len(x) for x in n_cpu]\n",
    "total_solutions = len(random_all_solution_marged) + len(fattree_all_solution_marged)\n",
    "ncpu_percentage = [(x/total_solutions)*100 for x in ncpu_percentage]\n",
    "print(ncpu_percentage)\n",
    "font.update({'size':14})\n",
    "for c,x in enumerate(ncpu_percentage):\n",
    "    plt.text((c*2) - 0.45 , 35000, r'${:.2f}\\%$'.format(x), fontdict=font)\n",
    "\n",
    "font.update({'size':12})\n",
    "plt.text(-0.15, 70000, r'\\textbf{Percentage of instances with overcommitment}', fontdict=font)\n",
    "\n",
    "\n",
    "\n",
    "plt.savefig('Rennes_CPU_overcommitment.pdf',bbox_inches='tight')"
   ]
  },
  {
   "cell_type": "code",
   "execution_count": 33,
   "metadata": {
    "pycharm": {
     "name": "#%%\n"
    }
   },
   "outputs": [
    {
     "name": "stdout",
     "output_type": "stream",
     "text": [
      "[18.215396578538105, 39.0357698289269, 26.0303265940902, 27.954898911353034]\n"
     ]
    },
    {
     "data": {
      "text/plain": [
       "<Figure size 960x480 with 0 Axes>"
      ]
     },
     "metadata": {},
     "output_type": "display_data"
    },
    {
     "data": {
      "image/png": "[encoded data removed]",
      "text/plain": [
       "<Figure size 432x288 with 1 Axes>"
      ]
     },
     "metadata": {
      "needs_background": "light"
     },
     "output_type": "display_data"
    }
   ],
   "source": [
    "import matplotlib.pyplot as plt\n",
    "import numpy as np\n",
    "import matplotlib as mpl\n",
    "mpl.rcParams['text.usetex'] = True\n",
    "SPINE_COLOR = 'gray'\n",
    "import matplotlib.patches as mpatches\n",
    "\n",
    "n_cpu = [\n",
    "                  [fattree_cleaned_data[x].METIS_HOST_MEMORY_OVERCOMMITMENT for x in fattree_all_solution_marged]+[random_cleaned_data[x].METIS_HOST_MEMORY_OVERCOMMITMENT for x in random_all_solution_marged],\n",
    "                  [fattree_cleaned_data[x].RANDOM_HOST_MEMORY_OVERCOMMITMENT for x in fattree_all_solution_marged]+[random_cleaned_data[x].RANDOM_HOST_MEMORY_OVERCOMMITMENT for x in random_all_solution_marged],\n",
    "                  [fattree_cleaned_data[x].ROUNDROBIN_HOST_MEMORY_OVERCOMMITMENT for x in fattree_all_solution_marged]+[random_cleaned_data[x].ROUNDROBIN_HOST_MEMORY_OVERCOMMITMENT for x in random_all_solution_marged],\n",
    "                  [fattree_cleaned_data[x].SWITCHBIN_HOST_MEMORY_OVERCOMMITMENT for x in fattree_all_solution_marged]+[random_cleaned_data[x].SWITCHBIN_HOST_MEMORY_OVERCOMMITMENT for x in random_all_solution_marged]]\n",
    "\n",
    "n_cpu=[list(filter(lambda x: x>0, l))for l in n_cpu]\n",
    "\n",
    "\n",
    "\n",
    "\n",
    "max_cpu = [\n",
    "                  [fattree_cleaned_data[x].METIS_MAX_MEMORY_OVERCOMMITMENT for x in fattree_all_solution_marged]+[random_cleaned_data[x].METIS_MAX_MEMORY_OVERCOMMITMENT for x in random_all_solution_marged],\n",
    "                  [fattree_cleaned_data[x].RANDOM_MAX_MEMORY_OVERCOMMITMENT for x in fattree_all_solution_marged]+[random_cleaned_data[x].RANDOM_MAX_MEMORY_OVERCOMMITMENT for x in random_all_solution_marged],\n",
    "                  [fattree_cleaned_data[x].ROUNDROBIN_MAX_MEMORY_OVERCOMMITMENT for x in fattree_all_solution_marged]+[random_cleaned_data[x].ROUNDROBIN_MAX_MEMORY_OVERCOMMITMENT for x in random_all_solution_marged],\n",
    "                  [fattree_cleaned_data[x].SWITCHBIN_MAX_MEMORY_OVERCOMMITMENT for x in fattree_all_solution_marged]+[random_cleaned_data[x].SWITCHBIN_MAX_MEMORY_OVERCOMMITMENT for x in random_all_solution_marged]]\n",
    "\n",
    "max_cpu=[list(filter(lambda x: x>0, l))for l in max_cpu]\n",
    "\n",
    "\n",
    "\n",
    "ticks = [\"Metis\",\"Random\",\"RoundRobin\",\"SwitchBin\"]\n",
    "\n",
    "\n",
    "\n",
    "\n",
    "def set_box_color(bp, color):\n",
    "    plt.setp(bp['boxes'], color=color)\n",
    "    plt.setp(bp['whiskers'], color=color)\n",
    "    plt.setp(bp['caps'], color=color)\n",
    "    plt.setp(bp['medians'], color=color,linewidth=4)\n",
    "\n",
    "    \n",
    "plt.figure(num=None, figsize=(12, 6), dpi=80, facecolor='w', edgecolor='k')\n",
    "fig, ax = plt.subplots()\n",
    "\n",
    "\n",
    "b1 = plt.boxplot(n_cpu, positions=np.array(range(len(n_cpu)))*2.0-0.5, sym='', widths=0.6,whis=[0,100])\n",
    "b2 = plt.boxplot(max_cpu, positions=np.array(range(len(n_cpu)))*2.0+0.5, sym='', widths=0.6,whis=[0,100])\n",
    "\n",
    "\n",
    "color_b1=\"green\"\n",
    "color_b2=\"orange\"\n",
    "\n",
    "set_box_color(b1, color_b1) # colors are from http://colorbrewer2.org/\n",
    "set_box_color(b2, color_b2)\n",
    "ax.tick_params(axis='x', rotation=60)\n",
    "\n",
    "\n",
    "\n",
    "plt.axvline(x=1,color=\"black\")\n",
    "plt.axvline(x=3,color=\"black\")\n",
    "plt.axvline(x=5,color=\"black\")\n",
    "\n",
    "\n",
    "plt.xticks(list(range(0,len(ticks)*2+2,2)), [f'${i}$' for i in ticks])\n",
    "\n",
    "plt.tick_params(axis='both', labelsize=16)\n",
    "\n",
    "plt.grid(axis='y')\n",
    "plt.xlim(-1, 7)\n",
    "plt.ylim(1, 30000)\n",
    "plt.yscale(\"log\")\n",
    "\n",
    "\n",
    "lables_patchs = []\n",
    "font = {'family': 'serif',\n",
    "        'color':  'black',\n",
    "        'weight': 'normal',\n",
    "        'size': 16,\n",
    "        }\n",
    "\n",
    "add_patch = mpatches.Patch(color=color_b1, label=\"\\# Hosts\")\n",
    "lables_patchs.append(add_patch)\n",
    "\n",
    "add_patch = mpatches.Patch(color=color_b2, label=\"\\% Memory overcommitment\")\n",
    "lables_patchs.append(add_patch)\n",
    "lables = [\"\\# Hosts\",\"\\% Memory overcommitment\"]\n",
    "\n",
    "plt.xlabel(r'\\textbf{Algorithm}', fontsize=12)\n",
    "plt.legend(lables_patchs,lables, fontsize=14, ncol=2, loc=\"upper center\")\n",
    "\n",
    "\n",
    "ncpu_percentage = [len(x) for x in n_cpu]\n",
    "total_solutions = len(random_all_solution_marged) + len(fattree_all_solution_marged)\n",
    "ncpu_percentage = [(x/total_solutions)*100 for x in ncpu_percentage]\n",
    "print(ncpu_percentage)\n",
    "font.update({'size':14})\n",
    "for c,x in enumerate(ncpu_percentage):\n",
    "    plt.text((c*2) - 0.45 , 35000, r'${:.2f}\\%$'.format(x), fontdict=font)\n",
    "\n",
    "font.update({'size':12})\n",
    "plt.text(-0.15, 70000, r'\\textbf{Percentage of instances with overcommitment}', fontdict=font)\n",
    "\n",
    "\n",
    "\n",
    "plt.savefig('Rennes_Memory_overcommitment.pdf',bbox_inches='tight')\n",
    "\n",
    "\n",
    "#plt.show()"
   ]
  },
  {
   "cell_type": "code",
   "execution_count": 34,
   "metadata": {
    "pycharm": {
     "is_executing": true,
     "name": "#%%\n"
    }
   },
   "outputs": [
    {
     "name": "stdout",
     "output_type": "stream",
     "text": [
      "[21.870139968895803, 69.57620528771385, 58.53421461897356, 51.26360808709176]\n"
     ]
    },
    {
     "data": {
      "text/plain": [
       "<Figure size 960x480 with 0 Axes>"
      ]
     },
     "metadata": {},
     "output_type": "display_data"
    },
    {
     "data": {
      "image/png": "[encoded data removed]",
      "text/plain": [
       "<Figure size 432x288 with 1 Axes>"
      ]
     },
     "metadata": {
      "needs_background": "light"
     },
     "output_type": "display_data"
    }
   ],
   "source": [
    "import matplotlib.pyplot as plt\n",
    "import numpy as np\n",
    "import matplotlib as mpl\n",
    "mpl.rcParams['text.usetex'] = True\n",
    "SPINE_COLOR = 'gray'\n",
    "import matplotlib.patches as mpatches\n",
    "\n",
    "n_cpu = [\n",
    "                  [fattree_cleaned_data[x].METIS_HOST_LINK_OVERCOMMITMENT for x in fattree_all_solution_marged]+[random_cleaned_data[x].METIS_HOST_LINK_OVERCOMMITMENT for x in random_all_solution_marged],\n",
    "                  [fattree_cleaned_data[x].RANDOM_HOST_LINK_OVERCOMMITMENT for x in fattree_all_solution_marged]+[random_cleaned_data[x].RANDOM_HOST_LINK_OVERCOMMITMENT for x in random_all_solution_marged],\n",
    "                  [fattree_cleaned_data[x].ROUNDROBIN_HOST_LINK_OVERCOMMITMENT for x in fattree_all_solution_marged]+[random_cleaned_data[x].ROUNDROBIN_HOST_LINK_OVERCOMMITMENT for x in random_all_solution_marged],\n",
    "                  [fattree_cleaned_data[x].SWITCHBIN_HOST_LINK_OVERCOMMITMENT for x in fattree_all_solution_marged]+[random_cleaned_data[x].SWITCHBIN_HOST_LINK_OVERCOMMITMENT for x in random_all_solution_marged]]\n",
    "\n",
    "n_cpu=[list(filter(lambda x: x>0, l))for l in n_cpu]\n",
    "#print(n_cpu[0])\n",
    "\n",
    "\n",
    "\n",
    "\n",
    "max_cpu = [\n",
    "                  [fattree_cleaned_data[x].METIS_MAX_LINK_OVERCOMMITMENT for x in fattree_all_solution_marged]+[random_cleaned_data[x].METIS_MAX_LINK_OVERCOMMITMENT for x in random_all_solution_marged],\n",
    "                  [fattree_cleaned_data[x].RANDOM_MAX_LINK_OVERCOMMITMENT for x in fattree_all_solution_marged]+[random_cleaned_data[x].RANDOM_MAX_LINK_OVERCOMMITMENT for x in random_all_solution_marged],\n",
    "                  [fattree_cleaned_data[x].ROUNDROBIN_MAX_LINK_OVERCOMMITMENT for x in fattree_all_solution_marged]+[random_cleaned_data[x].ROUNDROBIN_MAX_LINK_OVERCOMMITMENT for x in random_all_solution_marged],\n",
    "                  [fattree_cleaned_data[x].SWITCHBIN_MAX_LINK_OVERCOMMITMENT for x in fattree_all_solution_marged]+[random_cleaned_data[x].SWITCHBIN_MAX_LINK_OVERCOMMITMENT for x in random_all_solution_marged]]\n",
    "\n",
    "max_cpu=[list(filter(lambda x: x>0, l))for l in max_cpu]\n",
    "\n",
    "\n",
    "\n",
    "ticks = [\"Metis\",\"Random\",\"RoundRobin\",\"SwitchBin\"]\n",
    "\n",
    "\n",
    "\n",
    "\n",
    "def set_box_color(bp, color):\n",
    "    plt.setp(bp['boxes'], color=color)\n",
    "    plt.setp(bp['whiskers'], color=color)\n",
    "    plt.setp(bp['caps'], color=color)\n",
    "    plt.setp(bp['medians'], color=color,linewidth=4)\n",
    "\n",
    "    \n",
    "plt.figure(num=None, figsize=(12, 6), dpi=80, facecolor='w', edgecolor='k')\n",
    "fig, ax = plt.subplots()\n",
    "\n",
    "\n",
    "b1 = plt.boxplot(n_cpu, positions=np.array(range(len(n_cpu)))*2.0-0.5, sym='', widths=0.6,whis=[0,100])\n",
    "b2 = plt.boxplot(max_cpu, positions=np.array(range(len(n_cpu)))*2.0+0.5, sym='', widths=0.6,whis=[0,100])\n",
    "\n",
    "\n",
    "color_b1=\"green\"\n",
    "color_b2=\"orange\"\n",
    "\n",
    "set_box_color(b1, color_b1) # colors are from http://colorbrewer2.org/\n",
    "set_box_color(b2, color_b2)\n",
    "ax.tick_params(axis='x', rotation=60)\n",
    "\n",
    "\n",
    "\n",
    "plt.axvline(x=1,color=\"black\")\n",
    "plt.axvline(x=3,color=\"black\")\n",
    "plt.axvline(x=5,color=\"black\")\n",
    "\n",
    "\n",
    "plt.xticks(list(range(0,len(ticks)*2+2,2)), [f'${i}$' for i in ticks])\n",
    "\n",
    "plt.tick_params(axis='both', labelsize=16)\n",
    "\n",
    "plt.grid(axis='y')\n",
    "plt.xlim(-1, 7)\n",
    "plt.ylim(1, 30000)\n",
    "plt.yscale(\"log\")\n",
    "\n",
    "\n",
    "lables_patchs = []\n",
    "font = {'family': 'serif',\n",
    "        'color':  'black',\n",
    "        'weight': 'normal',\n",
    "        'size': 16,\n",
    "        }\n",
    "\n",
    "add_patch = mpatches.Patch(color=color_b1, label=\"\\# Links\")\n",
    "lables_patchs.append(add_patch)\n",
    "\n",
    "add_patch = mpatches.Patch(color=color_b2, label=\"\\% Link overcommitment\")\n",
    "lables_patchs.append(add_patch)\n",
    "lables = [\"\\# Links\",\"\\% Link overcommitment\"]\n",
    "\n",
    "plt.xlabel(r'\\textbf{Algorithm}', fontsize=12)\n",
    "plt.legend(lables_patchs,lables, fontsize=14, ncol=2, loc=\"upper center\")\n",
    "\n",
    "\n",
    "ncpu_percentage = [len(x) for x in n_cpu]\n",
    "total_solutions = len(random_all_solution_marged) + len(fattree_all_solution_marged)\n",
    "ncpu_percentage = [(x/total_solutions)*100 for x in ncpu_percentage]\n",
    "print(ncpu_percentage)\n",
    "font.update({'size':14})\n",
    "for c,x in enumerate(ncpu_percentage):\n",
    "    plt.text((c*2) - 0.45 , 35000, r'${:.2f}\\%$'.format(x), fontdict=font)\n",
    "\n",
    "font.update({'size':12})\n",
    "plt.text(-0.15, 70000, r'\\textbf{Percentage of instances with overcommitment}', fontdict=font)\n",
    "\n",
    "\n",
    "\n",
    "plt.savefig('Rennes_Link_overcommitment.pdf',bbox_inches='tight')\n",
    "\n",
    "\n"
   ]
  },
  {
   "cell_type": "code",
   "execution_count": null,
   "metadata": {
    "pycharm": {
     "is_executing": true,
     "name": "#%%\n"
    }
   },
   "outputs": [],
   "source": []
  },
  {
   "cell_type": "code",
   "execution_count": null,
   "metadata": {
    "pycharm": {
     "is_executing": true,
     "name": "#%%\n"
    }
   },
   "outputs": [],
   "source": []
  },
  {
   "cell_type": "code",
   "execution_count": null,
   "metadata": {
    "pycharm": {
     "is_executing": true,
     "name": "#%%\n"
    }
   },
   "outputs": [],
   "source": []
  },
  {
   "cell_type": "code",
   "execution_count": null,
   "metadata": {
    "pycharm": {
     "is_executing": true,
     "name": "#%%\n"
    }
   },
   "outputs": [],
   "source": []
  },
  {
   "cell_type": "code",
   "execution_count": null,
   "metadata": {
    "pycharm": {
     "is_executing": true,
     "name": "#%%\n"
    }
   },
   "outputs": [],
   "source": []
  },
  {
   "cell_type": "code",
   "execution_count": 35,
   "metadata": {
    "pycharm": {
     "is_executing": true,
     "name": "#%%\n"
    }
   },
   "outputs": [
    {
     "name": "stdout",
     "output_type": "stream",
     "text": [
      "525\n",
      "525\n"
     ]
    }
   ],
   "source": [
    "import matplotlib.pyplot as plt\n",
    "from collections import namedtuple\n",
    "import numpy as np\n",
    "import csv\n",
    "from copy import deepcopy\n",
    "\n",
    "algorithms= [\"Metis\", \"EmbedBalanced\", \"EmbedPartition\",\n",
    "             \"EmbedGreedy\", \"RandomPlacer\",\"RoundRobin\",\n",
    "             \"SwitchBinPlacer\"]\n",
    "labels = ['K', 'CORES','MEMORY','RATE','DENSITY',\n",
    "                   \"EMBEDGREEDY_HOSTS\", \"EMBEDBALANCED_HOSTS\", \"EMBEDPARTITION_HOSTS\", \"METIS_HOSTS\",\n",
    "                  \"METIS_HOST_CPU_OVERCOMMITMENT\", \"METIS_HOST_MEMORY_OVERCOMMITMENT\", \"METIS_HOST_LINK_OVERCOMMITMENT\",\"METIS_MAX_CPU_OVERCOMMITMENT\", \"METIS_MAX_MEMORY_OVERCOMMITMENT\", \"METIS_MAX_LINK_OVERCOMMITMENT\",\n",
    "                  \"RANDOM_HOSTS\",\"RANDOM_HOST_CPU_OVERCOMMITMENT\", \"RANDOM_HOST_MEMORY_OVERCOMMITMENT\", \"RANDOM_HOST_LINK_OVERCOMMITMENT\",\"RANDOM_MAX_CPU_OVERCOMMITMENT\", \"RANDOM_MAX_MEMORY_OVERCOMMITMENT\", \"RANDOM_MAX_LINK_OVERCOMMITMENT\",\n",
    "                  \"ROUNDROBIN_HOSTS\",\"ROUNDROBIN_HOST_CPU_OVERCOMMITMENT\", \"ROUNDROBIN_HOST_MEMORY_OVERCOMMITMENT\", \"ROUNDROBIN_HOST_LINK_OVERCOMMITMENT\",\"ROUNDROBIN_MAX_CPU_OVERCOMMITMENT\", \"ROUNDROBIN_MAX_MEMORY_OVERCOMMITMENT\", \"ROUNDROBIN_MAX_LINK_OVERCOMMITMENT\",\n",
    "                  \"SWITCHBIN_HOSTS\", \"SWITCHBIN_HOST_CPU_OVERCOMMITMENT\", \"SWITCHBIN_HOST_MEMORY_OVERCOMMITMENT\", \"SWITCHBIN_HOST_LINK_OVERCOMMITMENT\",\"SWITCHBIN_MAX_CPU_OVERCOMMITMENT\", \"SWITCHBIN_MAX_MEMORY_OVERCOMMITMENT\", \"SWITCHBIN_MAX_LINK_OVERCOMMITMENT\"]\n",
    "\n",
    "\n",
    "\n",
    "\n",
    "\n",
    "\n",
    "\n",
    "experiment_key = namedtuple(\"experiment_key\", labels[:5])\n",
    "experiment_results= namedtuple(\"experiment_results\", labels[5:])\n",
    "e=experiment_key(2,2,4,2,2)\n",
    "clened_data={}\n",
    "with open('pkl/gros_forcing_hosts_fattree.csv') as File:\n",
    "    reader = csv.reader(File, delimiter=';', quotechar=',', quoting=csv.QUOTE_MINIMAL)\n",
    "    \n",
    "    for row in list(reader)[1:]:\n",
    "        #print(row)\n",
    "        key_= experiment_key(*[int(float(i.replace(\",\",\".\"))) for i in row[:5]])\n",
    "        #print(key_)\n",
    "        results_ = experiment_results(*[float(i.replace(\",\",\".\")) if i!=\"\" and float(i.replace(\",\",\".\")) >= 0 else -1 for i in row[5:]])\n",
    "        #print(results_)\n",
    "        clened_data[key_]=results_\n",
    "\n",
    "filtered_data=dict()\n",
    "for key in clened_data.keys():\n",
    "    if clened_data[key].EMBEDGREEDY_HOSTS>0:\n",
    "        filtered_data[key]=clened_data[key]\n",
    "print(len(clened_data.keys()))\n",
    "\n",
    "print(len(filtered_data.keys()))\n",
    "fattree_cleaned_data=clened_data"
   ]
  },
  {
   "cell_type": "code",
   "execution_count": 36,
   "metadata": {
    "pycharm": {
     "is_executing": true,
     "name": "#%%\n"
    }
   },
   "outputs": [
    {
     "name": "stdout",
     "output_type": "stream",
     "text": [
      "Embedded Greedy solved\n",
      "525\n",
      "-------------------------\n",
      "Metis solved without overcommitment\n",
      "312\n",
      "-------------------------\n",
      "Random solved without overcommitment\n",
      "176\n",
      "-------------------------\n",
      "RoundRobin solved without overcommitment\n",
      "506\n",
      "-------------------------\n",
      "SwitchBin solved without overcommitment\n",
      "168\n",
      "-------------------------\n",
      "All solution Marged\n",
      "525\n",
      "-------------------------\n",
      "All solution with solution for all the algos\n",
      "123\n",
      "-------------------------\n",
      "Embedded Greedy solved %\n",
      "100.0 %\n",
      "-------------------------\n",
      "Metis solved %\n",
      "59.42857142857143 %\n",
      "-------------------------\n",
      "Random solved %\n",
      "33.523809523809526 %\n",
      "-------------------------\n",
      "RoundRobin solved %\n",
      "96.38095238095238 %\n",
      "-------------------------\n",
      "SwitchBin solved %\n",
      "32.0 %\n",
      "-------------------------\n",
      "All algo solved %\n",
      "23.42857142857143 %\n",
      "-------------------------\n"
     ]
    }
   ],
   "source": [
    "print(\"Embedded Greedy solved\")\n",
    "fattree_eg_solved=list(filter(lambda x:clened_data[x].EMBEDGREEDY_HOSTS>0, clened_data.keys()))\n",
    "print(len(fattree_eg_solved))\n",
    "print(\"-------------------------\")\n",
    "\n",
    "\n",
    "print(\"Metis solved without overcommitment\")\n",
    "fattree_metis_solved=list(filter(lambda x:clened_data[x].METIS_HOST_CPU_OVERCOMMITMENT==0.0 and clened_data[x].METIS_HOST_MEMORY_OVERCOMMITMENT==0.0 and clened_data[x].METIS_HOST_LINK_OVERCOMMITMENT==0.0, clened_data.keys()))\n",
    "print(len(fattree_metis_solved))\n",
    "print(\"-------------------------\")\n",
    "\n",
    "print(\"Random solved without overcommitment\")\n",
    "fattree_random_solved=list(filter(lambda x:clened_data[x].RANDOM_HOST_CPU_OVERCOMMITMENT==0.0 and clened_data[x].RANDOM_HOST_MEMORY_OVERCOMMITMENT==0.0 and clened_data[x].RANDOM_HOST_LINK_OVERCOMMITMENT==0.0, clened_data.keys()))\n",
    "print(len(fattree_random_solved))\n",
    "print(\"-------------------------\")\n",
    "\n",
    "print(\"RoundRobin solved without overcommitment\")\n",
    "fattree_roundrobin_solved = list(filter(lambda x:clened_data[x].ROUNDROBIN_HOST_CPU_OVERCOMMITMENT==0.0 and clened_data[x].ROUNDROBIN_HOST_MEMORY_OVERCOMMITMENT==0.0 and clened_data[x].ROUNDROBIN_HOST_LINK_OVERCOMMITMENT==0.0, clened_data.keys()))\n",
    "print(len(fattree_roundrobin_solved))\n",
    "print(\"-------------------------\")\n",
    "\n",
    "print(\"SwitchBin solved without overcommitment\")\n",
    "fattree_switchBin_solved = list(filter(lambda x:clened_data[x].SWITCHBIN_HOST_CPU_OVERCOMMITMENT==0.0 and clened_data[x].SWITCHBIN_HOST_MEMORY_OVERCOMMITMENT==0.0 and clened_data[x].SWITCHBIN_HOST_LINK_OVERCOMMITMENT==0.0, clened_data.keys()))\n",
    "print(len(fattree_switchBin_solved))\n",
    "print(\"-------------------------\")\n",
    "\n",
    "print(\"All solution Marged\")\n",
    "fattree_all_solution_marged=set(fattree_eg_solved+fattree_metis_solved+fattree_random_solved+fattree_roundrobin_solved+fattree_switchBin_solved)\n",
    "print(len(fattree_all_solution_marged))\n",
    "print(\"-------------------------\")\n",
    "\n",
    "print(\"All solution with solution for all the algos\")\n",
    "fattree_instances_with_solution_for_all= fattree_all_solution_marged.intersection(set(fattree_eg_solved),set(fattree_metis_solved),set(fattree_random_solved),set(fattree_roundrobin_solved),set(fattree_switchBin_solved))\n",
    "print(len(fattree_instances_with_solution_for_all))\n",
    "print(\"-------------------------\")\n",
    "\n",
    "print(\"Embedded Greedy solved %\")\n",
    "print(len(fattree_eg_solved)/len(fattree_all_solution_marged) * 100,\"%\")\n",
    "print(\"-------------------------\")\n",
    "\n",
    "\n",
    "print(\"Metis solved %\")\n",
    "print(len(fattree_metis_solved)/len(fattree_all_solution_marged) * 100,\"%\")\n",
    "print(\"-------------------------\")\n",
    "\n",
    "print(\"Random solved %\")\n",
    "print(len(fattree_random_solved)/len(fattree_all_solution_marged) * 100,\"%\")\n",
    "print(\"-------------------------\")\n",
    "\n",
    "print(\"RoundRobin solved %\")\n",
    "print(len(fattree_roundrobin_solved)/len(fattree_all_solution_marged) * 100,\"%\")\n",
    "print(\"-------------------------\")\n",
    "\n",
    "print(\"SwitchBin solved %\")\n",
    "print(len(fattree_switchBin_solved)/len(fattree_all_solution_marged) * 100,\"%\")\n",
    "print(\"-------------------------\")\n",
    "\n",
    "print(\"All algo solved %\")\n",
    "print(len(fattree_instances_with_solution_for_all)/len(fattree_all_solution_marged) * 100,\"%\")\n",
    "print(\"-------------------------\")"
   ]
  },
  {
   "cell_type": "code",
   "execution_count": null,
   "metadata": {
    "pycharm": {
     "is_executing": true,
     "name": "#%%\n"
    }
   },
   "outputs": [],
   "source": []
  },
  {
   "cell_type": "code",
   "execution_count": null,
   "metadata": {
    "pycharm": {
     "is_executing": true,
     "name": "#%%\n"
    }
   },
   "outputs": [],
   "source": []
  },
  {
   "cell_type": "code",
   "execution_count": null,
   "metadata": {
    "pycharm": {
     "is_executing": true,
     "name": "#%%\n"
    }
   },
   "outputs": [],
   "source": []
  },
  {
   "cell_type": "code",
   "execution_count": null,
   "metadata": {
    "pycharm": {
     "is_executing": true,
     "name": "#%%\n"
    }
   },
   "outputs": [],
   "source": []
  },
  {
   "cell_type": "code",
   "execution_count": null,
   "metadata": {
    "pycharm": {
     "is_executing": true,
     "name": "#%%\n"
    }
   },
   "outputs": [],
   "source": []
  },
  {
   "cell_type": "code",
   "execution_count": null,
   "metadata": {
    "pycharm": {
     "is_executing": true,
     "name": "#%%\n"
    }
   },
   "outputs": [],
   "source": []
  },
  {
   "cell_type": "code",
   "execution_count": 37,
   "metadata": {
    "pycharm": {
     "is_executing": true,
     "name": "#%%\n"
    }
   },
   "outputs": [
    {
     "name": "stdout",
     "output_type": "stream",
     "text": [
      "[30.666666666666664, 53.9047619047619, 0.0, 58.666666666666664]\n"
     ]
    },
    {
     "data": {
      "text/plain": [
       "<Figure size 960x480 with 0 Axes>"
      ]
     },
     "metadata": {},
     "output_type": "display_data"
    },
    {
     "data": {
      "image/png": "[encoded data removed]",
      "text/plain": [
       "<Figure size 432x288 with 1 Axes>"
      ]
     },
     "metadata": {
      "needs_background": "light"
     },
     "output_type": "display_data"
    }
   ],
   "source": [
    "import matplotlib.pyplot as plt\n",
    "import numpy as np\n",
    "import matplotlib as mpl\n",
    "mpl.rcParams['text.usetex'] = True\n",
    "SPINE_COLOR = 'gray'\n",
    "import matplotlib.patches as mpatches\n",
    "\n",
    "n_cpu = [\n",
    "                  [fattree_cleaned_data[x].METIS_HOST_CPU_OVERCOMMITMENT for x in fattree_all_solution_marged],\n",
    "                  [fattree_cleaned_data[x].RANDOM_HOST_CPU_OVERCOMMITMENT for x in fattree_all_solution_marged],\n",
    "                  [fattree_cleaned_data[x].ROUNDROBIN_HOST_CPU_OVERCOMMITMENT for x in fattree_all_solution_marged],\n",
    "                  [fattree_cleaned_data[x].SWITCHBIN_HOST_CPU_OVERCOMMITMENT for x in fattree_all_solution_marged]]\n",
    "\n",
    "n_cpu=[list(filter(lambda x: x>0, l))for l in n_cpu]\n",
    "\n",
    "\n",
    "\n",
    "\n",
    "max_cpu = [\n",
    "                  [fattree_cleaned_data[x].METIS_MAX_CPU_OVERCOMMITMENT for x in fattree_all_solution_marged],\n",
    "                  [fattree_cleaned_data[x].RANDOM_MAX_CPU_OVERCOMMITMENT for x in fattree_all_solution_marged],\n",
    "                  [fattree_cleaned_data[x].ROUNDROBIN_MAX_CPU_OVERCOMMITMENT for x in fattree_all_solution_marged],\n",
    "                  [fattree_cleaned_data[x].SWITCHBIN_MAX_CPU_OVERCOMMITMENT for x in fattree_all_solution_marged]]\n",
    "\n",
    "max_cpu=[list(filter(lambda x: x>0, l))for l in max_cpu]\n",
    "\n",
    "\n",
    "\n",
    "ticks = [\"Metis\",\"Random\",\"RoundRobin\",\"SwitchBin\"]\n",
    "\n",
    "\n",
    "\n",
    "\n",
    "def set_box_color(bp, color):\n",
    "    plt.setp(bp['boxes'], color=color)\n",
    "    plt.setp(bp['whiskers'], color=color)\n",
    "    plt.setp(bp['caps'], color=color)\n",
    "    plt.setp(bp['medians'], color=color,linewidth=4)\n",
    "\n",
    "    \n",
    "plt.figure(num=None, figsize=(12, 6), dpi=80, facecolor='w', edgecolor='k')\n",
    "fig, ax = plt.subplots()\n",
    "\n",
    "\n",
    "b1 = plt.boxplot(n_cpu, positions=np.array(range(len(n_cpu)))*2.0-0.5, sym='', widths=0.6,whis=[0,100])\n",
    "b2 = plt.boxplot(max_cpu, positions=np.array(range(len(n_cpu)))*2.0+0.5, sym='', widths=0.6,whis=[0,100])\n",
    "\n",
    "\n",
    "color_b1=\"green\"\n",
    "color_b2=\"orange\"\n",
    "\n",
    "set_box_color(b1, color_b1) # colors are from http://colorbrewer2.org/\n",
    "set_box_color(b2, color_b2)\n",
    "ax.tick_params(axis='x', rotation=60)\n",
    "\n",
    "\n",
    "\n",
    "plt.axvline(x=1,color=\"black\")\n",
    "plt.axvline(x=3,color=\"black\")\n",
    "plt.axvline(x=5,color=\"black\")\n",
    "\n",
    "\n",
    "plt.xticks(list(range(0,len(ticks)*2+2,2)), [f'${i}$' for i in ticks])\n",
    "\n",
    "plt.tick_params(axis='both', labelsize=16)\n",
    "\n",
    "plt.grid(axis='y')\n",
    "plt.xlim(-1, 7)\n",
    "plt.ylim(1, 30000)\n",
    "plt.yscale(\"log\")\n",
    "\n",
    "\n",
    "lables_patchs = []\n",
    "font = {'family': 'serif',\n",
    "        'color':  'black',\n",
    "        'weight': 'normal',\n",
    "        'size': 16,\n",
    "        }\n",
    "\n",
    "add_patch = mpatches.Patch(color=color_b1, label=\"\\# Hosts\")\n",
    "lables_patchs.append(add_patch)\n",
    "\n",
    "add_patch = mpatches.Patch(color=color_b2, label=\"\\% CPU overcommitment\")\n",
    "lables_patchs.append(add_patch)\n",
    "lables = [\"\\# Hosts\",\"\\% CPU overcommitment\"]\n",
    "\n",
    "plt.xlabel(r'\\textbf{Algorithm}', fontsize=12)\n",
    "plt.legend(lables_patchs,lables, fontsize=14, ncol=2, loc=\"upper center\")\n",
    "\n",
    "\n",
    "ncpu_percentage = [len(x) for x in n_cpu]\n",
    "total_solutions = len(fattree_all_solution_marged)\n",
    "ncpu_percentage = [(x/total_solutions)*100 for x in ncpu_percentage]\n",
    "print(ncpu_percentage)\n",
    "font.update({'size':14})\n",
    "for c,x in enumerate(ncpu_percentage):\n",
    "    plt.text((c*2) - 0.45 , 35000, r'${:.2f}\\%$'.format(x), fontdict=font)\n",
    "\n",
    "font.update({'size':12})\n",
    "plt.text(-0.15, 70000, r'\\textbf{Percentage of instances with overcommitment}', fontdict=font)\n",
    "\n",
    "\n",
    "\n",
    "plt.savefig('Gros_CPU_Forced_overcommitment.pdf',bbox_inches='tight')"
   ]
  },
  {
   "cell_type": "code",
   "execution_count": 38,
   "metadata": {
    "pycharm": {
     "is_executing": true,
     "name": "#%%\n"
    }
   },
   "outputs": [
    {
     "name": "stdout",
     "output_type": "stream",
     "text": [
      "[9.333333333333334, 16.57142857142857, 0.0, 16.0]\n"
     ]
    },
    {
     "data": {
      "text/plain": [
       "<Figure size 960x480 with 0 Axes>"
      ]
     },
     "metadata": {},
     "output_type": "display_data"
    },
    {
     "data": {
      "image/png": "[encoded data removed]",
      "text/plain": [
       "<Figure size 432x288 with 1 Axes>"
      ]
     },
     "metadata": {
      "needs_background": "light"
     },
     "output_type": "display_data"
    }
   ],
   "source": [
    "import matplotlib.pyplot as plt\n",
    "import numpy as np\n",
    "import matplotlib as mpl\n",
    "mpl.rcParams['text.usetex'] = True\n",
    "SPINE_COLOR = 'gray'\n",
    "import matplotlib.patches as mpatches\n",
    "\n",
    "n_cpu = [\n",
    "                  [fattree_cleaned_data[x].METIS_HOST_MEMORY_OVERCOMMITMENT for x in fattree_all_solution_marged],\n",
    "                  [fattree_cleaned_data[x].RANDOM_HOST_MEMORY_OVERCOMMITMENT for x in fattree_all_solution_marged],\n",
    "                  [fattree_cleaned_data[x].ROUNDROBIN_HOST_MEMORY_OVERCOMMITMENT for x in fattree_all_solution_marged],\n",
    "                  [fattree_cleaned_data[x].SWITCHBIN_HOST_MEMORY_OVERCOMMITMENT for x in fattree_all_solution_marged]]\n",
    "\n",
    "n_cpu=[list(filter(lambda x: x>0, l))for l in n_cpu]\n",
    "\n",
    "\n",
    "\n",
    "\n",
    "max_cpu = [\n",
    "                  [fattree_cleaned_data[x].METIS_MAX_MEMORY_OVERCOMMITMENT for x in fattree_all_solution_marged],\n",
    "                  [fattree_cleaned_data[x].RANDOM_MAX_MEMORY_OVERCOMMITMENT for x in fattree_all_solution_marged],\n",
    "                  [fattree_cleaned_data[x].ROUNDROBIN_MAX_MEMORY_OVERCOMMITMENT for x in fattree_all_solution_marged],\n",
    "                  [fattree_cleaned_data[x].SWITCHBIN_MAX_MEMORY_OVERCOMMITMENT for x in fattree_all_solution_marged]]\n",
    "\n",
    "max_cpu=[list(filter(lambda x: x>0, l))for l in max_cpu]\n",
    "\n",
    "\n",
    "\n",
    "ticks = [\"Metis\",\"Random\",\"RoundRobin\",\"SwitchBin\"]\n",
    "\n",
    "\n",
    "\n",
    "\n",
    "def set_box_color(bp, color):\n",
    "    plt.setp(bp['boxes'], color=color)\n",
    "    plt.setp(bp['whiskers'], color=color)\n",
    "    plt.setp(bp['caps'], color=color)\n",
    "    plt.setp(bp['medians'], color=color,linewidth=4)\n",
    "\n",
    "    \n",
    "plt.figure(num=None, figsize=(12, 6), dpi=80, facecolor='w', edgecolor='k')\n",
    "fig, ax = plt.subplots()\n",
    "\n",
    "\n",
    "b1 = plt.boxplot(n_cpu, positions=np.array(range(len(n_cpu)))*2.0-0.5, sym='', widths=0.6,whis=[0,100])\n",
    "b2 = plt.boxplot(max_cpu, positions=np.array(range(len(n_cpu)))*2.0+0.5, sym='', widths=0.6,whis=[0,100])\n",
    "\n",
    "\n",
    "color_b1=\"green\"\n",
    "color_b2=\"orange\"\n",
    "\n",
    "set_box_color(b1, color_b1) # colors are from http://colorbrewer2.org/\n",
    "set_box_color(b2, color_b2)\n",
    "ax.tick_params(axis='x', rotation=60)\n",
    "\n",
    "\n",
    "\n",
    "plt.axvline(x=1,color=\"black\")\n",
    "plt.axvline(x=3,color=\"black\")\n",
    "plt.axvline(x=5,color=\"black\")\n",
    "\n",
    "\n",
    "plt.xticks(list(range(0,len(ticks)*2+2,2)), [f'${i}$' for i in ticks])\n",
    "\n",
    "plt.tick_params(axis='both', labelsize=16)\n",
    "\n",
    "plt.grid(axis='y')\n",
    "plt.xlim(-1, 7)\n",
    "plt.ylim(1, 30000)\n",
    "plt.yscale(\"log\")\n",
    "\n",
    "\n",
    "lables_patchs = []\n",
    "font = {'family': 'serif',\n",
    "        'color':  'black',\n",
    "        'weight': 'normal',\n",
    "        'size': 16,\n",
    "        }\n",
    "\n",
    "add_patch = mpatches.Patch(color=color_b1, label=\"\\# Hosts\")\n",
    "lables_patchs.append(add_patch)\n",
    "\n",
    "add_patch = mpatches.Patch(color=color_b2, label=\"\\% Memory overcommitment\")\n",
    "lables_patchs.append(add_patch)\n",
    "lables = [\"\\# Hosts\",\"\\% Memory overcommitment\"]\n",
    "\n",
    "plt.xlabel(r'\\textbf{Algorithm}', fontsize=12)\n",
    "plt.legend(lables_patchs,lables, fontsize=14, ncol=2, loc=\"upper center\")\n",
    "\n",
    "\n",
    "ncpu_percentage = [len(x) for x in n_cpu]\n",
    "total_solutions = len(fattree_all_solution_marged)\n",
    "ncpu_percentage = [(x/total_solutions)*100 for x in ncpu_percentage]\n",
    "print(ncpu_percentage)\n",
    "font.update({'size':14})\n",
    "for c,x in enumerate(ncpu_percentage):\n",
    "    plt.text((c*2) - 0.45 , 35000, r'${:.2f}\\%$'.format(x), fontdict=font)\n",
    "\n",
    "font.update({'size':12})\n",
    "plt.text(-0.15, 70000, r'\\textbf{Percentage of instances with overcommitment}', fontdict=font)\n",
    "\n",
    "\n",
    "\n",
    "plt.savefig('Gros_Memory_Forced_overcommitment.pdf',bbox_inches='tight')"
   ]
  },
  {
   "cell_type": "code",
   "execution_count": 39,
   "metadata": {
    "pycharm": {
     "is_executing": true,
     "name": "#%%\n"
    }
   },
   "outputs": [
    {
     "name": "stdout",
     "output_type": "stream",
     "text": [
      "[0.5714285714285714, 5.523809523809524, 3.619047619047619, 2.666666666666667]\n"
     ]
    },
    {
     "data": {
      "text/plain": [
       "<Figure size 960x480 with 0 Axes>"
      ]
     },
     "metadata": {},
     "output_type": "display_data"
    },
    {
     "data": {
      "image/png": "[encoded data removed]",
      "text/plain": [
       "<Figure size 432x288 with 1 Axes>"
      ]
     },
     "metadata": {
      "needs_background": "light"
     },
     "output_type": "display_data"
    }
   ],
   "source": [
    "import matplotlib.pyplot as plt\n",
    "import numpy as np\n",
    "import matplotlib as mpl\n",
    "mpl.rcParams['text.usetex'] = True\n",
    "SPINE_COLOR = 'gray'\n",
    "import matplotlib.patches as mpatches\n",
    "\n",
    "n_cpu = [\n",
    "                  [fattree_cleaned_data[x].METIS_HOST_LINK_OVERCOMMITMENT for x in fattree_all_solution_marged],\n",
    "                  [fattree_cleaned_data[x].RANDOM_HOST_LINK_OVERCOMMITMENT for x in fattree_all_solution_marged],\n",
    "                  [fattree_cleaned_data[x].ROUNDROBIN_HOST_LINK_OVERCOMMITMENT for x in fattree_all_solution_marged],\n",
    "                  [fattree_cleaned_data[x].SWITCHBIN_HOST_LINK_OVERCOMMITMENT for x in fattree_all_solution_marged]]\n",
    "\n",
    "n_cpu=[list(filter(lambda x: x>0, l))for l in n_cpu]\n",
    "#print(n_cpu[0])\n",
    "\n",
    "\n",
    "\n",
    "\n",
    "max_cpu = [\n",
    "                  [fattree_cleaned_data[x].METIS_MAX_LINK_OVERCOMMITMENT for x in fattree_all_solution_marged],\n",
    "                  [fattree_cleaned_data[x].RANDOM_MAX_LINK_OVERCOMMITMENT for x in fattree_all_solution_marged],\n",
    "                  [fattree_cleaned_data[x].ROUNDROBIN_MAX_LINK_OVERCOMMITMENT for x in fattree_all_solution_marged],\n",
    "                  [fattree_cleaned_data[x].SWITCHBIN_MAX_LINK_OVERCOMMITMENT for x in fattree_all_solution_marged]]\n",
    "\n",
    "max_cpu=[list(filter(lambda x: x>0, l))for l in max_cpu]\n",
    "\n",
    "\n",
    "\n",
    "ticks = [\"Metis\",\"Random\",\"RoundRobin\",\"SwitchBin\"]\n",
    "\n",
    "\n",
    "\n",
    "\n",
    "def set_box_color(bp, color):\n",
    "    plt.setp(bp['boxes'], color=color)\n",
    "    plt.setp(bp['whiskers'], color=color)\n",
    "    plt.setp(bp['caps'], color=color)\n",
    "    plt.setp(bp['medians'], color=color,linewidth=4)\n",
    "\n",
    "    \n",
    "plt.figure(num=None, figsize=(12, 6), dpi=80, facecolor='w', edgecolor='k')\n",
    "fig, ax = plt.subplots()\n",
    "\n",
    "\n",
    "b1 = plt.boxplot(n_cpu, positions=np.array(range(len(n_cpu)))*2.0-0.5, sym='', widths=0.6,whis=[0,100])\n",
    "b2 = plt.boxplot(max_cpu, positions=np.array(range(len(n_cpu)))*2.0+0.5, sym='', widths=0.6,whis=[0,100])\n",
    "\n",
    "\n",
    "color_b1=\"green\"\n",
    "color_b2=\"orange\"\n",
    "\n",
    "set_box_color(b1, color_b1) # colors are from http://colorbrewer2.org/\n",
    "set_box_color(b2, color_b2)\n",
    "ax.tick_params(axis='x', rotation=60)\n",
    "\n",
    "\n",
    "\n",
    "plt.axvline(x=1,color=\"black\")\n",
    "plt.axvline(x=3,color=\"black\")\n",
    "plt.axvline(x=5,color=\"black\")\n",
    "\n",
    "\n",
    "plt.xticks(list(range(0,len(ticks)*2+2,2)), [f'${i}$' for i in ticks])\n",
    "\n",
    "plt.tick_params(axis='both', labelsize=16)\n",
    "\n",
    "plt.grid(axis='y')\n",
    "plt.xlim(-1, 7)\n",
    "plt.ylim(1, 30000)\n",
    "plt.yscale(\"log\")\n",
    "\n",
    "\n",
    "lables_patchs = []\n",
    "font = {'family': 'serif',\n",
    "        'color':  'black',\n",
    "        'weight': 'normal',\n",
    "        'size': 16,\n",
    "        }\n",
    "\n",
    "add_patch = mpatches.Patch(color=color_b1, label=\"\\# Links\")\n",
    "lables_patchs.append(add_patch)\n",
    "\n",
    "add_patch = mpatches.Patch(color=color_b2, label=\"\\% Link overcommitment\")\n",
    "lables_patchs.append(add_patch)\n",
    "lables = [\"\\# Links\",\"\\% Link overcommitment\"]\n",
    "\n",
    "plt.xlabel(r'\\textbf{Algorithm}', fontsize=12)\n",
    "plt.legend(lables_patchs,lables, fontsize=14, ncol=2, loc=\"upper center\")\n",
    "\n",
    "\n",
    "ncpu_percentage = [len(x) for x in n_cpu]\n",
    "total_solutions = len(fattree_all_solution_marged)\n",
    "ncpu_percentage = [(x/total_solutions)*100 for x in ncpu_percentage]\n",
    "print(ncpu_percentage)\n",
    "font.update({'size':14})\n",
    "for c,x in enumerate(ncpu_percentage):\n",
    "    plt.text((c*2) - 0.45 , 35000, r'${:.2f}\\%$'.format(x), fontdict=font)\n",
    "\n",
    "font.update({'size':12})\n",
    "plt.text(-0.15, 70000, r'\\textbf{Percentage of instances with overcommitment}', fontdict=font)\n",
    "\n",
    "\n",
    "\n",
    "plt.savefig('Gros_Link_Forced_overcommitment.pdf',bbox_inches='tight')"
   ]
  },
  {
   "cell_type": "code",
   "execution_count": null,
   "metadata": {
    "pycharm": {
     "is_executing": true,
     "name": "#%%\n"
    }
   },
   "outputs": [],
   "source": []
  },
  {
   "cell_type": "code",
   "execution_count": null,
   "metadata": {
    "pycharm": {
     "is_executing": true,
     "name": "#%%\n"
    }
   },
   "outputs": [],
   "source": []
  },
  {
   "cell_type": "code",
   "execution_count": null,
   "metadata": {
    "pycharm": {
     "is_executing": true,
     "name": "#%%\n"
    }
   },
   "outputs": [],
   "source": []
  },
  {
   "cell_type": "code",
   "execution_count": null,
   "metadata": {
    "pycharm": {
     "is_executing": true,
     "name": "#%%\n"
    }
   },
   "outputs": [],
   "source": []
  },
  {
   "cell_type": "code",
   "execution_count": null,
   "metadata": {
    "pycharm": {
     "is_executing": true,
     "name": "#%%\n"
    }
   },
   "outputs": [],
   "source": []
  },
  {
   "cell_type": "code",
   "execution_count": 40,
   "metadata": {
    "pycharm": {
     "is_executing": true,
     "name": "#%%\n"
    }
   },
   "outputs": [
    {
     "name": "stdout",
     "output_type": "stream",
     "text": [
      "4500\n",
      "4500\n"
     ]
    }
   ],
   "source": [
    "import matplotlib.pyplot as plt\n",
    "from collections import namedtuple\n",
    "import numpy as np\n",
    "import csv\n",
    "from copy import deepcopy\n",
    "\n",
    "algorithms= [\"Metis\", \"EmbedBalanced\", \"EmbedPartition\",\n",
    "             \"EmbedGreedy\", \"RandomPlacer\",\"RoundRobin\",\n",
    "             \"SwitchBinPlacer\"]\n",
    "\n",
    "labels = ['N', 'DENSITY', 'SEED',\n",
    "                   \"EMBEDGREEDY_HOSTS\", \"EMBEDBALANCED_HOSTS\", \"EMBEDPARTITION_HOSTS\", \"METIS_HOSTS\",\n",
    "                  \"METIS_HOST_CPU_OVERCOMMITMENT\", \"METIS_HOST_MEMORY_OVERCOMMITMENT\", \"METIS_HOST_LINK_OVERCOMMITMENT\",\"METIS_MAX_CPU_OVERCOMMITMENT\", \"METIS_MAX_MEMORY_OVERCOMMITMENT\", \"METIS_MAX_LINK_OVERCOMMITMENT\",\n",
    "                  \"RANDOM_HOSTS\",\"RANDOM_HOST_CPU_OVERCOMMITMENT\", \"RANDOM_HOST_MEMORY_OVERCOMMITMENT\", \"RANDOM_HOST_LINK_OVERCOMMITMENT\",\"RANDOM_MAX_CPU_OVERCOMMITMENT\", \"RANDOM_MAX_MEMORY_OVERCOMMITMENT\", \"RANDOM_MAX_LINK_OVERCOMMITMENT\",\n",
    "                  \"ROUNDROBIN_HOSTS\",\"ROUNDROBIN_HOST_CPU_OVERCOMMITMENT\", \"ROUNDROBIN_HOST_MEMORY_OVERCOMMITMENT\", \"ROUNDROBIN_HOST_LINK_OVERCOMMITMENT\",\"ROUNDROBIN_MAX_CPU_OVERCOMMITMENT\", \"ROUNDROBIN_MAX_MEMORY_OVERCOMMITMENT\", \"ROUNDROBIN_MAX_LINK_OVERCOMMITMENT\",\n",
    "                  \"SWITCHBIN_HOSTS\", \"SWITCHBIN_HOST_CPU_OVERCOMMITMENT\", \"SWITCHBIN_HOST_MEMORY_OVERCOMMITMENT\", \"SWITCHBIN_HOST_LINK_OVERCOMMITMENT\",\"SWITCHBIN_MAX_CPU_OVERCOMMITMENT\", \"SWITCHBIN_MAX_MEMORY_OVERCOMMITMENT\", \"SWITCHBIN_MAX_LINK_OVERCOMMITMENT\"]\n",
    "\n",
    "\n",
    "\n",
    "\n",
    "experiment_key = namedtuple(\"experiment_key\", labels[:3])\n",
    "experiment_results= namedtuple(\"experiment_results\", labels[3:])\n",
    "e=experiment_key(2,0.1,4)\n",
    "clened_data={}\n",
    "with open('pkl/gros_forcing_hosts_random.csv') as File:\n",
    "    reader = csv.reader(File, delimiter=';', quotechar=',', quoting=csv.QUOTE_MINIMAL)\n",
    "    \n",
    "    for row in list(reader)[1:]:\n",
    "        #print(row)\n",
    "        key_= experiment_key(*[float(i.replace(\",\",\".\")) for i in row[:3]])\n",
    "        #print(key_)\n",
    "        results_ = experiment_results(*[float(i.replace(\",\",\".\")) if float(i.replace(\",\",\".\")) >= 0 else -1 for i in row[3:]])\n",
    "        #print(results_)\n",
    "        clened_data[key_]=results_\n",
    "\n",
    "filtered_data=dict()\n",
    "for key in clened_data.keys():\n",
    "    if clened_data[key].EMBEDGREEDY_HOSTS>0:\n",
    "        filtered_data[key]=clened_data[key]\n",
    "print(len(clened_data.keys()))\n",
    "\n",
    "print(len(filtered_data.keys()))\n",
    "\n",
    "random_cleaned_data=clened_data"
   ]
  },
  {
   "cell_type": "code",
   "execution_count": 41,
   "metadata": {
    "pycharm": {
     "is_executing": true,
     "name": "#%%\n"
    }
   },
   "outputs": [
    {
     "name": "stdout",
     "output_type": "stream",
     "text": [
      "Embedded Greedy solved\n",
      "4500\n",
      "-------------------------\n",
      "Embedded Balanced solved\n",
      "0\n",
      "-------------------------\n",
      "Embedded Partition solved\n",
      "0\n",
      "-------------------------\n",
      "Metis solved without overcommitment\n",
      "248\n",
      "-------------------------\n",
      "Random solved without overcommitment\n",
      "122\n",
      "-------------------------\n",
      "RoundRobin solved without overcommitment\n",
      "532\n",
      "-------------------------\n",
      "SwitchBin solved without overcommitment\n",
      "63\n",
      "-------------------------\n",
      "All solution Marged\n",
      "4500\n",
      "-------------------------\n",
      "All solution with solution for all the algos\n",
      "0\n",
      "-------------------------\n",
      "Embedded Greedy solved %\n",
      "100.0 %\n",
      "-------------------------\n",
      "Embedded Balanced solved %\n",
      "0.0 %\n",
      "-------------------------\n",
      "Embedded Partition solved %\n",
      "0.0 %\n",
      "-------------------------\n",
      "Metis solved %\n",
      "5.511111111111111 %\n",
      "-------------------------\n",
      "Random solved %\n",
      "2.711111111111111 %\n",
      "-------------------------\n",
      "RoundRobin solved %\n",
      "11.822222222222223 %\n",
      "-------------------------\n",
      "SwitchBin solved %\n",
      "1.4000000000000001 %\n",
      "-------------------------\n",
      "All algo solved %\n",
      "0.0 %\n",
      "-------------------------\n"
     ]
    }
   ],
   "source": [
    "print(\"Embedded Greedy solved\")\n",
    "random_eg_solved=list(filter(lambda x:clened_data[x].EMBEDGREEDY_HOSTS>0, clened_data.keys()))\n",
    "print(len(random_eg_solved))\n",
    "print(\"-------------------------\")\n",
    "\n",
    "print(\"Embedded Balanced solved\")\n",
    "random_eb_solved=list(filter(lambda x:clened_data[x].EMBEDBALANCED_HOSTS>0, clened_data.keys()))\n",
    "print(len(random_eb_solved))\n",
    "print(\"-------------------------\")\n",
    "\n",
    "print(\"Embedded Partition solved\")\n",
    "random_ep_solved=list(filter(lambda x:clened_data[x].EMBEDPARTITION_HOSTS>0, clened_data.keys()))\n",
    "print(len(random_ep_solved))\n",
    "print(\"-------------------------\")\n",
    "\n",
    "print(\"Metis solved without overcommitment\")\n",
    "random_metis_solved=list(filter(lambda x:clened_data[x].METIS_HOST_CPU_OVERCOMMITMENT==0.0 and clened_data[x].METIS_HOST_MEMORY_OVERCOMMITMENT==0.0 and clened_data[x].METIS_HOST_LINK_OVERCOMMITMENT==0.0, clened_data.keys()))\n",
    "print(len(random_metis_solved))\n",
    "print(\"-------------------------\")\n",
    "\n",
    "print(\"Random solved without overcommitment\")\n",
    "random_random_solved=list(filter(lambda x:clened_data[x].RANDOM_HOST_CPU_OVERCOMMITMENT==0.0 and clened_data[x].RANDOM_HOST_MEMORY_OVERCOMMITMENT==0.0 and clened_data[x].RANDOM_HOST_LINK_OVERCOMMITMENT==0.0, clened_data.keys()))\n",
    "print(len(random_random_solved))\n",
    "print(\"-------------------------\")\n",
    "\n",
    "print(\"RoundRobin solved without overcommitment\")\n",
    "random_roundrobin_solved = list(filter(lambda x:clened_data[x].ROUNDROBIN_HOST_CPU_OVERCOMMITMENT==0.0 and clened_data[x].ROUNDROBIN_HOST_MEMORY_OVERCOMMITMENT==0.0 and clened_data[x].ROUNDROBIN_HOST_LINK_OVERCOMMITMENT==0.0, clened_data.keys()))\n",
    "print(len(random_roundrobin_solved))\n",
    "print(\"-------------------------\")\n",
    "\n",
    "print(\"SwitchBin solved without overcommitment\")\n",
    "random_switchBin_solved = list(filter(lambda x:clened_data[x].SWITCHBIN_HOST_CPU_OVERCOMMITMENT==0.0 and clened_data[x].SWITCHBIN_HOST_MEMORY_OVERCOMMITMENT==0.0 and clened_data[x].SWITCHBIN_HOST_LINK_OVERCOMMITMENT==0.0, clened_data.keys()))\n",
    "print(len(random_switchBin_solved))\n",
    "print(\"-------------------------\")\n",
    "\n",
    "print(\"All solution Marged\")\n",
    "random_all_solution_marged=set(random_eg_solved+random_eb_solved+random_ep_solved+random_metis_solved+random_random_solved+random_roundrobin_solved+random_switchBin_solved)\n",
    "print(len(random_all_solution_marged))\n",
    "print(\"-------------------------\")\n",
    "\n",
    "print(\"All solution with solution for all the algos\")\n",
    "random_instances_with_solution_for_all= random_all_solution_marged.intersection(set(random_eg_solved),set(random_eb_solved),set(random_ep_solved),set(random_metis_solved),set(random_random_solved),set(random_roundrobin_solved),set(random_switchBin_solved))\n",
    "print(len(random_instances_with_solution_for_all))\n",
    "print(\"-------------------------\")\n",
    "\n",
    "\n",
    "\n",
    "print(\"Embedded Greedy solved %\")\n",
    "print(len(random_eg_solved)/len(random_all_solution_marged) * 100,\"%\")\n",
    "print(\"-------------------------\")\n",
    "\n",
    "print(\"Embedded Balanced solved %\")\n",
    "print(len(random_eb_solved)/len(random_all_solution_marged) * 100,\"%\")\n",
    "print(\"-------------------------\")\n",
    "\n",
    "print(\"Embedded Partition solved %\")\n",
    "print(len(random_ep_solved)/len(random_all_solution_marged) * 100,\"%\")\n",
    "print(\"-------------------------\")\n",
    "\n",
    "print(\"Metis solved %\")\n",
    "print(len(random_metis_solved)/len(random_all_solution_marged) * 100,\"%\")\n",
    "print(\"-------------------------\")\n",
    "\n",
    "print(\"Random solved %\")\n",
    "print(len(random_random_solved)/len(random_all_solution_marged) * 100,\"%\")\n",
    "print(\"-------------------------\")\n",
    "\n",
    "print(\"RoundRobin solved %\")\n",
    "print(len(random_roundrobin_solved)/len(random_all_solution_marged) * 100,\"%\")\n",
    "print(\"-------------------------\")\n",
    "\n",
    "print(\"SwitchBin solved %\")\n",
    "print(len(random_switchBin_solved)/len(random_all_solution_marged) * 100,\"%\")\n",
    "print(\"-------------------------\")\n",
    "\n",
    "print(\"All algo solved %\")\n",
    "print(len(random_instances_with_solution_for_all)/len(random_all_solution_marged) * 100,\"%\")\n",
    "print(\"-------------------------\")"
   ]
  },
  {
   "cell_type": "code",
   "execution_count": 42,
   "metadata": {
    "pycharm": {
     "is_executing": true,
     "name": "#%%\n"
    }
   },
   "outputs": [
    {
     "name": "stdout",
     "output_type": "stream",
     "text": [
      "[87.82089552238807, 92.75621890547264, 78.94527363184079, 94.40796019900498]\n"
     ]
    },
    {
     "data": {
      "text/plain": [
       "<Figure size 960x480 with 0 Axes>"
      ]
     },
     "metadata": {},
     "output_type": "display_data"
    },
    {
     "data": {
      "image/png": "[encoded data removed]",
      "text/plain": [
       "<Figure size 432x288 with 1 Axes>"
      ]
     },
     "metadata": {
      "needs_background": "light"
     },
     "output_type": "display_data"
    }
   ],
   "source": [
    "import matplotlib.pyplot as plt\n",
    "import numpy as np\n",
    "import matplotlib as mpl\n",
    "mpl.rcParams['text.usetex'] = True\n",
    "SPINE_COLOR = 'gray'\n",
    "import matplotlib.patches as mpatches\n",
    "\n",
    "n_cpu = [\n",
    "                  [fattree_cleaned_data[x].METIS_HOST_CPU_OVERCOMMITMENT for x in fattree_all_solution_marged]+[random_cleaned_data[x].METIS_HOST_CPU_OVERCOMMITMENT for x in random_all_solution_marged],\n",
    "                  [fattree_cleaned_data[x].RANDOM_HOST_CPU_OVERCOMMITMENT for x in fattree_all_solution_marged]+[random_cleaned_data[x].RANDOM_HOST_CPU_OVERCOMMITMENT for x in random_all_solution_marged],\n",
    "                  [fattree_cleaned_data[x].ROUNDROBIN_HOST_CPU_OVERCOMMITMENT for x in fattree_all_solution_marged]+[random_cleaned_data[x].ROUNDROBIN_HOST_CPU_OVERCOMMITMENT for x in random_all_solution_marged],\n",
    "                  [fattree_cleaned_data[x].SWITCHBIN_HOST_CPU_OVERCOMMITMENT for x in fattree_all_solution_marged]+[random_cleaned_data[x].SWITCHBIN_HOST_CPU_OVERCOMMITMENT for x in random_all_solution_marged]]\n",
    "\n",
    "n_cpu=[list(filter(lambda x: x>0, l))for l in n_cpu]\n",
    "\n",
    "\n",
    "\n",
    "\n",
    "max_cpu = [\n",
    "                  [fattree_cleaned_data[x].METIS_MAX_CPU_OVERCOMMITMENT for x in fattree_all_solution_marged]+[random_cleaned_data[x].METIS_MAX_CPU_OVERCOMMITMENT for x in random_all_solution_marged],\n",
    "                  [fattree_cleaned_data[x].RANDOM_MAX_CPU_OVERCOMMITMENT for x in fattree_all_solution_marged]+[random_cleaned_data[x].RANDOM_MAX_CPU_OVERCOMMITMENT for x in random_all_solution_marged],\n",
    "                  [fattree_cleaned_data[x].ROUNDROBIN_MAX_CPU_OVERCOMMITMENT for x in fattree_all_solution_marged]+[random_cleaned_data[x].ROUNDROBIN_MAX_CPU_OVERCOMMITMENT for x in random_all_solution_marged],\n",
    "                  [fattree_cleaned_data[x].SWITCHBIN_MAX_CPU_OVERCOMMITMENT for x in fattree_all_solution_marged]+[random_cleaned_data[x].SWITCHBIN_MAX_CPU_OVERCOMMITMENT for x in random_all_solution_marged]]\n",
    "\n",
    "max_cpu=[list(filter(lambda x: x>0, l))for l in max_cpu]\n",
    "\n",
    "\n",
    "\n",
    "ticks = [\"Metis\",\"Random\",\"RoundRobin\",\"SwitchBin\"]\n",
    "\n",
    "\n",
    "\n",
    "\n",
    "def set_box_color(bp, color):\n",
    "    plt.setp(bp['boxes'], color=color)\n",
    "    plt.setp(bp['whiskers'], color=color)\n",
    "    plt.setp(bp['caps'], color=color)\n",
    "    plt.setp(bp['medians'], color=color,linewidth=4)\n",
    "\n",
    "    \n",
    "plt.figure(num=None, figsize=(12, 6), dpi=80, facecolor='w', edgecolor='k')\n",
    "fig, ax = plt.subplots()\n",
    "\n",
    "\n",
    "b1 = plt.boxplot(n_cpu, positions=np.array(range(len(n_cpu)))*2.0-0.5, sym='', widths=0.6,whis=[0,100])\n",
    "b2 = plt.boxplot(max_cpu, positions=np.array(range(len(n_cpu)))*2.0+0.5, sym='', widths=0.6,whis=[0,100])\n",
    "\n",
    "\n",
    "color_b1=\"green\"\n",
    "color_b2=\"orange\"\n",
    "\n",
    "set_box_color(b1, color_b1) # colors are from http://colorbrewer2.org/\n",
    "set_box_color(b2, color_b2)\n",
    "ax.tick_params(axis='x', rotation=60)\n",
    "\n",
    "\n",
    "\n",
    "plt.axvline(x=1,color=\"black\")\n",
    "plt.axvline(x=3,color=\"black\")\n",
    "plt.axvline(x=5,color=\"black\")\n",
    "\n",
    "\n",
    "plt.xticks(list(range(0,len(ticks)*2+2,2)), [f'${i}$' for i in ticks])\n",
    "\n",
    "plt.tick_params(axis='both', labelsize=16)\n",
    "\n",
    "plt.grid(axis='y')\n",
    "plt.xlim(-1, 7)\n",
    "plt.ylim(1, 30000)\n",
    "plt.yscale(\"log\")\n",
    "\n",
    "\n",
    "lables_patchs = []\n",
    "font = {'family': 'serif',\n",
    "        'color':  'black',\n",
    "        'weight': 'normal',\n",
    "        'size': 16,\n",
    "        }\n",
    "\n",
    "add_patch = mpatches.Patch(color=color_b1, label=\"\\# Hosts\")\n",
    "lables_patchs.append(add_patch)\n",
    "\n",
    "add_patch = mpatches.Patch(color=color_b2, label=\"\\% CPU overcommitment\")\n",
    "lables_patchs.append(add_patch)\n",
    "lables = [\"\\# Hosts\",\"\\% CPU overcommitment\"]\n",
    "\n",
    "plt.xlabel(r'\\textbf{Algorithm}', fontsize=12)\n",
    "plt.legend(lables_patchs,lables, fontsize=14, ncol=2, loc=\"upper center\")\n",
    "\n",
    "\n",
    "ncpu_percentage = [len(x) for x in n_cpu]\n",
    "total_solutions = len(random_all_solution_marged) + len(fattree_all_solution_marged)\n",
    "ncpu_percentage = [(x/total_solutions)*100 for x in ncpu_percentage]\n",
    "print(ncpu_percentage)\n",
    "font.update({'size':14})\n",
    "for c,x in enumerate(ncpu_percentage):\n",
    "    plt.text((c*2) - 0.45 , 35000, r'${:.2f}\\%$'.format(x), fontdict=font)\n",
    "\n",
    "font.update({'size':12})\n",
    "plt.text(-0.15, 70000, r'\\textbf{Percentage of instances with overcommitment}', fontdict=font)\n",
    "\n",
    "\n",
    "\n",
    "plt.savefig('Gros_CPU_overcommitment_forced_all.pdf',bbox_inches='tight')"
   ]
  },
  {
   "cell_type": "code",
   "execution_count": 43,
   "metadata": {
    "pycharm": {
     "is_executing": true,
     "name": "#%%\n"
    }
   },
   "outputs": [
    {
     "name": "stdout",
     "output_type": "stream",
     "text": [
      "[2.3482587064676617, 8.0, 0.05970149253731343, 18.00995024875622]\n"
     ]
    },
    {
     "data": {
      "text/plain": [
       "<Figure size 960x480 with 0 Axes>"
      ]
     },
     "metadata": {},
     "output_type": "display_data"
    },
    {
     "data": {
      "image/png": "[encoded data removed]",
      "text/plain": [
       "<Figure size 432x288 with 1 Axes>"
      ]
     },
     "metadata": {
      "needs_background": "light"
     },
     "output_type": "display_data"
    }
   ],
   "source": [
    "import matplotlib.pyplot as plt\n",
    "import numpy as np\n",
    "import matplotlib as mpl\n",
    "mpl.rcParams['text.usetex'] = True\n",
    "SPINE_COLOR = 'gray'\n",
    "import matplotlib.patches as mpatches\n",
    "\n",
    "n_cpu = [\n",
    "                  [fattree_cleaned_data[x].METIS_HOST_MEMORY_OVERCOMMITMENT for x in fattree_all_solution_marged]+[random_cleaned_data[x].METIS_HOST_MEMORY_OVERCOMMITMENT for x in random_all_solution_marged],\n",
    "                  [fattree_cleaned_data[x].RANDOM_HOST_MEMORY_OVERCOMMITMENT for x in fattree_all_solution_marged]+[random_cleaned_data[x].RANDOM_HOST_MEMORY_OVERCOMMITMENT for x in random_all_solution_marged],\n",
    "                  [fattree_cleaned_data[x].ROUNDROBIN_HOST_MEMORY_OVERCOMMITMENT for x in fattree_all_solution_marged]+[random_cleaned_data[x].ROUNDROBIN_HOST_MEMORY_OVERCOMMITMENT for x in random_all_solution_marged],\n",
    "                  [fattree_cleaned_data[x].SWITCHBIN_HOST_MEMORY_OVERCOMMITMENT for x in fattree_all_solution_marged]+[random_cleaned_data[x].SWITCHBIN_HOST_MEMORY_OVERCOMMITMENT for x in random_all_solution_marged]]\n",
    "\n",
    "n_cpu=[list(filter(lambda x: x>0, l))for l in n_cpu]\n",
    "\n",
    "\n",
    "\n",
    "\n",
    "max_cpu = [\n",
    "                  [fattree_cleaned_data[x].METIS_MAX_MEMORY_OVERCOMMITMENT for x in fattree_all_solution_marged]+[random_cleaned_data[x].METIS_MAX_MEMORY_OVERCOMMITMENT for x in random_all_solution_marged],\n",
    "                  [fattree_cleaned_data[x].RANDOM_MAX_MEMORY_OVERCOMMITMENT for x in fattree_all_solution_marged]+[random_cleaned_data[x].RANDOM_MAX_MEMORY_OVERCOMMITMENT for x in random_all_solution_marged],\n",
    "                  [fattree_cleaned_data[x].ROUNDROBIN_MAX_MEMORY_OVERCOMMITMENT for x in fattree_all_solution_marged]+[random_cleaned_data[x].ROUNDROBIN_MAX_MEMORY_OVERCOMMITMENT for x in random_all_solution_marged],\n",
    "                  [fattree_cleaned_data[x].SWITCHBIN_MAX_MEMORY_OVERCOMMITMENT for x in fattree_all_solution_marged]+[random_cleaned_data[x].SWITCHBIN_MAX_MEMORY_OVERCOMMITMENT for x in random_all_solution_marged]]\n",
    "\n",
    "max_cpu=[list(filter(lambda x: x>0, l))for l in max_cpu]\n",
    "\n",
    "\n",
    "\n",
    "ticks = [\"Metis\",\"Random\",\"RoundRobin\",\"SwitchBin\"]\n",
    "\n",
    "\n",
    "\n",
    "\n",
    "def set_box_color(bp, color):\n",
    "    plt.setp(bp['boxes'], color=color)\n",
    "    plt.setp(bp['whiskers'], color=color)\n",
    "    plt.setp(bp['caps'], color=color)\n",
    "    plt.setp(bp['medians'], color=color,linewidth=4)\n",
    "\n",
    "    \n",
    "plt.figure(num=None, figsize=(12, 6), dpi=80, facecolor='w', edgecolor='k')\n",
    "fig, ax = plt.subplots()\n",
    "\n",
    "\n",
    "b1 = plt.boxplot(n_cpu, positions=np.array(range(len(n_cpu)))*2.0-0.5, sym='', widths=0.6,whis=[0,100])\n",
    "b2 = plt.boxplot(max_cpu, positions=np.array(range(len(n_cpu)))*2.0+0.5, sym='', widths=0.6,whis=[0,100])\n",
    "\n",
    "\n",
    "color_b1=\"green\"\n",
    "color_b2=\"orange\"\n",
    "\n",
    "set_box_color(b1, color_b1) # colors are from http://colorbrewer2.org/\n",
    "set_box_color(b2, color_b2)\n",
    "ax.tick_params(axis='x', rotation=60)\n",
    "\n",
    "\n",
    "\n",
    "plt.axvline(x=1,color=\"black\")\n",
    "plt.axvline(x=3,color=\"black\")\n",
    "plt.axvline(x=5,color=\"black\")\n",
    "\n",
    "\n",
    "plt.xticks(list(range(0,len(ticks)*2+2,2)), [f'${i}$' for i in ticks])\n",
    "\n",
    "plt.tick_params(axis='both', labelsize=16)\n",
    "\n",
    "plt.grid(axis='y')\n",
    "plt.xlim(-1, 7)\n",
    "plt.ylim(1, 30000)\n",
    "plt.yscale(\"log\")\n",
    "\n",
    "\n",
    "lables_patchs = []\n",
    "font = {'family': 'serif',\n",
    "        'color':  'black',\n",
    "        'weight': 'normal',\n",
    "        'size': 16,\n",
    "        }\n",
    "\n",
    "add_patch = mpatches.Patch(color=color_b1, label=\"\\# Hosts\")\n",
    "lables_patchs.append(add_patch)\n",
    "\n",
    "add_patch = mpatches.Patch(color=color_b2, label=\"\\% Memory overcommitment\")\n",
    "lables_patchs.append(add_patch)\n",
    "lables = [\"\\# Hosts\",\"\\% Memory overcommitment\"]\n",
    "\n",
    "plt.xlabel(r'\\textbf{Algorithm}', fontsize=12)\n",
    "plt.legend(lables_patchs,lables, fontsize=14, ncol=2, loc=\"upper center\")\n",
    "\n",
    "\n",
    "ncpu_percentage = [len(x) for x in n_cpu]\n",
    "total_solutions = len(random_all_solution_marged) + len(fattree_all_solution_marged)\n",
    "ncpu_percentage = [(x/total_solutions)*100 for x in ncpu_percentage]\n",
    "print(ncpu_percentage)\n",
    "font.update({'size':14})\n",
    "for c,x in enumerate(ncpu_percentage):\n",
    "    plt.text((c*2) - 0.45 , 35000, r'${:.2f}\\%$'.format(x), fontdict=font)\n",
    "\n",
    "font.update({'size':12})\n",
    "plt.text(-0.15, 70000, r'\\textbf{Percentage of instances with overcommitment}', fontdict=font)\n",
    "\n",
    "\n",
    "\n",
    "plt.savefig('Gros_Memory_overcommitment_forced_all.pdf',bbox_inches='tight')\n",
    "\n",
    "\n",
    "#plt.show()"
   ]
  },
  {
   "cell_type": "code",
   "execution_count": 44,
   "metadata": {
    "pycharm": {
     "is_executing": true,
     "name": "#%%\n"
    }
   },
   "outputs": [
    {
     "name": "stdout",
     "output_type": "stream",
     "text": [
      "[0.05970149253731343, 0.5771144278606966, 0.3781094527363184, 0.27860696517412936]\n"
     ]
    },
    {
     "data": {
      "text/plain": [
       "<Figure size 960x480 with 0 Axes>"
      ]
     },
     "metadata": {},
     "output_type": "display_data"
    },
    {
     "data": {
      "image/png": "[encoded data removed]",
      "text/plain": [
       "<Figure size 432x288 with 1 Axes>"
      ]
     },
     "metadata": {
      "needs_background": "light"
     },
     "output_type": "display_data"
    }
   ],
   "source": [
    "import matplotlib.pyplot as plt\n",
    "import numpy as np\n",
    "import matplotlib as mpl\n",
    "mpl.rcParams['text.usetex'] = True\n",
    "SPINE_COLOR = 'gray'\n",
    "import matplotlib.patches as mpatches\n",
    "\n",
    "n_cpu = [\n",
    "                  [fattree_cleaned_data[x].METIS_HOST_LINK_OVERCOMMITMENT for x in fattree_all_solution_marged]+[random_cleaned_data[x].METIS_HOST_LINK_OVERCOMMITMENT for x in random_all_solution_marged],\n",
    "                  [fattree_cleaned_data[x].RANDOM_HOST_LINK_OVERCOMMITMENT for x in fattree_all_solution_marged]+[random_cleaned_data[x].RANDOM_HOST_LINK_OVERCOMMITMENT for x in random_all_solution_marged],\n",
    "                  [fattree_cleaned_data[x].ROUNDROBIN_HOST_LINK_OVERCOMMITMENT for x in fattree_all_solution_marged]+[random_cleaned_data[x].ROUNDROBIN_HOST_LINK_OVERCOMMITMENT for x in random_all_solution_marged],\n",
    "                  [fattree_cleaned_data[x].SWITCHBIN_HOST_LINK_OVERCOMMITMENT for x in fattree_all_solution_marged]+[random_cleaned_data[x].SWITCHBIN_HOST_LINK_OVERCOMMITMENT for x in random_all_solution_marged]]\n",
    "\n",
    "n_cpu=[list(filter(lambda x: x>0, l))for l in n_cpu]\n",
    "#print(n_cpu[0])\n",
    "\n",
    "\n",
    "\n",
    "\n",
    "max_cpu = [\n",
    "                  [fattree_cleaned_data[x].METIS_MAX_LINK_OVERCOMMITMENT for x in fattree_all_solution_marged]+[random_cleaned_data[x].METIS_MAX_LINK_OVERCOMMITMENT for x in random_all_solution_marged],\n",
    "                  [fattree_cleaned_data[x].RANDOM_MAX_LINK_OVERCOMMITMENT for x in fattree_all_solution_marged]+[random_cleaned_data[x].RANDOM_MAX_LINK_OVERCOMMITMENT for x in random_all_solution_marged],\n",
    "                  [fattree_cleaned_data[x].ROUNDROBIN_MAX_LINK_OVERCOMMITMENT for x in fattree_all_solution_marged]+[random_cleaned_data[x].ROUNDROBIN_MAX_LINK_OVERCOMMITMENT for x in random_all_solution_marged],\n",
    "                  [fattree_cleaned_data[x].SWITCHBIN_MAX_LINK_OVERCOMMITMENT for x in fattree_all_solution_marged]+[random_cleaned_data[x].SWITCHBIN_MAX_LINK_OVERCOMMITMENT for x in random_all_solution_marged]]\n",
    "\n",
    "max_cpu=[list(filter(lambda x: x>0, l))for l in max_cpu]\n",
    "\n",
    "\n",
    "\n",
    "ticks = [\"Metis\",\"Random\",\"RoundRobin\",\"SwitchBin\"]\n",
    "\n",
    "\n",
    "\n",
    "\n",
    "def set_box_color(bp, color):\n",
    "    plt.setp(bp['boxes'], color=color)\n",
    "    plt.setp(bp['whiskers'], color=color)\n",
    "    plt.setp(bp['caps'], color=color)\n",
    "    plt.setp(bp['medians'], color=color,linewidth=4)\n",
    "\n",
    "    \n",
    "plt.figure(num=None, figsize=(12, 6), dpi=80, facecolor='w', edgecolor='k')\n",
    "fig, ax = plt.subplots()\n",
    "\n",
    "\n",
    "b1 = plt.boxplot(n_cpu, positions=np.array(range(len(n_cpu)))*2.0-0.5, sym='', widths=0.6,whis=[0,100])\n",
    "b2 = plt.boxplot(max_cpu, positions=np.array(range(len(n_cpu)))*2.0+0.5, sym='', widths=0.6,whis=[0,100])\n",
    "\n",
    "\n",
    "color_b1=\"green\"\n",
    "color_b2=\"orange\"\n",
    "\n",
    "set_box_color(b1, color_b1) # colors are from http://colorbrewer2.org/\n",
    "set_box_color(b2, color_b2)\n",
    "ax.tick_params(axis='x', rotation=60)\n",
    "\n",
    "\n",
    "\n",
    "plt.axvline(x=1,color=\"black\")\n",
    "plt.axvline(x=3,color=\"black\")\n",
    "plt.axvline(x=5,color=\"black\")\n",
    "\n",
    "\n",
    "plt.xticks(list(range(0,len(ticks)*2+2,2)), [f'${i}$' for i in ticks])\n",
    "\n",
    "plt.tick_params(axis='both', labelsize=16)\n",
    "\n",
    "plt.grid(axis='y')\n",
    "plt.xlim(-1, 7)\n",
    "plt.ylim(1, 30000)\n",
    "plt.yscale(\"log\")\n",
    "\n",
    "\n",
    "lables_patchs = []\n",
    "font = {'family': 'serif',\n",
    "        'color':  'black',\n",
    "        'weight': 'normal',\n",
    "        'size': 16,\n",
    "        }\n",
    "\n",
    "add_patch = mpatches.Patch(color=color_b1, label=\"\\# Links\")\n",
    "lables_patchs.append(add_patch)\n",
    "\n",
    "add_patch = mpatches.Patch(color=color_b2, label=\"\\% Link overcommitment\")\n",
    "lables_patchs.append(add_patch)\n",
    "lables = [\"\\# Links\",\"\\% Link overcommitment\"]\n",
    "\n",
    "plt.xlabel(r'\\textbf{Algorithm}', fontsize=12)\n",
    "plt.legend(lables_patchs,lables, fontsize=14, ncol=2, loc=\"upper center\")\n",
    "\n",
    "\n",
    "ncpu_percentage = [len(x) for x in n_cpu]\n",
    "total_solutions = len(random_all_solution_marged) + len(fattree_all_solution_marged)\n",
    "ncpu_percentage = [(x/total_solutions)*100 for x in ncpu_percentage]\n",
    "print(ncpu_percentage)\n",
    "font.update({'size':14})\n",
    "for c,x in enumerate(ncpu_percentage):\n",
    "    plt.text((c*2) - 0.45 , 35000, r'${:.2f}\\%$'.format(x), fontdict=font)\n",
    "\n",
    "font.update({'size':12})\n",
    "plt.text(-0.15, 70000, r'\\textbf{Percentage of instances with overcommitment}', fontdict=font)\n",
    "\n",
    "\n",
    "\n",
    "\n",
    "\n",
    "plt.savefig('Gros_Link_overcommitment_forced_all.pdf',bbox_inches='tight')"
   ]
  },
  {
   "cell_type": "code",
   "execution_count": null,
   "metadata": {
    "pycharm": {
     "is_executing": true,
     "name": "#%%\n"
    }
   },
   "outputs": [],
   "source": []
  },
  {
   "cell_type": "code",
   "execution_count": null,
   "metadata": {
    "pycharm": {
     "is_executing": true,
     "name": "#%%\n"
    }
   },
   "outputs": [],
   "source": []
  },
  {
   "cell_type": "code",
   "execution_count": null,
   "metadata": {
    "pycharm": {
     "is_executing": true,
     "name": "#%%\n"
    }
   },
   "outputs": [],
   "source": []
  },
  {
   "cell_type": "code",
   "execution_count": null,
   "metadata": {
    "pycharm": {
     "is_executing": true,
     "name": "#%%\n"
    }
   },
   "outputs": [],
   "source": []
  },
  {
   "cell_type": "code",
   "execution_count": null,
   "metadata": {
    "pycharm": {
     "is_executing": true,
     "name": "#%%\n"
    }
   },
   "outputs": [],
   "source": []
  },
  {
   "cell_type": "code",
   "execution_count": null,
   "metadata": {
    "pycharm": {
     "is_executing": true,
     "name": "#%%\n"
    }
   },
   "outputs": [],
   "source": []
  }
 ],
 "metadata": {
  "kernelspec": {
   "display_name": "Python 3",
   "language": "python",
   "name": "python3"
  },
  "language_info": {
   "codemirror_mode": {
    "name": "ipython",
    "version": 3
   },
   "file_extension": ".py",
   "mimetype": "text/x-python",
   "name": "python",
   "nbconvert_exporter": "python",
   "pygments_lexer": "ipython3",
   "version": "3.7.3"
  }
 },
 "nbformat": 4,
 "nbformat_minor": 2
}